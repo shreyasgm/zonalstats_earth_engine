{
 "cells": [
  {
   "cell_type": "code",
   "execution_count": null,
   "source": [
    "import yaml\n",
    "import geopandas as gpd\n",
    "\n",
    "from tqdm import tqdm\n",
    "\n",
    "import os\n",
    "import sys\n",
    "module_path = os.path.abspath(os.path.join('..'))\n",
    "if module_path not in sys.path:\n",
    "    sys.path.append(module_path)\n",
    "\n",
    "from projections import raster"
   ],
   "outputs": [],
   "metadata": {}
  },
  {
   "cell_type": "code",
   "execution_count": 2,
   "source": [
    "def find_key(country, keys):\n",
    "    for key in keys:\n",
    "        if country in key:\n",
    "            return key\n",
    "\n",
    "with open('../Data/Countries_edited.yml') as f:\n",
    "    countries = yaml.safe_load(f)\n",
    "\n",
    "codes = {'ESP', 'PRT'}\n",
    "for country in countries:\n",
    "    if country.get('continent') == 'Africa':\n",
    "        codes.add(country['iso3'][0])\n",
    "        \n",
    "tribes = gpd.read_file('../Shapefiles/Ethnic/borders_tribes.shp')\n",
    "\n",
    "country_lowest = {}\n",
    "extra_countries = [['SSD', 'SDN']]\n",
    "shps = ['../Shapefiles/GADM/gadm36_0.shp', '../Shapefiles/GADM/gadm36_1.shp', '../Shapefiles/GADM/gadm36_2.shp']\n",
    "for i, shp in enumerate(shps):\n",
    "    print(f'adm{i}')\n",
    "    adm = gpd.read_file(shp)\n",
    "    adm = adm[adm['GID_0'].apply(lambda x: x in codes)]\n",
    "    \n",
    "    # Add extra countries\n",
    "    print('Adding extra countries')\n",
    "    for country_set in extra_countries:\n",
    "        ngdf = adm[adm['GID_0'].apply(lambda x: x in country_set)].copy()\n",
    "        if ngdf.empty:\n",
    "            continue\n",
    "        \n",
    "        code = '-'.join(country_set)\n",
    "        codes.add(code)\n",
    "        \n",
    "        ngdf['GID_0'] = code\n",
    "        ngdf = ngdf.dissolve(by='GID_0').reset_index()\n",
    "        adm = adm.append(ngdf, ignore_index=True)\n",
    "    \n",
    "    # Update lowest\n",
    "    for code in codes:\n",
    "        country = adm[adm['GID_0'] == code]\n",
    "        if not country.empty:\n",
    "            country_lowest[code] = country\n",
    "        \n",
    "    # Find intersections\n",
    "    pieces = []\n",
    "    for code, country in tqdm(country_lowest.items(), desc='Intersecting'):\n",
    "        # Join to tribes and find intersection\n",
    "        inter = gpd.sjoin(tribes, country, how='inner', op='intersects')\n",
    "        inter.set_index('index_right', inplace=True)\n",
    "        inter['geometry_tribe'] = inter['geometry']\n",
    "        inter['geometry_adm'] = country['geometry']\n",
    "        inter['geometry'] = inter['geometry'].intersection(inter['geometry_adm'])\n",
    "\n",
    "        inter['area_tribe'] = inter['geometry_tribe'].to_crs(epsg=3035).area\n",
    "        inter['area_adm'] = inter['geometry_adm'].to_crs(epsg=3035).area\n",
    "        inter['area_intersection'] = inter['geometry'].to_crs(epsg=3035).area\n",
    "\n",
    "        # Clean up\n",
    "        inter.reset_index(drop=True, inplace=True)\n",
    "        inter.drop(columns=['geometry_adm', 'geometry_tribe'], \n",
    "                   inplace=True)\n",
    "        pieces.append(inter)\n",
    "        \n",
    "    # Append and save\n",
    "    gdf = pieces[0].append(pieces[1:])\n",
    "    del pieces\n",
    "    gdf.to_file(f'../Shapefiles/ethnic_preprocessed/tribe_adm{i}.shp')\n",
    "    gdf.drop(columns='geometry').to_csv(f'../Shapefiles/ethnic_preprocessed/tribe_adm{i}.csv', \n",
    "                                        index=False)"
   ],
   "outputs": [
    {
     "output_type": "stream",
     "name": "stdout",
     "text": [
      "adm0\n",
      "Adding extra countries\n"
     ]
    },
    {
     "output_type": "stream",
     "name": "stderr",
     "text": [
      "Intersecting: 100%|██████████| 58/58 [08:56<00:00,  9.25s/it]\n",
      "<ipython-input-2-c8475070a577>:67: UserWarning: Column names longer than 10 characters will be truncated when saved to ESRI Shapefile.\n",
      "  gdf.to_file(f'../Shapefiles/ethnic_preprocessed/tribe_adm{i}.shp')\n"
     ]
    },
    {
     "output_type": "stream",
     "name": "stdout",
     "text": [
      "adm1\n",
      "Adding extra countries\n"
     ]
    },
    {
     "output_type": "stream",
     "name": "stderr",
     "text": [
      "Intersecting: 100%|██████████| 58/58 [03:47<00:00,  3.92s/it]\n",
      "<ipython-input-2-c8475070a577>:67: UserWarning: Column names longer than 10 characters will be truncated when saved to ESRI Shapefile.\n",
      "  gdf.to_file(f'../Shapefiles/ethnic_preprocessed/tribe_adm{i}.shp')\n"
     ]
    },
    {
     "output_type": "stream",
     "name": "stdout",
     "text": [
      "adm2\n",
      "Adding extra countries\n"
     ]
    },
    {
     "output_type": "stream",
     "name": "stderr",
     "text": [
      "Intersecting: 100%|██████████| 58/58 [03:47<00:00,  3.92s/it]\n",
      "<ipython-input-2-c8475070a577>:67: UserWarning: Column names longer than 10 characters will be truncated when saved to ESRI Shapefile.\n",
      "  gdf.to_file(f'../Shapefiles/ethnic_preprocessed/tribe_adm{i}.shp')\n"
     ]
    }
   ],
   "metadata": {}
  },
  {
   "cell_type": "markdown",
   "source": [
    "# Split version"
   ],
   "metadata": {}
  },
  {
   "cell_type": "code",
   "execution_count": 3,
   "source": [
    "# Also save a shp version\n",
    "gdf = gpd.read_file('../Shapefiles/ethnic_preprocessed/tribe_adm0.shp')\n",
    "\n",
    "# Split big shapes\n",
    "gdf['portion'] = None\n",
    "new_rows = []\n",
    "for idx, row in tqdm(gdf.copy().iterrows(), total=gdf.shape[0], desc='Splitting'):\n",
    "    area = raster.get_bounding_box_area(row['geometry'])\n",
    "    if area > 10:\n",
    "        cutted_geometry = raster.quadrat_cut_geometry(row['geometry'], quadrat_width=1)\n",
    "        for i, geometry in enumerate(cutted_geometry):\n",
    "            new_row = row.copy()\n",
    "            new_row['geometry'] = geometry\n",
    "            new_row['portion'] = i\n",
    "            new_rows.append(new_row)\n",
    "        gdf.drop(index=idx, inplace=True)\n",
    "        \n",
    "if new_rows:\n",
    "    gdf = gdf.append(new_rows)\n",
    "    \n",
    "print(gdf.shape)\n",
    "print(gdf['portion'].max())\n",
    "\n",
    "gdf.to_file('../Shapefiles/ethnic_preprocessed/tribe_adm0_s.shp')"
   ],
   "outputs": [],
   "metadata": {}
  }
 ],
 "metadata": {
  "kernelspec": {
   "display_name": "Python 3 (ipykernel)",
   "language": "python",
   "name": "python3"
  },
  "language_info": {
   "codemirror_mode": {
    "name": "ipython",
    "version": 3
   },
   "file_extension": ".py",
   "mimetype": "text/x-python",
   "name": "python",
   "nbconvert_exporter": "python",
   "pygments_lexer": "ipython3",
   "version": "3.8.10"
  }
 },
 "nbformat": 4,
 "nbformat_minor": 4
}