{
 "cells": [
  {
   "cell_type": "code",
   "execution_count": null,
   "source": [
    "import geopandas as gpd\n",
    "import pandas as pd\n",
    "from pathlib import Path\n",
    "\n",
    "import os\n",
    "import sys\n",
    "module_path = os.path.abspath(os.path.join('..'))\n",
    "if module_path not in sys.path:\n",
    "    sys.path.append(module_path)\n",
    "    \n",
    "from projections.modis import HDF, one_hot_encode\n",
    "from projections.raster import include_rectangular_raster"
   ],
   "outputs": [],
   "metadata": {}
  },
  {
   "cell_type": "code",
   "execution_count": 2,
   "source": [
    "path = Path('../Data/LandForestType/MCD12Q1.A2001001.h10v08.006.2018142183624.hdf')\n",
    "hdf = HDF()\n",
    "gdf = hdf.read_geopandas(path)\n",
    "gdf.head()"
   ],
   "outputs": [
    {
     "output_type": "execute_result",
     "data": {
      "text/html": [
       "<div>\n",
       "<style scoped>\n",
       "    .dataframe tbody tr th:only-of-type {\n",
       "        vertical-align: middle;\n",
       "    }\n",
       "\n",
       "    .dataframe tbody tr th {\n",
       "        vertical-align: top;\n",
       "    }\n",
       "\n",
       "    .dataframe thead th {\n",
       "        text-align: right;\n",
       "    }\n",
       "</style>\n",
       "<table border=\"1\" class=\"dataframe\">\n",
       "  <thead>\n",
       "    <tr style=\"text-align: right;\">\n",
       "      <th></th>\n",
       "      <th>LC_Type1</th>\n",
       "      <th>LC_Type2</th>\n",
       "      <th>LC_Type3</th>\n",
       "      <th>LC_Type4</th>\n",
       "      <th>LC_Type5</th>\n",
       "      <th>LC_Prop1_Assessment</th>\n",
       "      <th>LC_Prop2_Assessment</th>\n",
       "      <th>LC_Prop3_Assessment</th>\n",
       "      <th>LC_Prop1</th>\n",
       "      <th>LC_Prop2</th>\n",
       "      <th>LC_Prop3</th>\n",
       "      <th>QC</th>\n",
       "      <th>LW</th>\n",
       "      <th>geometry</th>\n",
       "    </tr>\n",
       "  </thead>\n",
       "  <tbody>\n",
       "    <tr>\n",
       "      <th>0</th>\n",
       "      <td>17</td>\n",
       "      <td>0</td>\n",
       "      <td>0</td>\n",
       "      <td>0</td>\n",
       "      <td>0</td>\n",
       "      <td>255</td>\n",
       "      <td>255</td>\n",
       "      <td>255</td>\n",
       "      <td>3</td>\n",
       "      <td>3</td>\n",
       "      <td>3</td>\n",
       "      <td>3</td>\n",
       "      <td>1</td>\n",
       "      <td>POINT (-85.13422 20.00000)</td>\n",
       "    </tr>\n",
       "    <tr>\n",
       "      <th>1</th>\n",
       "      <td>17</td>\n",
       "      <td>0</td>\n",
       "      <td>0</td>\n",
       "      <td>0</td>\n",
       "      <td>0</td>\n",
       "      <td>255</td>\n",
       "      <td>255</td>\n",
       "      <td>255</td>\n",
       "      <td>3</td>\n",
       "      <td>3</td>\n",
       "      <td>3</td>\n",
       "      <td>3</td>\n",
       "      <td>1</td>\n",
       "      <td>POINT (-85.12979 20.00000)</td>\n",
       "    </tr>\n",
       "    <tr>\n",
       "      <th>2</th>\n",
       "      <td>17</td>\n",
       "      <td>0</td>\n",
       "      <td>0</td>\n",
       "      <td>0</td>\n",
       "      <td>0</td>\n",
       "      <td>255</td>\n",
       "      <td>255</td>\n",
       "      <td>255</td>\n",
       "      <td>3</td>\n",
       "      <td>3</td>\n",
       "      <td>3</td>\n",
       "      <td>3</td>\n",
       "      <td>1</td>\n",
       "      <td>POINT (-85.12535 20.00000)</td>\n",
       "    </tr>\n",
       "    <tr>\n",
       "      <th>3</th>\n",
       "      <td>17</td>\n",
       "      <td>0</td>\n",
       "      <td>0</td>\n",
       "      <td>0</td>\n",
       "      <td>0</td>\n",
       "      <td>255</td>\n",
       "      <td>255</td>\n",
       "      <td>255</td>\n",
       "      <td>3</td>\n",
       "      <td>3</td>\n",
       "      <td>3</td>\n",
       "      <td>3</td>\n",
       "      <td>1</td>\n",
       "      <td>POINT (-85.12092 20.00000)</td>\n",
       "    </tr>\n",
       "    <tr>\n",
       "      <th>4</th>\n",
       "      <td>17</td>\n",
       "      <td>0</td>\n",
       "      <td>0</td>\n",
       "      <td>0</td>\n",
       "      <td>0</td>\n",
       "      <td>255</td>\n",
       "      <td>255</td>\n",
       "      <td>255</td>\n",
       "      <td>3</td>\n",
       "      <td>3</td>\n",
       "      <td>3</td>\n",
       "      <td>3</td>\n",
       "      <td>1</td>\n",
       "      <td>POINT (-85.11649 20.00000)</td>\n",
       "    </tr>\n",
       "  </tbody>\n",
       "</table>\n",
       "</div>"
      ],
      "text/plain": [
       "   LC_Type1  LC_Type2  LC_Type3  LC_Type4  LC_Type5  LC_Prop1_Assessment  \\\n",
       "0        17         0         0         0         0                  255   \n",
       "1        17         0         0         0         0                  255   \n",
       "2        17         0         0         0         0                  255   \n",
       "3        17         0         0         0         0                  255   \n",
       "4        17         0         0         0         0                  255   \n",
       "\n",
       "   LC_Prop2_Assessment  LC_Prop3_Assessment  LC_Prop1  LC_Prop2  LC_Prop3  QC  \\\n",
       "0                  255                  255         3         3         3   3   \n",
       "1                  255                  255         3         3         3   3   \n",
       "2                  255                  255         3         3         3   3   \n",
       "3                  255                  255         3         3         3   3   \n",
       "4                  255                  255         3         3         3   3   \n",
       "\n",
       "   LW                    geometry  \n",
       "0   1  POINT (-85.13422 20.00000)  \n",
       "1   1  POINT (-85.12979 20.00000)  \n",
       "2   1  POINT (-85.12535 20.00000)  \n",
       "3   1  POINT (-85.12092 20.00000)  \n",
       "4   1  POINT (-85.11649 20.00000)  "
      ]
     },
     "metadata": {},
     "execution_count": 2
    }
   ],
   "metadata": {}
  },
  {
   "cell_type": "code",
   "execution_count": 3,
   "source": [
    "categoricals = [\n",
    "    'LC_Type1', \n",
    "    'LC_Type2', \n",
    "    'LC_Type3', \n",
    "    'LC_Type4', \n",
    "    'LC_Type5', \n",
    "    'LC_Prop1', \n",
    "    'LC_Prop2', \n",
    "    'LC_Prop3', \n",
    "    'LW'\n",
    "]\n",
    "hdf.map_categoricals_to_attributes(gdf, categoricals)\n",
    "one_hot_encode(gdf, categoricals)"
   ],
   "outputs": [],
   "metadata": {}
  },
  {
   "cell_type": "code",
   "execution_count": null,
   "source": [
    "%%time\n",
    "# Anadir buffer a gdf\n",
    "xincrement = abs(gdf.loc[0, 'geometry'].bounds[1] - gdf.loc[2400, 'geometry'].bounds[1])\n",
    "yincrement = abs(gdf.loc[0, 'geometry'].bounds[0] - gdf.loc[1, 'geometry'].bounds[0])\n",
    "include_rectangular_raster(gdf, xincrement=xincrement, yincrement=yincrement)"
   ],
   "outputs": [],
   "metadata": {}
  },
  {
   "cell_type": "code",
   "execution_count": null,
   "source": [
    "# ALTERNATIVA: Mover los poligonos a formato sinusoidal y calcular todo desde alli"
   ],
   "outputs": [],
   "metadata": {}
  },
  {
   "cell_type": "code",
   "execution_count": null,
   "source": [
    "geo_df = gpd.read_file('../Shapefiles/preprocessed/all_countries_with_eth.shp')\n",
    "# Filtrar poligonos segun el area del database\n",
    "# use raster.get_intersection_area in each row\n",
    "# Parallelize\n",
    "# Join"
   ],
   "outputs": [],
   "metadata": {}
  },
  {
   "cell_type": "code",
   "execution_count": 5,
   "source": [
    "\n",
    "gdf.head()"
   ],
   "outputs": [
    {
     "output_type": "execute_result",
     "data": {
      "text/html": [
       "<div>\n",
       "<style scoped>\n",
       "    .dataframe tbody tr th:only-of-type {\n",
       "        vertical-align: middle;\n",
       "    }\n",
       "\n",
       "    .dataframe tbody tr th {\n",
       "        vertical-align: top;\n",
       "    }\n",
       "\n",
       "    .dataframe thead th {\n",
       "        text-align: right;\n",
       "    }\n",
       "</style>\n",
       "<table border=\"1\" class=\"dataframe\">\n",
       "  <thead>\n",
       "    <tr style=\"text-align: right;\">\n",
       "      <th></th>\n",
       "      <th>LC_Prop1_Assessment</th>\n",
       "      <th>LC_Prop2_Assessment</th>\n",
       "      <th>LC_Prop3_Assessment</th>\n",
       "      <th>QC</th>\n",
       "      <th>geometry</th>\n",
       "      <th>LC_Type1_Barren</th>\n",
       "      <th>LC_Type1_Closed Shrublands</th>\n",
       "      <th>LC_Type1_Cropland/Natural Vegetation Mosaics</th>\n",
       "      <th>LC_Type1_Croplands</th>\n",
       "      <th>LC_Type1_Deciduous Broadleaf Forests</th>\n",
       "      <th>...</th>\n",
       "      <th>LC_Prop1_Mixed Broadleaf/Needleleaf Forests</th>\n",
       "      <th>LC_Prop1_Open Forests</th>\n",
       "      <th>LC_Prop1_Permanent Snow and Ice</th>\n",
       "      <th>LC_Prop1_Sparse Forests</th>\n",
       "      <th>LC_Prop1_Sparse Herbaceous</th>\n",
       "      <th>LC_Prop1_Sparse Shrublands</th>\n",
       "      <th>LC_Prop1_Water Bodies</th>\n",
       "      <th>LC_Prop1__FillValue</th>\n",
       "      <th>LC_Prop2__FillValue</th>\n",
       "      <th>LC_Prop3__FillValue</th>\n",
       "    </tr>\n",
       "  </thead>\n",
       "  <tbody>\n",
       "    <tr>\n",
       "      <th>0</th>\n",
       "      <td>255</td>\n",
       "      <td>255</td>\n",
       "      <td>255</td>\n",
       "      <td>3</td>\n",
       "      <td>POINT (-85.13422 20.00000)</td>\n",
       "      <td>0</td>\n",
       "      <td>0</td>\n",
       "      <td>0</td>\n",
       "      <td>0</td>\n",
       "      <td>0</td>\n",
       "      <td>...</td>\n",
       "      <td>0</td>\n",
       "      <td>0</td>\n",
       "      <td>0</td>\n",
       "      <td>0</td>\n",
       "      <td>0</td>\n",
       "      <td>0</td>\n",
       "      <td>1</td>\n",
       "      <td>0</td>\n",
       "      <td>0</td>\n",
       "      <td>0</td>\n",
       "    </tr>\n",
       "    <tr>\n",
       "      <th>1</th>\n",
       "      <td>255</td>\n",
       "      <td>255</td>\n",
       "      <td>255</td>\n",
       "      <td>3</td>\n",
       "      <td>POINT (-85.12979 20.00000)</td>\n",
       "      <td>0</td>\n",
       "      <td>0</td>\n",
       "      <td>0</td>\n",
       "      <td>0</td>\n",
       "      <td>0</td>\n",
       "      <td>...</td>\n",
       "      <td>0</td>\n",
       "      <td>0</td>\n",
       "      <td>0</td>\n",
       "      <td>0</td>\n",
       "      <td>0</td>\n",
       "      <td>0</td>\n",
       "      <td>1</td>\n",
       "      <td>0</td>\n",
       "      <td>0</td>\n",
       "      <td>0</td>\n",
       "    </tr>\n",
       "    <tr>\n",
       "      <th>2</th>\n",
       "      <td>255</td>\n",
       "      <td>255</td>\n",
       "      <td>255</td>\n",
       "      <td>3</td>\n",
       "      <td>POINT (-85.12535 20.00000)</td>\n",
       "      <td>0</td>\n",
       "      <td>0</td>\n",
       "      <td>0</td>\n",
       "      <td>0</td>\n",
       "      <td>0</td>\n",
       "      <td>...</td>\n",
       "      <td>0</td>\n",
       "      <td>0</td>\n",
       "      <td>0</td>\n",
       "      <td>0</td>\n",
       "      <td>0</td>\n",
       "      <td>0</td>\n",
       "      <td>1</td>\n",
       "      <td>0</td>\n",
       "      <td>0</td>\n",
       "      <td>0</td>\n",
       "    </tr>\n",
       "    <tr>\n",
       "      <th>3</th>\n",
       "      <td>255</td>\n",
       "      <td>255</td>\n",
       "      <td>255</td>\n",
       "      <td>3</td>\n",
       "      <td>POINT (-85.12092 20.00000)</td>\n",
       "      <td>0</td>\n",
       "      <td>0</td>\n",
       "      <td>0</td>\n",
       "      <td>0</td>\n",
       "      <td>0</td>\n",
       "      <td>...</td>\n",
       "      <td>0</td>\n",
       "      <td>0</td>\n",
       "      <td>0</td>\n",
       "      <td>0</td>\n",
       "      <td>0</td>\n",
       "      <td>0</td>\n",
       "      <td>1</td>\n",
       "      <td>0</td>\n",
       "      <td>0</td>\n",
       "      <td>0</td>\n",
       "    </tr>\n",
       "    <tr>\n",
       "      <th>4</th>\n",
       "      <td>255</td>\n",
       "      <td>255</td>\n",
       "      <td>255</td>\n",
       "      <td>3</td>\n",
       "      <td>POINT (-85.11649 20.00000)</td>\n",
       "      <td>0</td>\n",
       "      <td>0</td>\n",
       "      <td>0</td>\n",
       "      <td>0</td>\n",
       "      <td>0</td>\n",
       "      <td>...</td>\n",
       "      <td>0</td>\n",
       "      <td>0</td>\n",
       "      <td>0</td>\n",
       "      <td>0</td>\n",
       "      <td>0</td>\n",
       "      <td>0</td>\n",
       "      <td>1</td>\n",
       "      <td>0</td>\n",
       "      <td>0</td>\n",
       "      <td>0</td>\n",
       "    </tr>\n",
       "  </tbody>\n",
       "</table>\n",
       "<p>5 rows × 87 columns</p>\n",
       "</div>"
      ],
      "text/plain": [
       "   LC_Prop1_Assessment  LC_Prop2_Assessment  LC_Prop3_Assessment  QC  \\\n",
       "0                  255                  255                  255   3   \n",
       "1                  255                  255                  255   3   \n",
       "2                  255                  255                  255   3   \n",
       "3                  255                  255                  255   3   \n",
       "4                  255                  255                  255   3   \n",
       "\n",
       "                     geometry  LC_Type1_Barren  LC_Type1_Closed Shrublands  \\\n",
       "0  POINT (-85.13422 20.00000)                0                           0   \n",
       "1  POINT (-85.12979 20.00000)                0                           0   \n",
       "2  POINT (-85.12535 20.00000)                0                           0   \n",
       "3  POINT (-85.12092 20.00000)                0                           0   \n",
       "4  POINT (-85.11649 20.00000)                0                           0   \n",
       "\n",
       "   LC_Type1_Cropland/Natural Vegetation Mosaics  LC_Type1_Croplands  \\\n",
       "0                                             0                   0   \n",
       "1                                             0                   0   \n",
       "2                                             0                   0   \n",
       "3                                             0                   0   \n",
       "4                                             0                   0   \n",
       "\n",
       "   LC_Type1_Deciduous Broadleaf Forests  ...  \\\n",
       "0                                     0  ...   \n",
       "1                                     0  ...   \n",
       "2                                     0  ...   \n",
       "3                                     0  ...   \n",
       "4                                     0  ...   \n",
       "\n",
       "   LC_Prop1_Mixed Broadleaf/Needleleaf Forests  LC_Prop1_Open Forests  \\\n",
       "0                                            0                      0   \n",
       "1                                            0                      0   \n",
       "2                                            0                      0   \n",
       "3                                            0                      0   \n",
       "4                                            0                      0   \n",
       "\n",
       "   LC_Prop1_Permanent Snow and Ice  LC_Prop1_Sparse Forests  \\\n",
       "0                                0                        0   \n",
       "1                                0                        0   \n",
       "2                                0                        0   \n",
       "3                                0                        0   \n",
       "4                                0                        0   \n",
       "\n",
       "   LC_Prop1_Sparse Herbaceous  LC_Prop1_Sparse Shrublands  \\\n",
       "0                           0                           0   \n",
       "1                           0                           0   \n",
       "2                           0                           0   \n",
       "3                           0                           0   \n",
       "4                           0                           0   \n",
       "\n",
       "   LC_Prop1_Water Bodies  LC_Prop1__FillValue  LC_Prop2__FillValue  \\\n",
       "0                      1                    0                    0   \n",
       "1                      1                    0                    0   \n",
       "2                      1                    0                    0   \n",
       "3                      1                    0                    0   \n",
       "4                      1                    0                    0   \n",
       "\n",
       "   LC_Prop3__FillValue  \n",
       "0                    0  \n",
       "1                    0  \n",
       "2                    0  \n",
       "3                    0  \n",
       "4                    0  \n",
       "\n",
       "[5 rows x 87 columns]"
      ]
     },
     "metadata": {},
     "execution_count": 5
    }
   ],
   "metadata": {}
  },
  {
   "cell_type": "code",
   "execution_count": 12,
   "source": [
    "file = SD('../Data/LandForestType/MCD12Q1.A2001001.h10v08.006.2018142183624.hdf', SDC.READ)\n",
    "getmembers(file)"
   ],
   "outputs": [
    {
     "output_type": "execute_result",
     "data": {
      "text/plain": [
       "[('__class__', pyhdf.SD.SD),\n",
       " ('__del__',\n",
       "  <bound method SD.__del__ of <pyhdf.SD.SD object at 0x7fad904e5d00>>),\n",
       " ('__delattr__',\n",
       "  <method-wrapper '__delattr__' of SD object at 0x7fad904e5d00>),\n",
       " ('__dict__', {'_id': 1441793}),\n",
       " ('__dir__', <function SD.__dir__()>),\n",
       " ('__doc__',\n",
       "  'The SD class implements an HDF SD interface.\\n    To instantiate an SD class, call the SD() constructor.\\n    To set attributes on an SD instance, call the SD.attr()\\n    method to create an attribute instance, then call the methods\\n    of this instance. '),\n",
       " ('__eq__', <method-wrapper '__eq__' of SD object at 0x7fad904e5d00>),\n",
       " ('__format__', <function SD.__format__(format_spec, /)>),\n",
       " ('__ge__', <method-wrapper '__ge__' of SD object at 0x7fad904e5d00>),\n",
       " ('__getattr__',\n",
       "  <bound method SD.__getattr__ of <pyhdf.SD.SD object at 0x7fad904e5d00>>),\n",
       " ('__getattribute__',\n",
       "  <method-wrapper '__getattribute__' of SD object at 0x7fad904e5d00>),\n",
       " ('__gt__', <method-wrapper '__gt__' of SD object at 0x7fad904e5d00>),\n",
       " ('__hash__', <method-wrapper '__hash__' of SD object at 0x7fad904e5d00>),\n",
       " ('__init__',\n",
       "  <bound method SD.__init__ of <pyhdf.SD.SD object at 0x7fad904e5d00>>),\n",
       " ('__init_subclass__', <function SD.__init_subclass__>),\n",
       " ('__le__', <method-wrapper '__le__' of SD object at 0x7fad904e5d00>),\n",
       " ('__lt__', <method-wrapper '__lt__' of SD object at 0x7fad904e5d00>),\n",
       " ('__module__', 'pyhdf.SD'),\n",
       " ('__ne__', <method-wrapper '__ne__' of SD object at 0x7fad904e5d00>),\n",
       " ('__new__', <function object.__new__(*args, **kwargs)>),\n",
       " ('__reduce__', <function SD.__reduce__()>),\n",
       " ('__reduce_ex__', <function SD.__reduce_ex__(protocol, /)>),\n",
       " ('__repr__', <method-wrapper '__repr__' of SD object at 0x7fad904e5d00>),\n",
       " ('__setattr__',\n",
       "  <bound method SD.__setattr__ of <pyhdf.SD.SD object at 0x7fad904e5d00>>),\n",
       " ('__sizeof__', <function SD.__sizeof__()>),\n",
       " ('__str__', <method-wrapper '__str__' of SD object at 0x7fad904e5d00>),\n",
       " ('__subclasshook__', <function SD.__subclasshook__>),\n",
       " ('__weakref__', None),\n",
       " ('_id', 1441793),\n",
       " ('attr', <bound method SD.attr of <pyhdf.SD.SD object at 0x7fad904e5d00>>),\n",
       " ('attributes',\n",
       "  <bound method SD.attributes of <pyhdf.SD.SD object at 0x7fad904e5d00>>),\n",
       " ('create',\n",
       "  <bound method SD.create of <pyhdf.SD.SD object at 0x7fad904e5d00>>),\n",
       " ('datasets',\n",
       "  <bound method SD.datasets of <pyhdf.SD.SD object at 0x7fad904e5d00>>),\n",
       " ('end', <bound method SD.end of <pyhdf.SD.SD object at 0x7fad904e5d00>>),\n",
       " ('info', <bound method SD.info of <pyhdf.SD.SD object at 0x7fad904e5d00>>),\n",
       " ('nametoindex',\n",
       "  <bound method SD.nametoindex of <pyhdf.SD.SD object at 0x7fad904e5d00>>),\n",
       " ('reftoindex',\n",
       "  <bound method SD.reftoindex of <pyhdf.SD.SD object at 0x7fad904e5d00>>),\n",
       " ('select',\n",
       "  <bound method SD.select of <pyhdf.SD.SD object at 0x7fad904e5d00>>),\n",
       " ('setfillmode',\n",
       "  <bound method SD.setfillmode of <pyhdf.SD.SD object at 0x7fad904e5d00>>)]"
      ]
     },
     "metadata": {},
     "execution_count": 12
    }
   ],
   "metadata": {}
  },
  {
   "cell_type": "code",
   "execution_count": 13,
   "source": [
    "file.datasets()"
   ],
   "outputs": [
    {
     "output_type": "execute_result",
     "data": {
      "text/plain": [
       "{'LC_Type1': (('YDim:MCD12Q1', 'XDim:MCD12Q1'), (2400, 2400), 21, 0),\n",
       " 'LC_Type2': (('YDim:MCD12Q1', 'XDim:MCD12Q1'), (2400, 2400), 21, 1),\n",
       " 'LC_Type3': (('YDim:MCD12Q1', 'XDim:MCD12Q1'), (2400, 2400), 21, 2),\n",
       " 'LC_Type4': (('YDim:MCD12Q1', 'XDim:MCD12Q1'), (2400, 2400), 21, 3),\n",
       " 'LC_Type5': (('YDim:MCD12Q1', 'XDim:MCD12Q1'), (2400, 2400), 21, 4),\n",
       " 'LC_Prop1_Assessment': (('YDim:MCD12Q1', 'XDim:MCD12Q1'),\n",
       "  (2400, 2400),\n",
       "  21,\n",
       "  5),\n",
       " 'LC_Prop2_Assessment': (('YDim:MCD12Q1', 'XDim:MCD12Q1'),\n",
       "  (2400, 2400),\n",
       "  21,\n",
       "  6),\n",
       " 'LC_Prop3_Assessment': (('YDim:MCD12Q1', 'XDim:MCD12Q1'),\n",
       "  (2400, 2400),\n",
       "  21,\n",
       "  7),\n",
       " 'LC_Prop1': (('YDim:MCD12Q1', 'XDim:MCD12Q1'), (2400, 2400), 21, 8),\n",
       " 'LC_Prop2': (('YDim:MCD12Q1', 'XDim:MCD12Q1'), (2400, 2400), 21, 9),\n",
       " 'LC_Prop3': (('YDim:MCD12Q1', 'XDim:MCD12Q1'), (2400, 2400), 21, 10),\n",
       " 'QC': (('YDim:MCD12Q1', 'XDim:MCD12Q1'), (2400, 2400), 21, 11),\n",
       " 'LW': (('YDim:MCD12Q1', 'XDim:MCD12Q1'), (2400, 2400), 21, 12)}"
      ]
     },
     "metadata": {},
     "execution_count": 13
    }
   ],
   "metadata": {}
  },
  {
   "cell_type": "code",
   "execution_count": 14,
   "source": [
    "file.select('LC_Prop1_Assessment')[:]"
   ],
   "outputs": [
    {
     "output_type": "execute_result",
     "data": {
      "text/plain": [
       "array([[255, 255, 255, ...,  97,  97,  95],\n",
       "       [255, 255, 255, ...,  95,  97,  94],\n",
       "       [255, 255, 255, ...,  93,  94,  98],\n",
       "       ...,\n",
       "       [ 91,  94,  96, ...,  99,  99,  99],\n",
       "       [ 89,  89,  96, ...,  99,  99,  99],\n",
       "       [ 95, 255, 255, ...,  99,  99,  99]], dtype=uint8)"
      ]
     },
     "metadata": {},
     "execution_count": 14
    }
   ],
   "metadata": {}
  },
  {
   "cell_type": "code",
   "execution_count": 15,
   "source": [
    "sds_obj = file.select('LC_Prop1_Assessment')\n",
    "arr = sds_obj.get()\n",
    "print(arr.shape)\n",
    "print(np.unique(arr))\n",
    "arr"
   ],
   "outputs": [
    {
     "output_type": "stream",
     "name": "stdout",
     "text": [
      "(2400, 2400)\n",
      "[  1   2   4   5   6   7   8  13  20  34  35  36  37  38  39  40  41  42\n",
      "  43  44  45  46  47  48  49  50  51  52  53  54  55  56  57  58  59  60\n",
      "  61  62  63  64  65  66  67  68  69  70  71  72  73  74  75  76  77  78\n",
      "  79  80  81  82  83  84  85  86  87  88  89  90  91  92  93  94  95  96\n",
      "  97  98  99 255]\n"
     ]
    },
    {
     "output_type": "execute_result",
     "data": {
      "text/plain": [
       "array([[255, 255, 255, ...,  97,  97,  95],\n",
       "       [255, 255, 255, ...,  95,  97,  94],\n",
       "       [255, 255, 255, ...,  93,  94,  98],\n",
       "       ...,\n",
       "       [ 91,  94,  96, ...,  99,  99,  99],\n",
       "       [ 89,  89,  96, ...,  99,  99,  99],\n",
       "       [ 95, 255, 255, ...,  99,  99,  99]], dtype=uint8)"
      ]
     },
     "metadata": {},
     "execution_count": 15
    }
   ],
   "metadata": {}
  },
  {
   "cell_type": "code",
   "execution_count": 16,
   "source": [
    "for ds_name in file.datasets().keys():\n",
    "    sds_obj = file.select(ds_name)\n",
    "    attrs = sds_obj.attributes()\n",
    "    print(f\"Channel name: {ds_name}. Attributes:\\n\\t\", \",\\n\\t\".join(attrs.keys()), \"\\n\")"
   ],
   "outputs": [
    {
     "output_type": "stream",
     "name": "stdout",
     "text": [
      "Channel name: LC_Type1. Attributes:\n",
      "\t long_name,\n",
      "\tEvergreen Needleleaf Forests,\n",
      "\tEvergreen Broadleaf Forests,\n",
      "\tDeciduous Needleleaf Forests,\n",
      "\tDeciduous Broadleaf Forests,\n",
      "\tMixed Forests,\n",
      "\tClosed Shrublands,\n",
      "\tOpen Shrublands,\n",
      "\tWoody Savannas,\n",
      "\tSavannas,\n",
      "\tGrasslands,\n",
      "\tPermanent Wetlands,\n",
      "\tCroplands,\n",
      "\tUrban and Built-up Lands,\n",
      "\tCropland/Natural Vegetation Mosaics,\n",
      "\tPermanent Snow and Ice,\n",
      "\tBarren,\n",
      "\tWater Bodies,\n",
      "\tUnclassified,\n",
      "\tvalid_range,\n",
      "\t_FillValue \n",
      "\n",
      "Channel name: LC_Type2. Attributes:\n",
      "\t long_name,\n",
      "\tWater Bodies,\n",
      "\tEvergreen Needleleaf Forests,\n",
      "\tEvergreen Broadleaf Forests,\n",
      "\tDeciduous Needleleaf Forests,\n",
      "\tDeciduous Broadleaf Forests,\n",
      "\tMixed Forests,\n",
      "\tClosed Shrublands,\n",
      "\tOpen Shrublands,\n",
      "\tWoody Savannas,\n",
      "\tSavannas,\n",
      "\tGrasslands,\n",
      "\tPermanent Wetlands,\n",
      "\tCroplands,\n",
      "\tUrban and Built-up Lands,\n",
      "\tCropland/Natural Vegetation Mosaics,\n",
      "\tBarren,\n",
      "\tUnclassified,\n",
      "\tvalid_range,\n",
      "\t_FillValue \n",
      "\n",
      "Channel name: LC_Type3. Attributes:\n",
      "\t long_name,\n",
      "\tWater Bodies,\n",
      "\tGrasslands,\n",
      "\tShrublands,\n",
      "\tBroadleaf Croplands,\n",
      "\tSavannas,\n",
      "\tEvergreen Broadleaf Forests,\n",
      "\tDeciduous Broadleaf Forests,\n",
      "\tEvergreen Needleleaf Forests,\n",
      "\tDeciduous Needleleaf Forests,\n",
      "\tUnvegetated,\n",
      "\tUrban and Built-up Lands,\n",
      "\tUnclassified,\n",
      "\tvalid_range,\n",
      "\t_FillValue \n",
      "\n",
      "Channel name: LC_Type4. Attributes:\n",
      "\t long_name,\n",
      "\tWater Bodies,\n",
      "\tEvergreen Needleleaf Vegetation,\n",
      "\tEvergreen Broadleaf Vegetation,\n",
      "\tDeciduous Needleleaf Vegetation,\n",
      "\tDeciduous Broadleaf Vegetation,\n",
      "\tAnnual Broadleaf Vegetation,\n",
      "\tAnnual Grass Vegetation,\n",
      "\tNon-Vegetated Land,\n",
      "\tUrban and Built-up Lands,\n",
      "\tUnclassified,\n",
      "\tvalid_range,\n",
      "\t_FillValue \n",
      "\n",
      "Channel name: LC_Type5. Attributes:\n",
      "\t long_name,\n",
      "\tWater Bodies,\n",
      "\tEvergreen Needleleaf Trees,\n",
      "\tEvergreen Broadleaf Trees,\n",
      "\tDeciduous Needleleaf Trees,\n",
      "\tDeciduous Broadleaf Trees,\n",
      "\tShrub,\n",
      "\tGrass,\n",
      "\tCereal Crop,\n",
      "\tBroadleaf Crop,\n",
      "\tUrban and Built-up Lands,\n",
      "\tPermanent Snow and Ice,\n",
      "\tBarren,\n",
      "\tUnclassified,\n",
      "\tvalid_range,\n",
      "\t_FillValue \n",
      "\n",
      "Channel name: LC_Prop1_Assessment. Attributes:\n",
      "\t long_name,\n",
      "\tvalid_range,\n",
      "\t_FillValue \n",
      "\n",
      "Channel name: LC_Prop2_Assessment. Attributes:\n",
      "\t long_name,\n",
      "\tvalid_range,\n",
      "\t_FillValue \n",
      "\n",
      "Channel name: LC_Prop3_Assessment. Attributes:\n",
      "\t long_name,\n",
      "\tvalid_range,\n",
      "\t_FillValue \n",
      "\n",
      "Channel name: LC_Prop1. Attributes:\n",
      "\t long_name,\n",
      "\tBarren,\n",
      "\tPermanent Snow and Ice,\n",
      "\tWater Bodies,\n",
      "\tEvergreen Needleleaf Forests,\n",
      "\tEvergreen Broadleaf Forests,\n",
      "\tDeciduous Needleleaf Forests,\n",
      "\tDeciduous Broadleaf Forests,\n",
      "\tMixed Broadleaf/Needleleaf Forests,\n",
      "\tMixed Broadleaf Forests,\n",
      "\tOpen Forests,\n",
      "\tSparse Forests,\n",
      "\tDense Herbaceous,\n",
      "\tSparse Herbaceous,\n",
      "\tDense Shrublands,\n",
      "\tShrubland/Grassland Mosaics,\n",
      "\tSparse Shrublands,\n",
      "\tUnclassified,\n",
      "\tvalid_range,\n",
      "\t_FillValue \n",
      "\n",
      "Channel name: LC_Prop2. Attributes:\n",
      "\t long_name,\n",
      "\tBarren,\n",
      "\tvalid_range,\n",
      "\t_FillValue \n",
      "\n",
      "Channel name: LC_Prop3. Attributes:\n",
      "\t long_name,\n",
      "\tBarren,\n",
      "\tvalid_range,\n",
      "\t_FillValue \n",
      "\n",
      "Channel name: QC. Attributes:\n",
      "\t long_name,\n",
      "\tvalid_range,\n",
      "\t_FillValue \n",
      "\n",
      "Channel name: LW. Attributes:\n",
      "\t long_name,\n",
      "\tvalid_range,\n",
      "\t_FillValue \n",
      "\n"
     ]
    }
   ],
   "metadata": {}
  },
  {
   "cell_type": "code",
   "execution_count": 43,
   "source": [
    "sds_obj = file.select('LC_Type4')\n",
    "arr = sds_obj.get()\n",
    "arr"
   ],
   "outputs": [
    {
     "output_type": "execute_result",
     "data": {
      "text/plain": [
       "array([[  0,   0,   0, ...,   6,   6,   6],\n",
       "       [  0,   0,   0, ...,   6,   6,   6],\n",
       "       [  0,   0,   0, ...,   6,   6,   6],\n",
       "       ...,\n",
       "       [  2,   2,   2, ...,   2,   2,   2],\n",
       "       [  2,   2,   2, ...,   2,   2,   2],\n",
       "       [  2, 255, 255, ...,   2,   2,   2]], dtype=uint8)"
      ]
     },
     "metadata": {},
     "execution_count": 43
    }
   ],
   "metadata": {}
  },
  {
   "cell_type": "code",
   "execution_count": 42,
   "source": [
    "arr = np.array([[1, 2, 3] , [4, 5, 6]])\n",
    "print(arr)\n",
    "arr.reshape(-1)"
   ],
   "outputs": [
    {
     "output_type": "stream",
     "name": "stdout",
     "text": [
      "[[1 2 3]\n",
      " [4 5 6]]\n"
     ]
    },
    {
     "output_type": "execute_result",
     "data": {
      "text/plain": [
       "array([1, 2, 3, 4, 5, 6])"
      ]
     },
     "metadata": {},
     "execution_count": 42
    }
   ],
   "metadata": {}
  },
  {
   "cell_type": "code",
   "execution_count": 40,
   "source": [
    "np.repeat(arr[0], 3)"
   ],
   "outputs": [
    {
     "output_type": "execute_result",
     "data": {
      "text/plain": [
       "array([1, 1, 1, 2, 2, 2, 3, 3, 3])"
      ]
     },
     "metadata": {},
     "execution_count": 40
    }
   ],
   "metadata": {}
  },
  {
   "cell_type": "code",
   "execution_count": 48,
   "source": [
    "PX = 463.312716525\n",
    "ULY = 10007554.677\n",
    "ULX = -20015109.354\n",
    "h = 10\n",
    "v = 8\n",
    "grid_size = arr.shape[0]\n",
    "\n",
    "\n",
    "def get_grid_ulc(h, v):\n",
    "    grid_uly = ULY - v * PX * grid_size\n",
    "    grid_ulx = ULX + h * PX * grid_size\n",
    "    return grid_ulx, grid_uly\n",
    "\n",
    "\n",
    "def get_grid_lat(grid_uly):\n",
    "    return np.arange(grid_uly + PX * grid_size, grid_uly, -PX)\n",
    " \n",
    "    \n",
    "def get_grid_lon(grid_ulx):\n",
    "    return np.arange(grid_ulx, grid_ulx + PX * grid_size, PX)\n",
    "\n",
    "\n",
    "grid_ulx, grid_uly = get_grid_ulc(h, v)\n",
    "grid_lat = get_grid_lat(grid_uly)\n",
    "grid_lon = get_grid_lat(grid_ulx)\n",
    "lons = np.tile(grid_lon, grid_size)\n",
    "lats = np.repeat(grid_lat, grid_size)"
   ],
   "outputs": [],
   "metadata": {}
  },
  {
   "cell_type": "code",
   "execution_count": 49,
   "source": [
    "len(lats), len(lons), len(arr.reshape(-1))"
   ],
   "outputs": [
    {
     "output_type": "execute_result",
     "data": {
      "text/plain": [
       "(5760000, 5760000, 5760000)"
      ]
     },
     "metadata": {},
     "execution_count": 49
    }
   ],
   "metadata": {}
  },
  {
   "cell_type": "code",
   "execution_count": null,
   "source": [
    "%%time\n",
    "df = pd.DataFrame({'lat': lats, 'lon': lons, 'value': arr.reshape(-1)})\n",
    "gdf = gpd.GeoDataFrame({'value': arr.reshape(-1), 'geometry': geometry},\n",
    "                      crs=\"+proj=sinu +a=6371007.181 +b=6371007.181 +units=m\")\n",
    "gdf.head()"
   ],
   "outputs": [],
   "metadata": {}
  },
  {
   "cell_type": "code",
   "execution_count": 55,
   "source": [
    "%%time\n",
    "geometry = [Point(lat, lon) for lat in lats for lon in lons]"
   ],
   "outputs": [
    {
     "output_type": "error",
     "ename": "KeyboardInterrupt",
     "evalue": "",
     "traceback": [
      "\u001b[0;31m---------------------------------------------------------------------------\u001b[0m",
      "\u001b[0;31mKeyboardInterrupt\u001b[0m                         Traceback (most recent call last)",
      "\u001b[0;32m<timed exec>\u001b[0m in \u001b[0;36m<module>\u001b[0;34m\u001b[0m\n",
      "\u001b[0;32m<timed exec>\u001b[0m in \u001b[0;36m<listcomp>\u001b[0;34m(.0)\u001b[0m\n",
      "\u001b[0;32m/sd2/Moncho/Protestas/.venv/lib/python3.8/site-packages/shapely/geometry/point.py\u001b[0m in \u001b[0;36m__init__\u001b[0;34m(self, *args)\u001b[0m\n\u001b[1;32m     34\u001b[0m     \"\"\"\n\u001b[1;32m     35\u001b[0m \u001b[0;34m\u001b[0m\u001b[0m\n\u001b[0;32m---> 36\u001b[0;31m     \u001b[0;32mdef\u001b[0m \u001b[0m__init__\u001b[0m\u001b[0;34m(\u001b[0m\u001b[0mself\u001b[0m\u001b[0;34m,\u001b[0m \u001b[0;34m*\u001b[0m\u001b[0margs\u001b[0m\u001b[0;34m)\u001b[0m\u001b[0;34m:\u001b[0m\u001b[0;34m\u001b[0m\u001b[0;34m\u001b[0m\u001b[0m\n\u001b[0m\u001b[1;32m     37\u001b[0m         \"\"\"\n\u001b[1;32m     38\u001b[0m         \u001b[0mParameters\u001b[0m\u001b[0;34m\u001b[0m\u001b[0;34m\u001b[0m\u001b[0m\n",
      "\u001b[0;31mKeyboardInterrupt\u001b[0m: "
     ]
    }
   ],
   "metadata": {}
  },
  {
   "cell_type": "code",
   "execution_count": 60,
   "source": [
    "%%time\n",
    "gdf = gpd.GeoDataFrame({'value': arr.reshape(-1)},\n",
    "                       geometry=gpd.points_from_xy(lats, lons),\n",
    "                      crs=)\n",
    "gdf = gdf.to_crs(4326)\n",
    "gdf.head()"
   ],
   "outputs": [
    {
     "output_type": "stream",
     "name": "stdout",
     "text": [
      "CPU times: user 13.2 s, sys: 596 ms, total: 13.8 s\n",
      "Wall time: 13.8 s\n"
     ]
    },
    {
     "output_type": "execute_result",
     "data": {
      "text/html": [
       "<div>\n",
       "<style scoped>\n",
       "    .dataframe tbody tr th:only-of-type {\n",
       "        vertical-align: middle;\n",
       "    }\n",
       "\n",
       "    .dataframe tbody tr th {\n",
       "        vertical-align: top;\n",
       "    }\n",
       "\n",
       "    .dataframe thead th {\n",
       "        text-align: right;\n",
       "    }\n",
       "</style>\n",
       "<table border=\"1\" class=\"dataframe\">\n",
       "  <thead>\n",
       "    <tr style=\"text-align: right;\">\n",
       "      <th></th>\n",
       "      <th>value</th>\n",
       "      <th>geometry</th>\n",
       "    </tr>\n",
       "  </thead>\n",
       "  <tbody>\n",
       "    <tr>\n",
       "      <th>0</th>\n",
       "      <td>0</td>\n",
       "      <td>POINT (58.47609 -70.00000)</td>\n",
       "    </tr>\n",
       "    <tr>\n",
       "      <th>1</th>\n",
       "      <td>0</td>\n",
       "      <td>POINT (58.48777 -70.00417)</td>\n",
       "    </tr>\n",
       "    <tr>\n",
       "      <th>2</th>\n",
       "      <td>0</td>\n",
       "      <td>POINT (58.49947 -70.00833)</td>\n",
       "    </tr>\n",
       "    <tr>\n",
       "      <th>3</th>\n",
       "      <td>0</td>\n",
       "      <td>POINT (58.51116 -70.01250)</td>\n",
       "    </tr>\n",
       "    <tr>\n",
       "      <th>4</th>\n",
       "      <td>0</td>\n",
       "      <td>POINT (58.52286 -70.01667)</td>\n",
       "    </tr>\n",
       "  </tbody>\n",
       "</table>\n",
       "</div>"
      ],
      "text/plain": [
       "   value                    geometry\n",
       "0      0  POINT (58.47609 -70.00000)\n",
       "1      0  POINT (58.48777 -70.00417)\n",
       "2      0  POINT (58.49947 -70.00833)\n",
       "3      0  POINT (58.51116 -70.01250)\n",
       "4      0  POINT (58.52286 -70.01667)"
      ]
     },
     "metadata": {},
     "execution_count": 60
    }
   ],
   "metadata": {}
  },
  {
   "cell_type": "code",
   "execution_count": 61,
   "source": [
    "\n",
    "geo_df.head()"
   ],
   "outputs": [
    {
     "output_type": "execute_result",
     "data": {
      "text/html": [
       "<div>\n",
       "<style scoped>\n",
       "    .dataframe tbody tr th:only-of-type {\n",
       "        vertical-align: middle;\n",
       "    }\n",
       "\n",
       "    .dataframe tbody tr th {\n",
       "        vertical-align: top;\n",
       "    }\n",
       "\n",
       "    .dataframe thead th {\n",
       "        text-align: right;\n",
       "    }\n",
       "</style>\n",
       "<table border=\"1\" class=\"dataframe\">\n",
       "  <thead>\n",
       "    <tr style=\"text-align: right;\">\n",
       "      <th></th>\n",
       "      <th>id</th>\n",
       "      <th>GID_0</th>\n",
       "      <th>portion</th>\n",
       "      <th>geometry</th>\n",
       "    </tr>\n",
       "  </thead>\n",
       "  <tbody>\n",
       "    <tr>\n",
       "      <th>0</th>\n",
       "      <td>ESP__GUANCHE</td>\n",
       "      <td>ESP</td>\n",
       "      <td>None</td>\n",
       "      <td>MULTIPOLYGON (((-17.89487 27.78681, -17.89514 ...</td>\n",
       "    </tr>\n",
       "    <tr>\n",
       "      <th>1</th>\n",
       "      <td>ESP__JEBALA</td>\n",
       "      <td>ESP</td>\n",
       "      <td>None</td>\n",
       "      <td>MULTIPOLYGON (((-5.37708 35.91704, -5.37708 35...</td>\n",
       "    </tr>\n",
       "    <tr>\n",
       "      <th>2</th>\n",
       "      <td>ESP__RIF</td>\n",
       "      <td>ESP</td>\n",
       "      <td>None</td>\n",
       "      <td>MULTIPOLYGON (((-2.92593 35.29208, -2.92708 35...</td>\n",
       "    </tr>\n",
       "    <tr>\n",
       "      <th>3</th>\n",
       "      <td>GHA__ADANGME</td>\n",
       "      <td>GHA</td>\n",
       "      <td>None</td>\n",
       "      <td>MULTIPOLYGON (((0.69465 5.77336, 0.69328 5.775...</td>\n",
       "    </tr>\n",
       "    <tr>\n",
       "      <th>4</th>\n",
       "      <td>GHA__ADELE</td>\n",
       "      <td>GHA</td>\n",
       "      <td>None</td>\n",
       "      <td>POLYGON ((0.45975 8.06680, 0.46512 8.07837, 0....</td>\n",
       "    </tr>\n",
       "  </tbody>\n",
       "</table>\n",
       "</div>"
      ],
      "text/plain": [
       "             id GID_0 portion  \\\n",
       "0  ESP__GUANCHE   ESP    None   \n",
       "1   ESP__JEBALA   ESP    None   \n",
       "2      ESP__RIF   ESP    None   \n",
       "3  GHA__ADANGME   GHA    None   \n",
       "4    GHA__ADELE   GHA    None   \n",
       "\n",
       "                                            geometry  \n",
       "0  MULTIPOLYGON (((-17.89487 27.78681, -17.89514 ...  \n",
       "1  MULTIPOLYGON (((-5.37708 35.91704, -5.37708 35...  \n",
       "2  MULTIPOLYGON (((-2.92593 35.29208, -2.92708 35...  \n",
       "3  MULTIPOLYGON (((0.69465 5.77336, 0.69328 5.775...  \n",
       "4  POLYGON ((0.45975 8.06680, 0.46512 8.07837, 0....  "
      ]
     },
     "metadata": {},
     "execution_count": 61
    }
   ],
   "metadata": {}
  },
  {
   "cell_type": "code",
   "execution_count": null,
   "source": [],
   "outputs": [],
   "metadata": {}
  },
  {
   "cell_type": "code",
   "execution_count": 71,
   "source": [
    "from shapely.geometry import Polygon\n",
    "x, y, _, _ = gdf.iloc[0, -1].bounds\n",
    "increment_lon = gdf.iloc[0,-1].bounds[1] - gdf.iloc[1,-1].bounds[1]\n",
    "increment_lat = abs(gdf.iloc[0,-1].bounds[0] - gdf.iloc[1,-1].bounds[0])\n",
    "pol = Polygon([\n",
    "    (x - increment_lon, y - increment_lat), \n",
    "    (x + increment_lon, y - increment_lat), \n",
    "    (x + increment_lon, y + increment_lat), \n",
    "    (x - increment_lon, y + increment_lat)\n",
    "])"
   ],
   "outputs": [],
   "metadata": {}
  },
  {
   "cell_type": "code",
   "execution_count": 67,
   "source": [
    "gdf.iloc[0,-1].bounds[1] - gdf.iloc[1,-1].bounds[1]"
   ],
   "outputs": [
    {
     "output_type": "execute_result",
     "data": {
      "text/plain": [
       "0.004166666666264973"
      ]
     },
     "metadata": {},
     "execution_count": 67
    }
   ],
   "metadata": {}
  },
  {
   "cell_type": "code",
   "execution_count": 65,
   "source": [
    "gdf.iloc[0,-1].bounds[0] - gdf.iloc[1,-1].bounds[0]"
   ],
   "outputs": [
    {
     "output_type": "execute_result",
     "data": {
      "text/plain": [
       "-0.01168614036338056"
      ]
     },
     "metadata": {},
     "execution_count": 65
    }
   ],
   "metadata": {}
  },
  {
   "cell_type": "code",
   "execution_count": 62,
   "source": [
    "geo_df[geo_df['GID_0']=='VEN']"
   ],
   "outputs": [
    {
     "output_type": "execute_result",
     "data": {
      "text/html": [
       "<div>\n",
       "<style scoped>\n",
       "    .dataframe tbody tr th:only-of-type {\n",
       "        vertical-align: middle;\n",
       "    }\n",
       "\n",
       "    .dataframe tbody tr th {\n",
       "        vertical-align: top;\n",
       "    }\n",
       "\n",
       "    .dataframe thead th {\n",
       "        text-align: right;\n",
       "    }\n",
       "</style>\n",
       "<table border=\"1\" class=\"dataframe\">\n",
       "  <thead>\n",
       "    <tr style=\"text-align: right;\">\n",
       "      <th></th>\n",
       "      <th>id</th>\n",
       "      <th>GID_0</th>\n",
       "      <th>portion</th>\n",
       "      <th>geometry</th>\n",
       "    </tr>\n",
       "  </thead>\n",
       "  <tbody>\n",
       "    <tr>\n",
       "      <th>48880</th>\n",
       "      <td>VEN.1.1_1</td>\n",
       "      <td>VEN</td>\n",
       "      <td>None</td>\n",
       "      <td>POLYGON ((-63.37228 2.21171, -63.38110 2.20705...</td>\n",
       "    </tr>\n",
       "    <tr>\n",
       "      <th>48881</th>\n",
       "      <td>VEN.1.2_1</td>\n",
       "      <td>VEN</td>\n",
       "      <td>None</td>\n",
       "      <td>POLYGON ((-65.62041 2.73716, -65.62035 2.73668...</td>\n",
       "    </tr>\n",
       "    <tr>\n",
       "      <th>48882</th>\n",
       "      <td>VEN.1.3_1</td>\n",
       "      <td>VEN</td>\n",
       "      <td>None</td>\n",
       "      <td>POLYGON ((-66.94093 5.64498, -67.01332 5.58293...</td>\n",
       "    </tr>\n",
       "    <tr>\n",
       "      <th>48883</th>\n",
       "      <td>VEN.1.4_1</td>\n",
       "      <td>VEN</td>\n",
       "      <td>None</td>\n",
       "      <td>POLYGON ((-67.84909 5.29383, -67.80544 5.30084...</td>\n",
       "    </tr>\n",
       "    <tr>\n",
       "      <th>48884</th>\n",
       "      <td>VEN.1.5_1</td>\n",
       "      <td>VEN</td>\n",
       "      <td>None</td>\n",
       "      <td>POLYGON ((-66.56641 4.86244, -66.63248 4.89293...</td>\n",
       "    </tr>\n",
       "    <tr>\n",
       "      <th>...</th>\n",
       "      <td>...</td>\n",
       "      <td>...</td>\n",
       "      <td>...</td>\n",
       "      <td>...</td>\n",
       "    </tr>\n",
       "    <tr>\n",
       "      <th>102905</th>\n",
       "      <td>VEN.10.1_1</td>\n",
       "      <td>VEN</td>\n",
       "      <td>74</td>\n",
       "      <td>POLYGON ((-63.13403 11.34708, -63.13403 11.346...</td>\n",
       "    </tr>\n",
       "    <tr>\n",
       "      <th>102906</th>\n",
       "      <td>VEN.10.1_1</td>\n",
       "      <td>VEN</td>\n",
       "      <td>75</td>\n",
       "      <td>POLYGON ((-65.38458 10.99958, -65.38458 10.999...</td>\n",
       "    </tr>\n",
       "    <tr>\n",
       "      <th>102907</th>\n",
       "      <td>VEN.10.1_1</td>\n",
       "      <td>VEN</td>\n",
       "      <td>76</td>\n",
       "      <td>POLYGON ((-65.30791 10.98681, -65.30791 10.986...</td>\n",
       "    </tr>\n",
       "    <tr>\n",
       "      <th>102908</th>\n",
       "      <td>VEN.10.1_1</td>\n",
       "      <td>VEN</td>\n",
       "      <td>77</td>\n",
       "      <td>POLYGON ((-65.41847 10.97708, -65.41847 10.976...</td>\n",
       "    </tr>\n",
       "    <tr>\n",
       "      <th>102909</th>\n",
       "      <td>VEN.10.1_1</td>\n",
       "      <td>VEN</td>\n",
       "      <td>78</td>\n",
       "      <td>POLYGON ((-65.42931 10.97208, -65.42931 10.971...</td>\n",
       "    </tr>\n",
       "  </tbody>\n",
       "</table>\n",
       "<p>416 rows × 4 columns</p>\n",
       "</div>"
      ],
      "text/plain": [
       "                id GID_0 portion  \\\n",
       "48880    VEN.1.1_1   VEN    None   \n",
       "48881    VEN.1.2_1   VEN    None   \n",
       "48882    VEN.1.3_1   VEN    None   \n",
       "48883    VEN.1.4_1   VEN    None   \n",
       "48884    VEN.1.5_1   VEN    None   \n",
       "...            ...   ...     ...   \n",
       "102905  VEN.10.1_1   VEN      74   \n",
       "102906  VEN.10.1_1   VEN      75   \n",
       "102907  VEN.10.1_1   VEN      76   \n",
       "102908  VEN.10.1_1   VEN      77   \n",
       "102909  VEN.10.1_1   VEN      78   \n",
       "\n",
       "                                                 geometry  \n",
       "48880   POLYGON ((-63.37228 2.21171, -63.38110 2.20705...  \n",
       "48881   POLYGON ((-65.62041 2.73716, -65.62035 2.73668...  \n",
       "48882   POLYGON ((-66.94093 5.64498, -67.01332 5.58293...  \n",
       "48883   POLYGON ((-67.84909 5.29383, -67.80544 5.30084...  \n",
       "48884   POLYGON ((-66.56641 4.86244, -66.63248 4.89293...  \n",
       "...                                                   ...  \n",
       "102905  POLYGON ((-63.13403 11.34708, -63.13403 11.346...  \n",
       "102906  POLYGON ((-65.38458 10.99958, -65.38458 10.999...  \n",
       "102907  POLYGON ((-65.30791 10.98681, -65.30791 10.986...  \n",
       "102908  POLYGON ((-65.41847 10.97708, -65.41847 10.976...  \n",
       "102909  POLYGON ((-65.42931 10.97208, -65.42931 10.971...  \n",
       "\n",
       "[416 rows x 4 columns]"
      ]
     },
     "metadata": {},
     "execution_count": 62
    }
   ],
   "metadata": {}
  },
  {
   "cell_type": "code",
   "execution_count": 36,
   "source": [],
   "outputs": [
    {
     "output_type": "execute_result",
     "data": {
      "text/plain": [
       "(5760000,)"
      ]
     },
     "metadata": {},
     "execution_count": 36
    }
   ],
   "metadata": {}
  },
  {
   "cell_type": "code",
   "execution_count": null,
   "source": [
    "import geopandas as gpd\n",
    "gdf = gpd.GeoDataFrame(arr)"
   ],
   "outputs": [],
   "metadata": {}
  },
  {
   "cell_type": "code",
   "execution_count": 25,
   "source": [
    "2400/180"
   ],
   "outputs": [
    {
     "output_type": "execute_result",
     "data": {
      "text/plain": [
       "13.333333333333334"
      ]
     },
     "metadata": {},
     "execution_count": 25
    }
   ],
   "metadata": {}
  },
  {
   "cell_type": "code",
   "execution_count": 16,
   "source": [
    "sds_obj.attributes()"
   ],
   "outputs": [
    {
     "output_type": "execute_result",
     "data": {
      "text/plain": [
       "{'long_name': 'Land_Cover_Type_1\\x00\\x00\\x00\\x00\\x00\\x00\\x00\\x00\\x00\\x00\\x00\\x00\\x00\\x00\\x00\\x00\\x00\\x00\\x00\\x00\\x00\\x00\\x00\\x00\\x00\\x00\\x00\\x00\\x00\\x00\\x00\\x00\\x00\\x00\\x00\\x00\\x00\\x00\\x00\\x00\\x00\\x00\\x00\\x00\\x00\\x00\\x00\\x00\\x00\\x00\\x00\\x00\\x00\\x00\\x00\\x00\\x00\\x00\\x00\\x00\\x00\\x00\\x00\\x00\\x00\\x00\\x00\\x00\\x00\\x00\\x00\\x00\\x00\\x00\\x00\\x00\\x00\\x00\\x00\\x00\\x00\\x00\\x00',\n",
       " 'Evergreen Needleleaf Forests': 1,\n",
       " 'Evergreen Broadleaf Forests': 2,\n",
       " 'Deciduous Needleleaf Forests': 3,\n",
       " 'Deciduous Broadleaf Forests': 4,\n",
       " 'Mixed Forests': 5,\n",
       " 'Closed Shrublands': 6,\n",
       " 'Open Shrublands': 7,\n",
       " 'Woody Savannas': 8,\n",
       " 'Savannas': 9,\n",
       " 'Grasslands': 10,\n",
       " 'Permanent Wetlands': 11,\n",
       " 'Croplands': 12,\n",
       " 'Urban and Built-up Lands': 13,\n",
       " 'Cropland/Natural Vegetation Mosaics': 14,\n",
       " 'Permanent Snow and Ice': 15,\n",
       " 'Barren': 16,\n",
       " 'Water Bodies': 17,\n",
       " 'Unclassified': 255,\n",
       " 'valid_range': [1, 17],\n",
       " '_FillValue': 255}"
      ]
     },
     "metadata": {},
     "execution_count": 16
    }
   ],
   "metadata": {}
  },
  {
   "cell_type": "code",
   "execution_count": 22,
   "source": [
    "sds_obj.getcal()"
   ],
   "outputs": [
    {
     "output_type": "error",
     "ename": "HDF4Error",
     "evalue": "getcal (134): Cannot find or get an attribute",
     "traceback": [
      "\u001b[0;31m---------------------------------------------------------------------------\u001b[0m",
      "\u001b[0;31mHDF4Error\u001b[0m                                 Traceback (most recent call last)",
      "\u001b[0;32m/tmp/ipykernel_11322/2549558576.py\u001b[0m in \u001b[0;36m<module>\u001b[0;34m\u001b[0m\n\u001b[0;32m----> 1\u001b[0;31m \u001b[0msds_obj\u001b[0m\u001b[0;34m.\u001b[0m\u001b[0mgetcal\u001b[0m\u001b[0;34m(\u001b[0m\u001b[0;34m)\u001b[0m\u001b[0;34m\u001b[0m\u001b[0;34m\u001b[0m\u001b[0m\n\u001b[0m",
      "\u001b[0;32m/sd2/Moncho/Protestas/.venv/lib/python3.8/site-packages/pyhdf/SD.py\u001b[0m in \u001b[0;36mgetcal\u001b[0;34m(self)\u001b[0m\n\u001b[1;32m   2243\u001b[0m         \u001b[0mstatus\u001b[0m\u001b[0;34m,\u001b[0m \u001b[0mcal\u001b[0m\u001b[0;34m,\u001b[0m \u001b[0mcal_error\u001b[0m\u001b[0;34m,\u001b[0m \u001b[0moffset\u001b[0m\u001b[0;34m,\u001b[0m \u001b[0moffset_err\u001b[0m\u001b[0;34m,\u001b[0m \u001b[0mdata_type\u001b[0m \u001b[0;34m=\u001b[0m\u001b[0;31m \u001b[0m\u001b[0;31m\\\u001b[0m\u001b[0;34m\u001b[0m\u001b[0;34m\u001b[0m\u001b[0m\n\u001b[1;32m   2244\u001b[0m                          \u001b[0m_C\u001b[0m\u001b[0;34m.\u001b[0m\u001b[0mSDgetcal\u001b[0m\u001b[0;34m(\u001b[0m\u001b[0mself\u001b[0m\u001b[0;34m.\u001b[0m\u001b[0m_id\u001b[0m\u001b[0;34m)\u001b[0m\u001b[0;34m\u001b[0m\u001b[0;34m\u001b[0m\u001b[0m\n\u001b[0;32m-> 2245\u001b[0;31m         \u001b[0m_checkErr\u001b[0m\u001b[0;34m(\u001b[0m\u001b[0;34m'getcal'\u001b[0m\u001b[0;34m,\u001b[0m \u001b[0mstatus\u001b[0m\u001b[0;34m,\u001b[0m \u001b[0;34m'no calibration record'\u001b[0m\u001b[0;34m)\u001b[0m\u001b[0;34m\u001b[0m\u001b[0;34m\u001b[0m\u001b[0m\n\u001b[0m\u001b[1;32m   2246\u001b[0m         \u001b[0;32mreturn\u001b[0m \u001b[0mcal\u001b[0m\u001b[0;34m,\u001b[0m \u001b[0mcal_error\u001b[0m\u001b[0;34m,\u001b[0m \u001b[0moffset\u001b[0m\u001b[0;34m,\u001b[0m \u001b[0moffset_err\u001b[0m\u001b[0;34m,\u001b[0m \u001b[0mdata_type\u001b[0m\u001b[0;34m\u001b[0m\u001b[0;34m\u001b[0m\u001b[0m\n\u001b[1;32m   2247\u001b[0m \u001b[0;34m\u001b[0m\u001b[0m\n",
      "\u001b[0;32m/sd2/Moncho/Protestas/.venv/lib/python3.8/site-packages/pyhdf/error.py\u001b[0m in \u001b[0;36m_checkErr\u001b[0;34m(procName, val, msg)\u001b[0m\n\u001b[1;32m     21\u001b[0m         \u001b[0;32melse\u001b[0m\u001b[0;34m:\u001b[0m\u001b[0;34m\u001b[0m\u001b[0;34m\u001b[0m\u001b[0m\n\u001b[1;32m     22\u001b[0m             \u001b[0merr\u001b[0m \u001b[0;34m=\u001b[0m \u001b[0;34m\"%s : %s\"\u001b[0m \u001b[0;34m%\u001b[0m \u001b[0;34m(\u001b[0m\u001b[0mprocName\u001b[0m\u001b[0;34m,\u001b[0m \u001b[0mmsg\u001b[0m\u001b[0;34m)\u001b[0m\u001b[0;34m\u001b[0m\u001b[0;34m\u001b[0m\u001b[0m\n\u001b[0;32m---> 23\u001b[0;31m         \u001b[0;32mraise\u001b[0m \u001b[0mHDF4Error\u001b[0m\u001b[0;34m(\u001b[0m\u001b[0merr\u001b[0m\u001b[0;34m)\u001b[0m\u001b[0;34m\u001b[0m\u001b[0;34m\u001b[0m\u001b[0m\n\u001b[0m",
      "\u001b[0;31mHDF4Error\u001b[0m: getcal (134): Cannot find or get an attribute"
     ]
    }
   ],
   "metadata": {}
  },
  {
   "cell_type": "code",
   "execution_count": 15,
   "source": [
    "getmembers(sds_obj)"
   ],
   "outputs": [
    {
     "output_type": "execute_result",
     "data": {
      "text/plain": [
       "[('_SDS__buildStartCountStride',\n",
       "  <bound method SDS.__buildStartCountStride of <pyhdf.SD.SDS object at 0x7ffb0003fc10>>),\n",
       " ('__class__', pyhdf.SD.SDS),\n",
       " ('__del__',\n",
       "  <bound method SDS.__del__ of <pyhdf.SD.SDS object at 0x7ffb0003fc10>>),\n",
       " ('__delattr__',\n",
       "  <method-wrapper '__delattr__' of SDS object at 0x7ffb0003fc10>),\n",
       " ('__dict__', {'_sd': <pyhdf.SD.SD at 0x7ffb20490460>, '_id': 262144}),\n",
       " ('__dir__', <function SDS.__dir__()>),\n",
       " ('__doc__',\n",
       "  'The SDS class implements an HDF dataset object.\\n    To create an SDS instance, call the create() or select()\\n    methods of the SD class. To set attributes on an SDS instance,\\n    call the SDS.attr() method to create an attribute instance,\\n    then call the methods of this instance. Attributes can also be\\n    set using the \"dot notation\". '),\n",
       " ('__eq__', <method-wrapper '__eq__' of SDS object at 0x7ffb0003fc10>),\n",
       " ('__format__', <function SDS.__format__(format_spec, /)>),\n",
       " ('__ge__', <method-wrapper '__ge__' of SDS object at 0x7ffb0003fc10>),\n",
       " ('__getattr__',\n",
       "  <bound method SDS.__getattr__ of <pyhdf.SD.SDS object at 0x7ffb0003fc10>>),\n",
       " ('__getattribute__',\n",
       "  <method-wrapper '__getattribute__' of SDS object at 0x7ffb0003fc10>),\n",
       " ('__getitem__',\n",
       "  <bound method SDS.__getitem__ of <pyhdf.SD.SDS object at 0x7ffb0003fc10>>),\n",
       " ('__gt__', <method-wrapper '__gt__' of SDS object at 0x7ffb0003fc10>),\n",
       " ('__hash__', <method-wrapper '__hash__' of SDS object at 0x7ffb0003fc10>),\n",
       " ('__init__',\n",
       "  <bound method SDS.__init__ of <pyhdf.SD.SDS object at 0x7ffb0003fc10>>),\n",
       " ('__init_subclass__', <function SDS.__init_subclass__>),\n",
       " ('__le__', <method-wrapper '__le__' of SDS object at 0x7ffb0003fc10>),\n",
       " ('__len__',\n",
       "  <bound method SDS.__len__ of <pyhdf.SD.SDS object at 0x7ffb0003fc10>>),\n",
       " ('__lt__', <method-wrapper '__lt__' of SDS object at 0x7ffb0003fc10>),\n",
       " ('__module__', 'pyhdf.SD'),\n",
       " ('__ne__', <method-wrapper '__ne__' of SDS object at 0x7ffb0003fc10>),\n",
       " ('__new__', <function object.__new__(*args, **kwargs)>),\n",
       " ('__reduce__', <function SDS.__reduce__()>),\n",
       " ('__reduce_ex__', <function SDS.__reduce_ex__(protocol, /)>),\n",
       " ('__repr__', <method-wrapper '__repr__' of SDS object at 0x7ffb0003fc10>),\n",
       " ('__setattr__',\n",
       "  <bound method SDS.__setattr__ of <pyhdf.SD.SDS object at 0x7ffb0003fc10>>),\n",
       " ('__setitem__',\n",
       "  <bound method SDS.__setitem__ of <pyhdf.SD.SDS object at 0x7ffb0003fc10>>),\n",
       " ('__sizeof__', <function SDS.__sizeof__()>),\n",
       " ('__str__', <method-wrapper '__str__' of SDS object at 0x7ffb0003fc10>),\n",
       " ('__subclasshook__', <function SDS.__subclasshook__>),\n",
       " ('__weakref__', None),\n",
       " ('_id', 262144),\n",
       " ('_sd', <pyhdf.SD.SD at 0x7ffb20490460>),\n",
       " ('attr', <bound method SDS.attr of <pyhdf.SD.SDS object at 0x7ffb0003fc10>>),\n",
       " ('attributes',\n",
       "  <bound method SDS.attributes of <pyhdf.SD.SDS object at 0x7ffb0003fc10>>),\n",
       " ('checkempty',\n",
       "  <bound method SDS.checkempty of <pyhdf.SD.SDS object at 0x7ffb0003fc10>>),\n",
       " ('dim', <bound method SDS.dim of <pyhdf.SD.SDS object at 0x7ffb0003fc10>>),\n",
       " ('dimensions',\n",
       "  <bound method SDS.dimensions of <pyhdf.SD.SDS object at 0x7ffb0003fc10>>),\n",
       " ('endaccess',\n",
       "  <bound method SDS.endaccess of <pyhdf.SD.SDS object at 0x7ffb0003fc10>>),\n",
       " ('get', <bound method SDS.get of <pyhdf.SD.SDS object at 0x7ffb0003fc10>>),\n",
       " ('getcal',\n",
       "  <bound method SDS.getcal of <pyhdf.SD.SDS object at 0x7ffb0003fc10>>),\n",
       " ('getcompress',\n",
       "  <bound method SDS.getcompress of <pyhdf.SD.SDS object at 0x7ffb0003fc10>>),\n",
       " ('getdatastrs',\n",
       "  <bound method SDS.getdatastrs of <pyhdf.SD.SDS object at 0x7ffb0003fc10>>),\n",
       " ('getfillvalue',\n",
       "  <bound method SDS.getfillvalue of <pyhdf.SD.SDS object at 0x7ffb0003fc10>>),\n",
       " ('getrange',\n",
       "  <bound method SDS.getrange of <pyhdf.SD.SDS object at 0x7ffb0003fc10>>),\n",
       " ('info', <bound method SDS.info of <pyhdf.SD.SDS object at 0x7ffb0003fc10>>),\n",
       " ('iscoordvar',\n",
       "  <bound method SDS.iscoordvar of <pyhdf.SD.SDS object at 0x7ffb0003fc10>>),\n",
       " ('isrecord',\n",
       "  <bound method SDS.isrecord of <pyhdf.SD.SDS object at 0x7ffb0003fc10>>),\n",
       " ('ref', <bound method SDS.ref of <pyhdf.SD.SDS object at 0x7ffb0003fc10>>),\n",
       " ('set', <bound method SDS.set of <pyhdf.SD.SDS object at 0x7ffb0003fc10>>),\n",
       " ('setcal',\n",
       "  <bound method SDS.setcal of <pyhdf.SD.SDS object at 0x7ffb0003fc10>>),\n",
       " ('setcompress',\n",
       "  <bound method SDS.setcompress of <pyhdf.SD.SDS object at 0x7ffb0003fc10>>),\n",
       " ('setdatastrs',\n",
       "  <bound method SDS.setdatastrs of <pyhdf.SD.SDS object at 0x7ffb0003fc10>>),\n",
       " ('setexternalfile',\n",
       "  <bound method SDS.setexternalfile of <pyhdf.SD.SDS object at 0x7ffb0003fc10>>),\n",
       " ('setfillvalue',\n",
       "  <bound method SDS.setfillvalue of <pyhdf.SD.SDS object at 0x7ffb0003fc10>>),\n",
       " ('setrange',\n",
       "  <bound method SDS.setrange of <pyhdf.SD.SDS object at 0x7ffb0003fc10>>)]"
      ]
     },
     "metadata": {},
     "execution_count": 15
    }
   ],
   "metadata": {}
  },
  {
   "cell_type": "code",
   "execution_count": 10,
   "source": [
    "sds_obj.attributes()"
   ],
   "outputs": [
    {
     "output_type": "execute_result",
     "data": {
      "text/plain": [
       "{'long_name': 'Land_Cover_Type_1\\x00\\x00\\x00\\x00\\x00\\x00\\x00\\x00\\x00\\x00\\x00\\x00\\x00\\x00\\x00\\x00\\x00\\x00\\x00\\x00\\x00\\x00\\x00\\x00\\x00\\x00\\x00\\x00\\x00\\x00\\x00\\x00\\x00\\x00\\x00\\x00\\x00\\x00\\x00\\x00\\x00\\x00\\x00\\x00\\x00\\x00\\x00\\x00\\x00\\x00\\x00\\x00\\x00\\x00\\x00\\x00\\x00\\x00\\x00\\x00\\x00\\x00\\x00\\x00\\x00\\x00\\x00\\x00\\x00\\x00\\x00\\x00\\x00\\x00\\x00\\x00\\x00\\x00\\x00\\x00\\x00\\x00\\x00',\n",
       " 'Evergreen Needleleaf Forests': 1,\n",
       " 'Evergreen Broadleaf Forests': 2,\n",
       " 'Deciduous Needleleaf Forests': 3,\n",
       " 'Deciduous Broadleaf Forests': 4,\n",
       " 'Mixed Forests': 5,\n",
       " 'Closed Shrublands': 6,\n",
       " 'Open Shrublands': 7,\n",
       " 'Woody Savannas': 8,\n",
       " 'Savannas': 9,\n",
       " 'Grasslands': 10,\n",
       " 'Permanent Wetlands': 11,\n",
       " 'Croplands': 12,\n",
       " 'Urban and Built-up Lands': 13,\n",
       " 'Cropland/Natural Vegetation Mosaics': 14,\n",
       " 'Permanent Snow and Ice': 15,\n",
       " 'Barren': 16,\n",
       " 'Water Bodies': 17,\n",
       " 'Unclassified': 255,\n",
       " 'valid_range': [1, 17],\n",
       " '_FillValue': 255}"
      ]
     },
     "metadata": {},
     "execution_count": 10
    }
   ],
   "metadata": {}
  }
 ],
 "metadata": {
  "kernelspec": {
   "display_name": "Python 3 (ipykernel)",
   "language": "python",
   "name": "python3"
  },
  "language_info": {
   "codemirror_mode": {
    "name": "ipython",
    "version": 3
   },
   "file_extension": ".py",
   "mimetype": "text/x-python",
   "name": "python",
   "nbconvert_exporter": "python",
   "pygments_lexer": "ipython3",
   "version": "3.8.10"
  }
 },
 "nbformat": 4,
 "nbformat_minor": 4
}