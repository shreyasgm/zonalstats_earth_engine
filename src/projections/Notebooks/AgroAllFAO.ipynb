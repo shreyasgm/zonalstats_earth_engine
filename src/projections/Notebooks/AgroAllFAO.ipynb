{
 "cells": [
  {
   "cell_type": "markdown",
   "metadata": {},
   "source": [
    "As all FAO file share the same raster, this notebook uses the output of AgroPotentialYield.ipynb and maps the preprocessed raster to every other FAO file, producing a consolidated output csv."
   ]
  },
  {
   "cell_type": "code",
   "execution_count": 1,
   "metadata": {},
   "outputs": [
    {
     "name": "stderr",
     "output_type": "stream",
     "text": [
      "/sd2/Moncho/zonalstats_earth_engine/.venv/lib/python3.8/site-packages/geopandas/_compat.py:106: UserWarning: The Shapely GEOS version (3.8.0-CAPI-1.13.1 ) is incompatible with the GEOS version PyGEOS was compiled with (3.9.1-CAPI-1.14.2). Conversions between both will be slow.\n",
      "  warnings.warn(\n"
     ]
    }
   ],
   "source": [
    "import os\n",
    "import numpy as np\n",
    "import pandas as pd\n",
    "import shutil\n",
    "\n",
    "import yaml\n",
    "\n",
    "from tqdm import tqdm\n",
    "from concurrent.futures import ProcessPoolExecutor\n",
    "from pathlib import Path\n",
    "\n",
    "import sys\n",
    "module_path = os.path.abspath(os.path.join('..'))\n",
    "if module_path not in sys.path:\n",
    "    sys.path.append(module_path)\n",
    "\n",
    "from projections import raster, utils\n",
    "\n",
    "pd.set_option('max_columns', None)"
   ]
  },
  {
   "cell_type": "code",
   "execution_count": 2,
   "metadata": {},
   "outputs": [],
   "source": [
    "def aggregate_files_with_same_raster(in_out_path):\n",
    "    in_path, out_path = in_out_path\n",
    "    in_path = BASE_READ_PATH / in_path\n",
    "    out_path = BASE_OUTPUT_PATH / out_path\n",
    "    out_path.mkdir(exist_ok=True)\n",
    "    \n",
    "    if not shares_the_same_coordinates_as_potential_yield(in_path):\n",
    "        return {'in_path': in_path, 'errors': ['Wrong coordinates']}\n",
    "    \n",
    "    errors = []\n",
    "    for file in in_path.glob('*.tif'):\n",
    "        save_path = out_path / file.name\n",
    "        if save_path.with_suffix(\".csv\").exists():\n",
    "            continue\n",
    "            \n",
    "        file_path = out_path / file.name[:-4]\n",
    "        file_path.mkdir(exist_ok=True)\n",
    "\n",
    "        image = utils.read_tif(file)\n",
    "        increment = raster.get_increment_from_tif(image)\n",
    "\n",
    "        for df_path in BY_COUNTRY_PATH.glob('*.feather'):\n",
    "            country_save_path = file_path / df_path.name\n",
    "            if country_save_path.exists():\n",
    "                continue\n",
    "                \n",
    "            df = pd.read_feather(df_path)\n",
    "            pol = utils.get_mock_polygon_from_df(df, increment=increment)\n",
    "            subdf = raster.merge_df_to_array_by_lat_lon(df, image, pol)\n",
    "            if subdf.empty:\n",
    "                errors.append(f'{df_path.name} is empty')\n",
    "            else:\n",
    "                subdf.to_feather(country_save_path)\n",
    "\n",
    "        utils.aggregate_feather_splits_and_save(file_path, save_path, no_data_value=-9999)\n",
    "        shutil.rmtree(file_path)\n",
    "    return {'in_path': in_path, 'errors': errors}\n",
    "    \n",
    "    \n",
    "def shares_the_same_coordinates_as_potential_yield(path):\n",
    "    image = utils.read_tif('../Data/FAO/Agro-ClimaticPotentialYield/Alfalfa.tif')\n",
    "    x = image.x\n",
    "    y = image.y\n",
    "\n",
    "    for tif in path.glob('*.tif'):\n",
    "        image = utils.read_tif(tif)\n",
    "        if not (np.all(x == image.x) and np.all(y == image.y)):\n",
    "            return False\n",
    "    return True"
   ]
  },
  {
   "cell_type": "code",
   "execution_count": 3,
   "metadata": {},
   "outputs": [],
   "source": [
    "BASE_READ_PATH = Path('../Data/FAO/')\n",
    "BASE_OUTPUT_PATH = Path('../Output/FAO/')\n",
    "potential_yield_path = Path('../Output/FAO/Agro-ClimaticPotentialYield')\n",
    "BY_COUNTRY_PATH = potential_yield_path / 'by_country'"
   ]
  },
  {
   "cell_type": "code",
   "execution_count": 4,
   "metadata": {},
   "outputs": [],
   "source": [
    "in_out_paths = {\n",
    "    'Gap/AggregateYieldAchievementRatio': 'AggregateYieldAchievementRatio',\n",
    "    'Gap/CropApparentProductionGap': 'CropApparentProductionGap',\n",
    "    'Gap/CropYieldAchievementRatio': 'CropYieldAchievementRatio',\n",
    "    'Suitability_AttainableYield/SuitabilityIndex': 'SuitabilityIndex',\n",
    "    'Suitability_AttainableYield/Potential_Output_Density': 'Potential_Output_Density',\n",
    "    'ActualProduction/Area': 'ActualProductionArea',\n",
    "    'ActualProduction/Production': 'ActualProduction',\n",
    "    'ActualProduction/Production_Value': 'ActualProductionValue',\n",
    "    'ActualProduction/Yield': 'ActualProductionYield',\n",
    "}"
   ]
  },
  {
   "cell_type": "markdown",
   "metadata": {},
   "source": [
    "# Additional files with same raster\n",
    "**Requires output from AgroPotentialYield**"
   ]
  },
  {
   "cell_type": "code",
   "execution_count": 5,
   "metadata": {},
   "outputs": [],
   "source": [
    "from tqdm import tqdm\n",
    "from functools import partialmethod\n",
    "\n",
    "tqdm.__init__ = partialmethod(tqdm.__init__, disable=True)"
   ]
  },
  {
   "cell_type": "code",
   "execution_count": 6,
   "metadata": {
    "scrolled": true
   },
   "outputs": [
    {
     "name": "stdout",
     "output_type": "stream",
     "text": [
      "{'in_path': PosixPath('../Data/FAO/Gap/AggregateYieldAchievementRatio'), 'errors': []}\n",
      "{'in_path': PosixPath('../Data/FAO/Gap/CropApparentProductionGap'), 'errors': []}\n",
      "{'in_path': PosixPath('../Data/FAO/Gap/CropYieldAchievementRatio'), 'errors': []}\n",
      "{'in_path': PosixPath('../Data/FAO/Suitability_AttainableYield/SuitabilityIndex'), 'errors': []}\n",
      "{'in_path': PosixPath('../Data/FAO/Suitability_AttainableYield/Potential_Output_Density'), 'errors': []}\n",
      "{'in_path': PosixPath('../Data/FAO/ActualProduction/Area'), 'errors': []}\n",
      "{'in_path': PosixPath('../Data/FAO/ActualProduction/Production'), 'errors': []}\n",
      "{'in_path': PosixPath('../Data/FAO/ActualProduction/Production_Value'), 'errors': []}\n",
      "{'in_path': PosixPath('../Data/FAO/ActualProduction/Yield'), 'errors': []}\n"
     ]
    }
   ],
   "source": [
    "n_processes = min(len(in_out_paths), 12)\n",
    "\n",
    "if n_processes == 1:\n",
    "    for in_path, out_path in in_out_paths.items():\n",
    "        print(in_path)\n",
    "        result = aggregate_files_with_same_raster((in_path, out_path))\n",
    "        print(result)\n",
    "else:\n",
    "    with ProcessPoolExecutor(n_processes) as tpe:\n",
    "        for result in tpe.map(aggregate_files_with_same_raster, in_out_paths.items()):\n",
    "            print(result)"
   ]
  },
  {
   "cell_type": "code",
   "execution_count": 7,
   "metadata": {},
   "outputs": [],
   "source": [
    "def read_agro_df(file):\n",
    "    df = utils.robust_read(file)\n",
    "    value_name = f'{file.parent.name}_{file.with_suffix(\"\").name}'\n",
    "    df.rename(columns={'value': value_name}, inplace=True)\n",
    "    return df"
   ]
  },
  {
   "cell_type": "code",
   "execution_count": 8,
   "metadata": {},
   "outputs": [],
   "source": [
    "df = None\n",
    "\n",
    "for file in tqdm(BASE_OUTPUT_PATH.glob('**/*.csv')):\n",
    "    if file.parent.name == 'partial':\n",
    "        continue\n",
    "        \n",
    "    field = read_agro_df(file)\n",
    "    if field.empty:\n",
    "        continue\n",
    "    elif df is None:\n",
    "        df = field\n",
    "    else:\n",
    "        df = df.merge(field.drop(columns='intersection_area'), on='id', how='outer')"
   ]
  },
  {
   "cell_type": "code",
   "execution_count": 9,
   "metadata": {},
   "outputs": [],
   "source": [
    "df.to_csv(BASE_OUTPUT_PATH / 'all_FAO.csv', index=False)"
   ]
  }
 ],
 "metadata": {
  "kernelspec": {
   "display_name": "Python 3 (ipykernel)",
   "language": "python",
   "name": "python3"
  },
  "language_info": {
   "codemirror_mode": {
    "name": "ipython",
    "version": 3
   },
   "file_extension": ".py",
   "mimetype": "text/x-python",
   "name": "python",
   "nbconvert_exporter": "python",
   "pygments_lexer": "ipython3",
   "version": "3.8.10"
  }
 },
 "nbformat": 4,
 "nbformat_minor": 4
}
