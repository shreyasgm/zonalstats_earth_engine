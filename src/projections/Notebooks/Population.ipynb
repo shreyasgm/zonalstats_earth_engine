{
 "cells": [
  {
   "cell_type": "code",
   "execution_count": 1,
   "metadata": {},
   "outputs": [
    {
     "name": "stderr",
     "output_type": "stream",
     "text": [
      "/sd2/Moncho/zonalstats_earth_engine/.venv/lib/python3.8/site-packages/geopandas/_compat.py:106: UserWarning: The Shapely GEOS version (3.8.0-CAPI-1.13.1 ) is incompatible with the GEOS version PyGEOS was compiled with (3.9.1-CAPI-1.14.2). Conversions between both will be slow.\n",
      "  warnings.warn(\n"
     ]
    }
   ],
   "source": [
    "import os\n",
    "import numpy as np\n",
    "import pandas as pd\n",
    "import geopandas as gpd\n",
    "import re\n",
    "\n",
    "import shutil\n",
    "\n",
    "from functools import partial\n",
    "from pathlib import Path\n",
    "from tqdm import tqdm\n",
    "from concurrent.futures import ThreadPoolExecutor\n",
    "\n",
    "import sys\n",
    "module_path = os.path.abspath(os.path.join('..'))\n",
    "if module_path not in sys.path:\n",
    "    sys.path.append(module_path)\n",
    "\n",
    "from projections import raster, utils\n",
    "\n",
    "\n",
    "pd.set_option('max_columns', None)"
   ]
  },
  {
   "cell_type": "code",
   "execution_count": 2,
   "metadata": {},
   "outputs": [],
   "source": [
    "def save_location_mapping(row_and_path):\n",
    "    \"\"\"\n",
    "    Common function used to obtain a mapping of polygons to\n",
    "    the rasters used by the IMAGE. \n",
    "    \n",
    "    This is not part of projections because it assumes IMAGE \n",
    "    exists in the global scope.\n",
    "    \"\"\"\n",
    "    row, path = row_and_path\n",
    "    shape = row['geometry']\n",
    "    \n",
    "    subset = raster.find_subset_with_intersection_area(IMAGE, shape)\n",
    "\n",
    "    if subset.empty:\n",
    "        with open(path, 'w') as f:\n",
    "            f.write('')\n",
    "        return\n",
    "\n",
    "    subset['id'] = row['id']\n",
    "    \n",
    "    subset.to_csv(path, index=False)   "
   ]
  },
  {
   "cell_type": "code",
   "execution_count": 3,
   "metadata": {},
   "outputs": [],
   "source": [
    "read_path = Path('../Data/Population')\n",
    "output_path = utils.make_path('../Output/Population/')\n",
    "partial_path = utils.make_path(output_path / 'partial')\n",
    "by_country_path = utils.make_path(output_path / 'by_country')"
   ]
  },
  {
   "cell_type": "code",
   "execution_count": 4,
   "metadata": {},
   "outputs": [],
   "source": [
    "# Validate that all TIF share the same coordinates\n",
    "x = None\n",
    "y = None\n",
    "no_data_value = None\n",
    "\n",
    "all_tif = sorted(read_path.glob('**/*.tif'))\n",
    "for tif in all_tif:\n",
    "    image = utils.read_tif(tif)\n",
    "    if x is None:\n",
    "        x = image.x\n",
    "        y = image.y\n",
    "        no_data_value = image._FillValue\n",
    "    else:\n",
    "        assert np.all(x == image.x) and np.all(y == image.y), tif\n",
    "        assert no_data_value == image._FillValue\n",
    "        \n",
    "base_file = all_tif[0]"
   ]
  },
  {
   "cell_type": "markdown",
   "metadata": {},
   "source": [
    "# Map raster to polygons\n",
    "This preprocessing step creates one csv file per shape with the correct raster's coordinates and their intersection area with each polygon"
   ]
  },
  {
   "cell_type": "code",
   "execution_count": 5,
   "metadata": {},
   "outputs": [],
   "source": [
    "# Read SHP with all polygons (output of PreprocessingLocs.ipynb, also available in Drive)\n",
    "geo_df = gpd.read_file('../Shapefiles/preprocessed/all_countries_with_eth.shp')"
   ]
  },
  {
   "cell_type": "code",
   "execution_count": 6,
   "metadata": {
    "scrolled": true
   },
   "outputs": [
    {
     "name": "stderr",
     "output_type": "stream",
     "text": [
      "  0%|                                  | 25/122772 [34:34<1595:54:20, 46.81s/it]IOStream.flush timed out\n",
      "  0%|                                  | 26/122772 [34:47<1280:57:10, 37.57s/it]IOStream.flush timed out\n",
      "  1%|▍                                 | 1777/122772 [51:20<58:15:18,  1.73s/it]\n"
     ]
    }
   ],
   "source": [
    "n_processes = 15\n",
    "\n",
    "IMAGE = utils.read_tif(base_file)\n",
    "\n",
    "iterator = partial(utils.yield_missing_shapes, save_path=partial_path, prefix=base_file.name[:-4])\n",
    "\n",
    "if n_processes == 1:\n",
    "    for row_and_path in tqdm(iterator(geo_df)):\n",
    "        save_location_mapping(row_and_path)\n",
    "else:\n",
    "    with ThreadPoolExecutor(n_processes) as tpe:\n",
    "        for _ in tqdm(\n",
    "            tpe.map(save_location_mapping, iterator(geo_df)), \n",
    "            total=geo_df.shape[0]\n",
    "        ):\n",
    "            pass"
   ]
  },
  {
   "cell_type": "code",
   "execution_count": 7,
   "metadata": {},
   "outputs": [
    {
     "name": "stderr",
     "output_type": "stream",
     "text": [
      "Reading: 122772it [12:17, 166.40it/s]\n",
      "Saving: 100%|████████████████████████████| 48140/48140 [03:33<00:00, 225.53it/s]\n"
     ]
    }
   ],
   "source": [
    "utils.union_and_save_portions(read_from=partial_path, save_in=by_country_path)"
   ]
  },
  {
   "cell_type": "markdown",
   "metadata": {},
   "source": [
    "# Aggregate all files with same raster\n",
    "As there are multiple TIFs but all of them share the same raster, match the values from these to the preprocessed raster and perform aggregations."
   ]
  },
  {
   "cell_type": "code",
   "execution_count": 5,
   "metadata": {},
   "outputs": [
    {
     "name": "stdout",
     "output_type": "stream",
     "text": [
      "Running with 1 processes\n"
     ]
    },
    {
     "name": "stderr",
     "output_type": "stream",
     "text": [
      "Reading: 100%|███████████████████████████| 48140/48140 [02:18<00:00, 347.24it/s]\n",
      "Grouping: 100%|██████████████████████████| 48140/48140 [07:38<00:00, 104.89it/s]\n"
     ]
    },
    {
     "name": "stdout",
     "output_type": "stream",
     "text": [
      "gpw_v4_population_count_rev11_2005_30_sec.tif\n"
     ]
    },
    {
     "name": "stderr",
     "output_type": "stream",
     "text": [
      "Reading: 100%|███████████████████████████| 48140/48140 [02:49<00:00, 283.53it/s]\n",
      "Grouping: 100%|██████████████████████████| 48140/48140 [07:20<00:00, 109.25it/s]\n"
     ]
    },
    {
     "name": "stdout",
     "output_type": "stream",
     "text": [
      "gpw_v4_population_count_rev11_2010_30_sec.tif\n"
     ]
    },
    {
     "name": "stderr",
     "output_type": "stream",
     "text": [
      "Reading: 100%|███████████████████████████| 48140/48140 [02:20<00:00, 341.62it/s]\n",
      "Grouping: 100%|██████████████████████████| 48140/48140 [07:14<00:00, 110.75it/s]\n"
     ]
    },
    {
     "name": "stdout",
     "output_type": "stream",
     "text": [
      "gpw_v4_population_count_rev11_2015_30_sec.tif\n"
     ]
    },
    {
     "name": "stderr",
     "output_type": "stream",
     "text": [
      "Reading:  43%|███████████▋               | 20798/48140 [01:15<01:06, 412.05it/s]"
     ]
    },
    {
     "name": "stdout",
     "output_type": "stream",
     "text": [
      "Error while reading ../Output/Population/Count/gpw_v4_population_count_rev11_2020_30_sec/JPN.22.1_1.feather. File is too small to be a well-formed file\n"
     ]
    },
    {
     "name": "stderr",
     "output_type": "stream",
     "text": [
      "Reading: 100%|███████████████████████████| 48140/48140 [02:22<00:00, 337.49it/s]\n",
      "Grouping: 100%|██████████████████████████| 48140/48140 [07:13<00:00, 110.93it/s]\n"
     ]
    },
    {
     "name": "stdout",
     "output_type": "stream",
     "text": [
      "gpw_v4_population_count_rev11_2020_30_sec.tif\n"
     ]
    },
    {
     "name": "stderr",
     "output_type": "stream",
     "text": [
      "Reading:  43%|███████████▋               | 20840/48140 [01:14<01:03, 428.65it/s]"
     ]
    },
    {
     "name": "stdout",
     "output_type": "stream",
     "text": [
      "Error while reading ../Output/Population/Density/gpw_v4_population_density_rev11_2000_30_sec/JPN.23.6_1.feather. File is too small to be a well-formed file\n"
     ]
    },
    {
     "name": "stderr",
     "output_type": "stream",
     "text": [
      "Reading: 100%|███████████████████████████| 48140/48140 [02:22<00:00, 338.66it/s]\n",
      "Grouping: 100%|██████████████████████████| 48140/48140 [07:15<00:00, 110.66it/s]\n"
     ]
    },
    {
     "name": "stdout",
     "output_type": "stream",
     "text": [
      "gpw_v4_population_density_rev11_2000_30_sec.tif\n"
     ]
    },
    {
     "name": "stderr",
     "output_type": "stream",
     "text": [
      "Reading: 100%|███████████████████████████| 48140/48140 [02:21<00:00, 339.09it/s]\n",
      "Grouping: 100%|██████████████████████████| 48140/48140 [07:14<00:00, 110.68it/s]\n"
     ]
    },
    {
     "name": "stdout",
     "output_type": "stream",
     "text": [
      "gpw_v4_population_density_rev11_2005_30_sec.tif\n"
     ]
    },
    {
     "name": "stderr",
     "output_type": "stream",
     "text": [
      "Reading: 100%|███████████████████████████| 48140/48140 [02:22<00:00, 338.62it/s]\n",
      "Grouping: 100%|██████████████████████████| 48140/48140 [07:15<00:00, 110.44it/s]\n"
     ]
    },
    {
     "name": "stdout",
     "output_type": "stream",
     "text": [
      "gpw_v4_population_density_rev11_2010_30_sec.tif\n"
     ]
    },
    {
     "name": "stderr",
     "output_type": "stream",
     "text": [
      "Reading: 100%|███████████████████████████| 48140/48140 [02:19<00:00, 344.16it/s]\n",
      "Grouping: 100%|██████████████████████████| 48140/48140 [07:15<00:00, 110.54it/s]\n"
     ]
    },
    {
     "name": "stdout",
     "output_type": "stream",
     "text": [
      "gpw_v4_population_density_rev11_2015_30_sec.tif\n"
     ]
    },
    {
     "name": "stderr",
     "output_type": "stream",
     "text": [
      "Reading: 100%|███████████████████████████| 48140/48140 [02:22<00:00, 337.67it/s]\n",
      "Grouping: 100%|██████████████████████████| 48140/48140 [07:16<00:00, 110.31it/s]\n"
     ]
    },
    {
     "name": "stdout",
     "output_type": "stream",
     "text": [
      "gpw_v4_population_density_rev11_2020_30_sec.tif\n"
     ]
    }
   ],
   "source": [
    "def aggregate_one(file):\n",
    "    partial_path = utils.make_path(f'../Output/Population/{file.parent.name}/partial')\n",
    "    output_path = partial_path.parent / file.name\n",
    "    if output_path.exists():\n",
    "        return file.name\n",
    "    \n",
    "    file_path = partial_path.parent / file.name[:-4]\n",
    "    file_path.mkdir(exist_ok=True)\n",
    "\n",
    "    IMAGE = utils.read_tif(file)\n",
    "    increment = raster.get_increment_from_tif(IMAGE)\n",
    "    \n",
    "    for df_path in by_country_path.glob('*.feather'):\n",
    "        subdf_path = file_path / df_path.name\n",
    "        if subdf_path.exists():\n",
    "            continue\n",
    "            \n",
    "        df = pd.read_feather(df_path)\n",
    "        pol = utils.get_mock_polygon_from_df(df, increment=increment)\n",
    "        subdf = raster.merge_df_to_array_by_lat_lon(df, IMAGE, pol)\n",
    "        if subdf.empty:\n",
    "            print(df_path.name, 'is empty')\n",
    "        else:\n",
    "            subdf.to_feather(subdf_path)\n",
    "            \n",
    "    utils.aggregate_feather_splits_and_save(\n",
    "        input_path=file_path, \n",
    "        output_path=output_path, \n",
    "        no_data_value=no_data_value\n",
    "    )\n",
    "    shutil.rmtree(file_path)\n",
    "    return file.name\n",
    "    \n",
    "n_processes = min(len(all_tif), 1)\n",
    "print(f\"Running with {n_processes} processes\")\n",
    "if n_processes == 1:\n",
    "    for tif_file in all_tif[1:]:\n",
    "        print(aggregate_one(tif_file))\n",
    "else:\n",
    "    with ThreadPoolExecutor(n_processes) as tpe:\n",
    "        for name in tpe.map(aggregate_one, all_tif):\n",
    "            print(name)"
   ]
  },
  {
   "cell_type": "markdown",
   "metadata": {},
   "source": [
    "# Join results\n",
    "Combine all the intermediate results and save a consolidated file"
   ]
  },
  {
   "cell_type": "code",
   "execution_count": 12,
   "metadata": {},
   "outputs": [],
   "source": [
    "def read_population_df(file):\n",
    "    df = utils.robust_read(file)\n",
    "    year = get_year_from_population_file(file)\n",
    "    renames = {'a_value': f'average_{file.parent.name}_{year}', \"s_value\": f'sum_{file.parent.name}_{year}'}\n",
    "    df.rename(columns=renames, inplace=True)\n",
    "    return df\n",
    "\n",
    "def get_year_from_population_file(file):\n",
    "    return re.findall(\".*_(\\d{4})_.*\", file.name)[0]"
   ]
  },
  {
   "cell_type": "code",
   "execution_count": 18,
   "metadata": {},
   "outputs": [
    {
     "name": "stderr",
     "output_type": "stream",
     "text": [
      "122781it [00:02, 50738.25it/s]\n"
     ]
    }
   ],
   "source": [
    "df = None\n",
    "\n",
    "for file in tqdm(output_path.glob('**/*.csv')):\n",
    "    if file.parent.name == 'partial':\n",
    "        continue\n",
    "        \n",
    "    field = read_population_df(file)\n",
    "    if field.empty:\n",
    "        continue\n",
    "    elif df is None:\n",
    "        df = field\n",
    "    else:\n",
    "        field.drop(columns='n_grids', inplace=True)\n",
    "        df = df.merge(field.drop(columns='intersection_area'), on='id', how='outer')"
   ]
  },
  {
   "cell_type": "code",
   "execution_count": 19,
   "metadata": {},
   "outputs": [
    {
     "data": {
      "text/html": [
       "<div>\n",
       "<style scoped>\n",
       "    .dataframe tbody tr th:only-of-type {\n",
       "        vertical-align: middle;\n",
       "    }\n",
       "\n",
       "    .dataframe tbody tr th {\n",
       "        vertical-align: top;\n",
       "    }\n",
       "\n",
       "    .dataframe thead th {\n",
       "        text-align: right;\n",
       "    }\n",
       "</style>\n",
       "<table border=\"1\" class=\"dataframe\">\n",
       "  <thead>\n",
       "    <tr style=\"text-align: right;\">\n",
       "      <th></th>\n",
       "      <th>id</th>\n",
       "      <th>average_Count_2005</th>\n",
       "      <th>intersection_area</th>\n",
       "      <th>sum_Count_2005</th>\n",
       "      <th>n_grids</th>\n",
       "      <th>average_Count_2010</th>\n",
       "      <th>sum_Count_2010</th>\n",
       "      <th>average_Count_2015</th>\n",
       "      <th>sum_Count_2015</th>\n",
       "      <th>average_Count_2020</th>\n",
       "      <th>sum_Count_2020</th>\n",
       "      <th>average_Density_2000</th>\n",
       "      <th>sum_Density_2000</th>\n",
       "      <th>average_Density_2005</th>\n",
       "      <th>sum_Density_2005</th>\n",
       "      <th>average_Density_2010</th>\n",
       "      <th>sum_Density_2010</th>\n",
       "      <th>average_Density_2015</th>\n",
       "      <th>sum_Density_2015</th>\n",
       "      <th>average_Density_2020</th>\n",
       "      <th>sum_Density_2020</th>\n",
       "    </tr>\n",
       "  </thead>\n",
       "  <tbody>\n",
       "    <tr>\n",
       "      <th>0</th>\n",
       "      <td>ESP__JEBALA</td>\n",
       "      <td>2124.700901</td>\n",
       "      <td>2.028597e+07</td>\n",
       "      <td>61957.434730</td>\n",
       "      <td>55</td>\n",
       "      <td>2299.926320</td>\n",
       "      <td>67067.082923</td>\n",
       "      <td>2490.245142</td>\n",
       "      <td>72616.856351</td>\n",
       "      <td>2697.109862</td>\n",
       "      <td>78649.108859</td>\n",
       "      <td>3235.962160</td>\n",
       "      <td>94362.598853</td>\n",
       "      <td>3501.463327</td>\n",
       "      <td>102104.748955</td>\n",
       "      <td>3789.509177</td>\n",
       "      <td>110504.308021</td>\n",
       "      <td>4102.195191</td>\n",
       "      <td>119622.379562</td>\n",
       "      <td>4441.853972</td>\n",
       "      <td>129526.981204</td>\n",
       "    </tr>\n",
       "    <tr>\n",
       "      <th>1</th>\n",
       "      <td>GHA__BASARI</td>\n",
       "      <td>35.645827</td>\n",
       "      <td>1.095963e+06</td>\n",
       "      <td>46.282871</td>\n",
       "      <td>7</td>\n",
       "      <td>42.640694</td>\n",
       "      <td>55.365083</td>\n",
       "      <td>51.339321</td>\n",
       "      <td>66.659477</td>\n",
       "      <td>62.167306</td>\n",
       "      <td>80.718653</td>\n",
       "      <td>35.332634</td>\n",
       "      <td>45.876208</td>\n",
       "      <td>41.961965</td>\n",
       "      <td>54.483803</td>\n",
       "      <td>50.196276</td>\n",
       "      <td>65.175323</td>\n",
       "      <td>60.436239</td>\n",
       "      <td>78.471004</td>\n",
       "      <td>73.182871</td>\n",
       "      <td>95.021374</td>\n",
       "    </tr>\n",
       "    <tr>\n",
       "      <th>2</th>\n",
       "      <td>GHA__AVATIME</td>\n",
       "      <td>195.322298</td>\n",
       "      <td>1.210947e+08</td>\n",
       "      <td>27856.667075</td>\n",
       "      <td>175</td>\n",
       "      <td>233.119314</td>\n",
       "      <td>33247.236738</td>\n",
       "      <td>278.271609</td>\n",
       "      <td>39686.807988</td>\n",
       "      <td>332.213036</td>\n",
       "      <td>47379.875395</td>\n",
       "      <td>191.519210</td>\n",
       "      <td>27314.276476</td>\n",
       "      <td>228.542221</td>\n",
       "      <td>32594.458779</td>\n",
       "      <td>272.767640</td>\n",
       "      <td>38901.840329</td>\n",
       "      <td>325.599298</td>\n",
       "      <td>46436.634001</td>\n",
       "      <td>388.714914</td>\n",
       "      <td>55438.114224</td>\n",
       "    </tr>\n",
       "    <tr>\n",
       "      <th>3</th>\n",
       "      <td>GHA__ADELE</td>\n",
       "      <td>28.954485</td>\n",
       "      <td>6.778642e+08</td>\n",
       "      <td>23195.041591</td>\n",
       "      <td>882</td>\n",
       "      <td>33.683694</td>\n",
       "      <td>26983.546696</td>\n",
       "      <td>39.185701</td>\n",
       "      <td>31391.128635</td>\n",
       "      <td>45.586826</td>\n",
       "      <td>36518.982668</td>\n",
       "      <td>29.225065</td>\n",
       "      <td>23411.800934</td>\n",
       "      <td>33.998141</td>\n",
       "      <td>27235.446677</td>\n",
       "      <td>39.551144</td>\n",
       "      <td>31683.881246</td>\n",
       "      <td>46.011558</td>\n",
       "      <td>36859.231244</td>\n",
       "      <td>53.527712</td>\n",
       "      <td>42880.319615</td>\n",
       "    </tr>\n",
       "    <tr>\n",
       "      <th>4</th>\n",
       "      <td>GHA__MOBA</td>\n",
       "      <td>28.341024</td>\n",
       "      <td>2.560286e+06</td>\n",
       "      <td>86.269693</td>\n",
       "      <td>11</td>\n",
       "      <td>32.497303</td>\n",
       "      <td>98.921357</td>\n",
       "      <td>37.310472</td>\n",
       "      <td>113.572586</td>\n",
       "      <td>42.893741</td>\n",
       "      <td>130.567994</td>\n",
       "      <td>29.237103</td>\n",
       "      <td>88.997343</td>\n",
       "      <td>33.484403</td>\n",
       "      <td>101.926072</td>\n",
       "      <td>38.394973</td>\n",
       "      <td>116.873788</td>\n",
       "      <td>44.081648</td>\n",
       "      <td>134.183959</td>\n",
       "      <td>50.678184</td>\n",
       "      <td>154.263737</td>\n",
       "    </tr>\n",
       "  </tbody>\n",
       "</table>\n",
       "</div>"
      ],
      "text/plain": [
       "             id  average_Count_2005  intersection_area  sum_Count_2005  \\\n",
       "0   ESP__JEBALA         2124.700901       2.028597e+07    61957.434730   \n",
       "1   GHA__BASARI           35.645827       1.095963e+06       46.282871   \n",
       "2  GHA__AVATIME          195.322298       1.210947e+08    27856.667075   \n",
       "3    GHA__ADELE           28.954485       6.778642e+08    23195.041591   \n",
       "4     GHA__MOBA           28.341024       2.560286e+06       86.269693   \n",
       "\n",
       "   n_grids  average_Count_2010  sum_Count_2010  average_Count_2015  \\\n",
       "0       55         2299.926320    67067.082923         2490.245142   \n",
       "1        7           42.640694       55.365083           51.339321   \n",
       "2      175          233.119314    33247.236738          278.271609   \n",
       "3      882           33.683694    26983.546696           39.185701   \n",
       "4       11           32.497303       98.921357           37.310472   \n",
       "\n",
       "   sum_Count_2015  average_Count_2020  sum_Count_2020  average_Density_2000  \\\n",
       "0    72616.856351         2697.109862    78649.108859           3235.962160   \n",
       "1       66.659477           62.167306       80.718653             35.332634   \n",
       "2    39686.807988          332.213036    47379.875395            191.519210   \n",
       "3    31391.128635           45.586826    36518.982668             29.225065   \n",
       "4      113.572586           42.893741      130.567994             29.237103   \n",
       "\n",
       "   sum_Density_2000  average_Density_2005  sum_Density_2005  \\\n",
       "0      94362.598853           3501.463327     102104.748955   \n",
       "1         45.876208             41.961965         54.483803   \n",
       "2      27314.276476            228.542221      32594.458779   \n",
       "3      23411.800934             33.998141      27235.446677   \n",
       "4         88.997343             33.484403        101.926072   \n",
       "\n",
       "   average_Density_2010  sum_Density_2010  average_Density_2015  \\\n",
       "0           3789.509177     110504.308021           4102.195191   \n",
       "1             50.196276         65.175323             60.436239   \n",
       "2            272.767640      38901.840329            325.599298   \n",
       "3             39.551144      31683.881246             46.011558   \n",
       "4             38.394973        116.873788             44.081648   \n",
       "\n",
       "   sum_Density_2015  average_Density_2020  sum_Density_2020  \n",
       "0     119622.379562           4441.853972     129526.981204  \n",
       "1         78.471004             73.182871         95.021374  \n",
       "2      46436.634001            388.714914      55438.114224  \n",
       "3      36859.231244             53.527712      42880.319615  \n",
       "4        134.183959             50.678184        154.263737  "
      ]
     },
     "execution_count": 19,
     "metadata": {},
     "output_type": "execute_result"
    }
   ],
   "source": [
    "df.to_csv(output_path / \"population.csv\", index=False)\n",
    "df.head()"
   ]
  }
 ],
 "metadata": {
  "kernelspec": {
   "display_name": "Python 3 (ipykernel)",
   "language": "python",
   "name": "python3"
  },
  "language_info": {
   "codemirror_mode": {
    "name": "ipython",
    "version": 3
   },
   "file_extension": ".py",
   "mimetype": "text/x-python",
   "name": "python",
   "nbconvert_exporter": "python",
   "pygments_lexer": "ipython3",
   "version": "3.8.10"
  }
 },
 "nbformat": 4,
 "nbformat_minor": 4
}
