{
 "cells": [
  {
   "cell_type": "code",
   "execution_count": 10,
   "metadata": {},
   "outputs": [],
   "source": [
    "import pandas as pd\n",
    "import geopandas as gpd\n",
    "import numpy as np\n",
    "import yaml\n",
    "import re\n",
    "from tqdm import tqdm\n",
    "from pathlib import Path\n",
    "from glob import glob\n",
    "from functools import partial\n",
    "from concurrent.futures import ProcessPoolExecutor\n",
    "\n",
    "import shapefile\n",
    "import shapely\n",
    "from shapely.geometry import Point\n",
    "\n",
    "import os\n",
    "import sys\n",
    "module_path = os.path.abspath(os.path.join('..'))\n",
    "if module_path not in sys.path:\n",
    "    sys.path.append(module_path)\n",
    "\n",
    "from projections.shapefiles import load_shapes, iter_records\n",
    "from projections.models import Records\n",
    "from projections import raster, utils, constants\n",
    "\n",
    "pd.set_option('max_columns', None)"
   ]
  },
  {
   "cell_type": "code",
   "execution_count": 2,
   "metadata": {},
   "outputs": [],
   "source": [
    "output_folder = utils.make_path('../Output/Precipitaciones/Raster/CRU/')\n",
    "location_folder = utils.make_path(output_folder / 'locations')"
   ]
  },
  {
   "cell_type": "code",
   "execution_count": 3,
   "metadata": {},
   "outputs": [],
   "source": [
    "def load_df():\n",
    "    df = pd.read_csv('../Data/Precipitaciones/cru_80-20.csv')\n",
    "    df = gpd.GeoDataFrame(df, geometry=gpd.points_from_xy(df['lon'], df['lat']), crs=4326)\n",
    "    df = raster.create_by_separation(df, lat='lat', lon='lon')\n",
    "    return df"
   ]
  },
  {
   "cell_type": "markdown",
   "metadata": {},
   "source": [
    "# Map raster to adm2"
   ]
  },
  {
   "cell_type": "code",
   "execution_count": 4,
   "metadata": {},
   "outputs": [],
   "source": [
    "geo_df = gpd.read_file('../Shapefiles/preprocessed/all_countries_with_eth.shp')"
   ]
  },
  {
   "cell_type": "code",
   "execution_count": 11,
   "metadata": {},
   "outputs": [],
   "source": [
    "def mapper_worker(indices):\n",
    "    df = load_df()\n",
    "    geo_df = gpd.read_file('../Shapefiles/preprocessed/all_countries_with_eth.shp')\n",
    "    \n",
    "    for _, row in geo_df.loc[indices].iterrows():\n",
    "        portion = f\"_p{int(row['portion']):03d}\" if row['portion'] else \"\"\n",
    "        file_name = f\"{row['id']}{portion}.csv\"\n",
    "        row_path = location_folder / file_name\n",
    "        if row_path.exists():\n",
    "            continue\n",
    "\n",
    "        subset = raster.get_intersection_area(df, row['geometry'])\n",
    "        if subset is not None:\n",
    "            subset = subset[subset[\"intersection_area\"] > 0].copy()\n",
    "        else:\n",
    "            subset = pd.DataFrame()\n",
    "        subset.to_csv(row_path, index=False)\n",
    "    return 0"
   ]
  },
  {
   "cell_type": "code",
   "execution_count": 6,
   "metadata": {},
   "outputs": [],
   "source": [
    "n_processes = 15\n",
    "random_index = list(geo_df.index)\n",
    "np.random.shuffle(random_index)\n",
    "batch_size = (len(random_index) // n_processes) + 1\n",
    "indices = [random_index[i:i+batch_size] for i in range(0, len(random_index), batch_size)]"
   ]
  },
  {
   "cell_type": "code",
   "execution_count": 12,
   "metadata": {
    "scrolled": true
   },
   "outputs": [
    {
     "name": "stdout",
     "output_type": "stream",
     "text": [
      "Separation:Separation:  {'lat': 0.5, 'lon': 0.5}{'lat': 0.5, 'lon': 0.5}\n",
      "\n",
      "Separation: {'lat': 0.5, 'lon': 0.5}\n"
     ]
    },
    {
     "name": "stderr",
     "output_type": "stream",
     "text": [
      "/sd2/Moncho/zonalstats_earth_engine/src/projections/raster.py:28: UserWarning: Geometry is in a geographic CRS. Results from 'buffer' are likely incorrect. Use 'GeoSeries.to_crs()' to re-project geometries to a projected CRS before this operation.\n",
      "\n",
      "  df[\"raster\"] = df.buffer(sep[\"lat\"] / 2, cap_style=3)\n"
     ]
    },
    {
     "name": "stdout",
     "output_type": "stream",
     "text": [
      "Separation: "
     ]
    },
    {
     "name": "stderr",
     "output_type": "stream",
     "text": [
      "/sd2/Moncho/zonalstats_earth_engine/src/projections/raster.py:28: UserWarning: Geometry is in a geographic CRS. Results from 'buffer' are likely incorrect. Use 'GeoSeries.to_crs()' to re-project geometries to a projected CRS before this operation.\n",
      "\n",
      "  df[\"raster\"] = df.buffer(sep[\"lat\"] / 2, cap_style=3)\n"
     ]
    },
    {
     "name": "stdout",
     "output_type": "stream",
     "text": [
      "{'lat': 0.5, 'lon': 0.5}\n",
      "Separation: "
     ]
    },
    {
     "name": "stderr",
     "output_type": "stream",
     "text": [
      "/sd2/Moncho/zonalstats_earth_engine/src/projections/raster.py:28: UserWarning: Geometry is in a geographic CRS. Results from 'buffer' are likely incorrect. Use 'GeoSeries.to_crs()' to re-project geometries to a projected CRS before this operation.\n",
      "\n",
      "  df[\"raster\"] = df.buffer(sep[\"lat\"] / 2, cap_style=3)\n"
     ]
    },
    {
     "name": "stdout",
     "output_type": "stream",
     "text": [
      "{'lat': 0.5, 'lon': 0.5}\n"
     ]
    },
    {
     "name": "stderr",
     "output_type": "stream",
     "text": [
      "/sd2/Moncho/zonalstats_earth_engine/src/projections/raster.py:28: UserWarning: Geometry is in a geographic CRS. Results from 'buffer' are likely incorrect. Use 'GeoSeries.to_crs()' to re-project geometries to a projected CRS before this operation.\n",
      "\n",
      "  df[\"raster\"] = df.buffer(sep[\"lat\"] / 2, cap_style=3)\n",
      "/sd2/Moncho/zonalstats_earth_engine/src/projections/raster.py:28: UserWarning: Geometry is in a geographic CRS. Results from 'buffer' are likely incorrect. Use 'GeoSeries.to_crs()' to re-project geometries to a projected CRS before this operation.\n",
      "\n",
      "  df[\"raster\"] = df.buffer(sep[\"lat\"] / 2, cap_style=3)\n"
     ]
    },
    {
     "name": "stdout",
     "output_type": "stream",
     "text": [
      "Separation:"
     ]
    }
   ],
   "source": [
    "with ProcessPoolExecutor(n_processes) as ppe:\n",
    "    futures = [ppe.submit(mapper_worker, index) for index in indices]\n",
    "    for future in futures:\n",
    "        print(future.result())"
   ]
  },
  {
   "cell_type": "code",
   "execution_count": 25,
   "metadata": {},
   "outputs": [
    {
     "name": "stderr",
     "output_type": "stream",
     "text": [
      "122774it [03:47, 539.85it/s]\n"
     ]
    },
    {
     "name": "stdout",
     "output_type": "stream",
     "text": [
      "(320615, 5)\n"
     ]
    },
    {
     "data": {
      "text/html": [
       "<div>\n",
       "<style scoped>\n",
       "    .dataframe tbody tr th:only-of-type {\n",
       "        vertical-align: middle;\n",
       "    }\n",
       "\n",
       "    .dataframe tbody tr th {\n",
       "        vertical-align: top;\n",
       "    }\n",
       "\n",
       "    .dataframe thead th {\n",
       "        text-align: right;\n",
       "    }\n",
       "</style>\n",
       "<table border=\"1\" class=\"dataframe\">\n",
       "  <thead>\n",
       "    <tr style=\"text-align: right;\">\n",
       "      <th></th>\n",
       "      <th>lat</th>\n",
       "      <th>lon</th>\n",
       "      <th>intersection_area</th>\n",
       "      <th>id</th>\n",
       "      <th>portion</th>\n",
       "    </tr>\n",
       "  </thead>\n",
       "  <tbody>\n",
       "    <tr>\n",
       "      <th>0</th>\n",
       "      <td>27.75</td>\n",
       "      <td>-18.25</td>\n",
       "      <td>1.263230e+08</td>\n",
       "      <td>ESP__GUANCHE</td>\n",
       "      <td>NaN</td>\n",
       "    </tr>\n",
       "    <tr>\n",
       "      <th>1</th>\n",
       "      <td>27.75</td>\n",
       "      <td>-17.75</td>\n",
       "      <td>1.428098e+08</td>\n",
       "      <td>ESP__GUANCHE</td>\n",
       "      <td>NaN</td>\n",
       "    </tr>\n",
       "    <tr>\n",
       "      <th>2</th>\n",
       "      <td>27.75</td>\n",
       "      <td>-15.75</td>\n",
       "      <td>7.553423e+08</td>\n",
       "      <td>ESP__GUANCHE</td>\n",
       "      <td>NaN</td>\n",
       "    </tr>\n",
       "    <tr>\n",
       "      <th>3</th>\n",
       "      <td>27.75</td>\n",
       "      <td>-15.25</td>\n",
       "      <td>2.407913e+08</td>\n",
       "      <td>ESP__GUANCHE</td>\n",
       "      <td>NaN</td>\n",
       "    </tr>\n",
       "    <tr>\n",
       "      <th>4</th>\n",
       "      <td>28.25</td>\n",
       "      <td>-17.75</td>\n",
       "      <td>1.589321e+07</td>\n",
       "      <td>ESP__GUANCHE</td>\n",
       "      <td>NaN</td>\n",
       "    </tr>\n",
       "  </tbody>\n",
       "</table>\n",
       "</div>"
      ],
      "text/plain": [
       "     lat    lon  intersection_area            id portion\n",
       "0  27.75 -18.25       1.263230e+08  ESP__GUANCHE     NaN\n",
       "1  27.75 -17.75       1.428098e+08  ESP__GUANCHE     NaN\n",
       "2  27.75 -15.75       7.553423e+08  ESP__GUANCHE     NaN\n",
       "3  27.75 -15.25       2.407913e+08  ESP__GUANCHE     NaN\n",
       "4  28.25 -17.75       1.589321e+07  ESP__GUANCHE     NaN"
      ]
     },
     "execution_count": 25,
     "metadata": {},
     "output_type": "execute_result"
    }
   ],
   "source": [
    "locs = []\n",
    "for file in tqdm(location_folder.glob('*.csv')):\n",
    "    subset = pd.read_csv(file)\n",
    "    \n",
    "    portion = re.findall(r'.*_p(\\d+)\\.csv', file.name)\n",
    "    if portion:\n",
    "        subset['id'] = re.findall(r'(.*)_p\\d+\\.csv', file.name)[0]\n",
    "        subset['portion'] = portion[0]\n",
    "    else:\n",
    "        subset['id'] = file.name[:-4]\n",
    "    locs.append(subset)\n",
    "\n",
    "\n",
    "locs = locs[0].append(locs[1:], ignore_index=True)\n",
    "locs.drop_duplicates(inplace=True)\n",
    "locs.to_csv(output_folder / 'loc_map.csv', index=False)\n",
    "print(locs.shape)\n",
    "locs.head()"
   ]
  },
  {
   "cell_type": "markdown",
   "metadata": {},
   "source": [
    "# Map locations back"
   ]
  },
  {
   "cell_type": "code",
   "execution_count": 31,
   "metadata": {},
   "outputs": [
    {
     "name": "stdout",
     "output_type": "stream",
     "text": [
      "Separation: {'lat': 0.5, 'lon': 0.5}\n"
     ]
    },
    {
     "name": "stderr",
     "output_type": "stream",
     "text": [
      "/sd2/Moncho/zonalstats_earth_engine/src/projections/raster.py:28: UserWarning: Geometry is in a geographic CRS. Results from 'buffer' are likely incorrect. Use 'GeoSeries.to_crs()' to re-project geometries to a projected CRS before this operation.\n",
      "\n",
      "  df[\"raster\"] = df.buffer(sep[\"lat\"] / 2, cap_style=3)\n"
     ]
    }
   ],
   "source": [
    "df = load_df()\n",
    "locs = pd.read_csv(output_folder / 'loc_map.csv')\n",
    "# locs['portion'].fillna(0, inplace=True)\n",
    "df = df.merge(locs, on=['lat', 'lon'])"
   ]
  },
  {
   "cell_type": "code",
   "execution_count": 32,
   "metadata": {},
   "outputs": [
    {
     "name": "stdout",
     "output_type": "stream",
     "text": [
      "(23595828, 7)\n"
     ]
    },
    {
     "data": {
      "text/html": [
       "<div>\n",
       "<style scoped>\n",
       "    .dataframe tbody tr th:only-of-type {\n",
       "        vertical-align: middle;\n",
       "    }\n",
       "\n",
       "    .dataframe tbody tr th {\n",
       "        vertical-align: top;\n",
       "    }\n",
       "\n",
       "    .dataframe thead th {\n",
       "        text-align: right;\n",
       "    }\n",
       "</style>\n",
       "<table border=\"1\" class=\"dataframe\">\n",
       "  <thead>\n",
       "    <tr style=\"text-align: right;\">\n",
       "      <th></th>\n",
       "      <th>id</th>\n",
       "      <th>time</th>\n",
       "      <th>precipitation</th>\n",
       "      <th>intersection_area_count</th>\n",
       "      <th>intersection_area_sum</th>\n",
       "      <th>year</th>\n",
       "      <th>month</th>\n",
       "    </tr>\n",
       "  </thead>\n",
       "  <tbody>\n",
       "    <tr>\n",
       "      <th>0</th>\n",
       "      <td>ABW</td>\n",
       "      <td>80-01</td>\n",
       "      <td>412.090046</td>\n",
       "      <td>1</td>\n",
       "      <td>2.209533e+06</td>\n",
       "      <td>1980</td>\n",
       "      <td>1</td>\n",
       "    </tr>\n",
       "    <tr>\n",
       "      <th>47959</th>\n",
       "      <td>ABW</td>\n",
       "      <td>80-02</td>\n",
       "      <td>292.410013</td>\n",
       "      <td>1</td>\n",
       "      <td>2.209533e+06</td>\n",
       "      <td>1980</td>\n",
       "      <td>2</td>\n",
       "    </tr>\n",
       "    <tr>\n",
       "      <th>95918</th>\n",
       "      <td>ABW</td>\n",
       "      <td>80-03</td>\n",
       "      <td>28.090002</td>\n",
       "      <td>1</td>\n",
       "      <td>2.209533e+06</td>\n",
       "      <td>1980</td>\n",
       "      <td>3</td>\n",
       "    </tr>\n",
       "    <tr>\n",
       "      <th>143877</th>\n",
       "      <td>ABW</td>\n",
       "      <td>80-04</td>\n",
       "      <td>610.090038</td>\n",
       "      <td>1</td>\n",
       "      <td>2.209533e+06</td>\n",
       "      <td>1980</td>\n",
       "      <td>4</td>\n",
       "    </tr>\n",
       "    <tr>\n",
       "      <th>191836</th>\n",
       "      <td>ABW</td>\n",
       "      <td>80-05</td>\n",
       "      <td>8686.240853</td>\n",
       "      <td>1</td>\n",
       "      <td>2.209533e+06</td>\n",
       "      <td>1980</td>\n",
       "      <td>5</td>\n",
       "    </tr>\n",
       "  </tbody>\n",
       "</table>\n",
       "</div>"
      ],
      "text/plain": [
       "         id   time  precipitation  intersection_area_count  \\\n",
       "0       ABW  80-01     412.090046                        1   \n",
       "47959   ABW  80-02     292.410013                        1   \n",
       "95918   ABW  80-03      28.090002                        1   \n",
       "143877  ABW  80-04     610.090038                        1   \n",
       "191836  ABW  80-05    8686.240853                        1   \n",
       "\n",
       "        intersection_area_sum  year  month  \n",
       "0                2.209533e+06  1980      1  \n",
       "47959            2.209533e+06  1980      2  \n",
       "95918            2.209533e+06  1980      3  \n",
       "143877           2.209533e+06  1980      4  \n",
       "191836           2.209533e+06  1980      5  "
      ]
     },
     "execution_count": 32,
     "metadata": {},
     "output_type": "execute_result"
    }
   ],
   "source": [
    "pivot = raster.weighted_pivot(\n",
    "    df, \n",
    "    weight='intersection_area', \n",
    "    value_name='precipitation', \n",
    "    id_vars=['id']\n",
    ")\n",
    "utils.map_year_month(pivot, 'time', 1980, 2020)\n",
    "\n",
    "# Save results\n",
    "pivot.to_csv(output_folder / 'CRU.csv', index=False)\n",
    "print(pivot.shape)\n",
    "pivot.head()"
   ]
  },
  {
   "cell_type": "markdown",
   "metadata": {},
   "source": [
    "# Aggregate"
   ]
  },
  {
   "cell_type": "code",
   "execution_count": 40,
   "metadata": {},
   "outputs": [
    {
     "data": {
      "text/html": [
       "<div>\n",
       "<style scoped>\n",
       "    .dataframe tbody tr th:only-of-type {\n",
       "        vertical-align: middle;\n",
       "    }\n",
       "\n",
       "    .dataframe tbody tr th {\n",
       "        vertical-align: top;\n",
       "    }\n",
       "\n",
       "    .dataframe thead th {\n",
       "        text-align: right;\n",
       "    }\n",
       "</style>\n",
       "<table border=\"1\" class=\"dataframe\">\n",
       "  <thead>\n",
       "    <tr style=\"text-align: right;\">\n",
       "      <th></th>\n",
       "      <th>id</th>\n",
       "      <th>time</th>\n",
       "      <th>precipitation</th>\n",
       "      <th>intersection_area_count</th>\n",
       "      <th>intersection_area_sum</th>\n",
       "      <th>year</th>\n",
       "      <th>month</th>\n",
       "      <th>adm0</th>\n",
       "      <th>adm1</th>\n",
       "      <th>adm2</th>\n",
       "    </tr>\n",
       "  </thead>\n",
       "  <tbody>\n",
       "    <tr>\n",
       "      <th>7030547</th>\n",
       "      <td>EGY.16.16_1</td>\n",
       "      <td>09-12</td>\n",
       "      <td>38.491658</td>\n",
       "      <td>2</td>\n",
       "      <td>2.847466e+08</td>\n",
       "      <td>2009</td>\n",
       "      <td>12</td>\n",
       "      <td>EGY</td>\n",
       "      <td>EGY.16</td>\n",
       "      <td>EGY.16.16_1</td>\n",
       "    </tr>\n",
       "    <tr>\n",
       "      <th>14768433</th>\n",
       "      <td>PHL.6.17_1</td>\n",
       "      <td>85-10</td>\n",
       "      <td>127734.755637</td>\n",
       "      <td>1</td>\n",
       "      <td>1.655283e+07</td>\n",
       "      <td>1985</td>\n",
       "      <td>10</td>\n",
       "      <td>PHL</td>\n",
       "      <td>PHL.6</td>\n",
       "      <td>PHL.6.17_1</td>\n",
       "    </tr>\n",
       "    <tr>\n",
       "      <th>21837022</th>\n",
       "      <td>USA.3.10_1</td>\n",
       "      <td>87-11</td>\n",
       "      <td>97.584027</td>\n",
       "      <td>21</td>\n",
       "      <td>2.589485e+10</td>\n",
       "      <td>1987</td>\n",
       "      <td>11</td>\n",
       "      <td>USA</td>\n",
       "      <td>USA.3</td>\n",
       "      <td>USA.3.10_1</td>\n",
       "    </tr>\n",
       "    <tr>\n",
       "      <th>11960739</th>\n",
       "      <td>MEX.30.133_1</td>\n",
       "      <td>98-04</td>\n",
       "      <td>52.148236</td>\n",
       "      <td>4</td>\n",
       "      <td>3.250877e+08</td>\n",
       "      <td>1998</td>\n",
       "      <td>4</td>\n",
       "      <td>MEX</td>\n",
       "      <td>MEX.30</td>\n",
       "      <td>MEX.30.133_1</td>\n",
       "    </tr>\n",
       "    <tr>\n",
       "      <th>6402982</th>\n",
       "      <td>DZA.28.23_1</td>\n",
       "      <td>87-11</td>\n",
       "      <td>5416.959775</td>\n",
       "      <td>1</td>\n",
       "      <td>4.014514e+07</td>\n",
       "      <td>1987</td>\n",
       "      <td>11</td>\n",
       "      <td>DZA</td>\n",
       "      <td>DZA.28</td>\n",
       "      <td>DZA.28.23_1</td>\n",
       "    </tr>\n",
       "  </tbody>\n",
       "</table>\n",
       "</div>"
      ],
      "text/plain": [
       "                    id   time  precipitation  intersection_area_count  \\\n",
       "7030547    EGY.16.16_1  09-12      38.491658                        2   \n",
       "14768433    PHL.6.17_1  85-10  127734.755637                        1   \n",
       "21837022    USA.3.10_1  87-11      97.584027                       21   \n",
       "11960739  MEX.30.133_1  98-04      52.148236                        4   \n",
       "6402982    DZA.28.23_1  87-11    5416.959775                        1   \n",
       "\n",
       "          intersection_area_sum  year  month adm0    adm1          adm2  \n",
       "7030547            2.847466e+08  2009     12  EGY  EGY.16   EGY.16.16_1  \n",
       "14768433           1.655283e+07  1985     10  PHL   PHL.6    PHL.6.17_1  \n",
       "21837022           2.589485e+10  1987     11  USA   USA.3    USA.3.10_1  \n",
       "11960739           3.250877e+08  1998      4  MEX  MEX.30  MEX.30.133_1  \n",
       "6402982            4.014514e+07  1987     11  DZA  DZA.28   DZA.28.23_1  "
      ]
     },
     "execution_count": 40,
     "metadata": {},
     "output_type": "execute_result"
    }
   ],
   "source": [
    "df = pd.read_csv(output_folder / 'CRU.csv')\n",
    "\n",
    "adm = {}\n",
    "for key in df['id'].unique():\n",
    "    parts = key.split('.')\n",
    "    adm[key] = {0: parts[0], 1: '.'.join(parts[:2]), 2: key}\n",
    "    \n",
    "for i in range(3):\n",
    "    df[f\"adm{i}\"] = df['id'].apply(lambda x: adm[x][i])\n",
    "    \n",
    "df.sample(5)"
   ]
  },
  {
   "cell_type": "code",
   "execution_count": 41,
   "metadata": {},
   "outputs": [
    {
     "name": "stderr",
     "output_type": "stream",
     "text": [
      "Aggregating: 100%|████████████████████████████████| 6/6 [07:38<00:00, 76.44s/it]\n"
     ]
    }
   ],
   "source": [
    "time_groups = {'yearly': ['year'], 'monthly': ['year', 'month']}\n",
    "loc_groups = {'country': ['adm0'], \n",
    "              'edo': ['adm0', 'adm1'], \n",
    "              'mun': ['adm0', 'adm1', 'adm2']}\n",
    "\n",
    "groups = {}\n",
    "for loc_name, loc_group in loc_groups.items():\n",
    "    for time_name, time_group in time_groups.items():\n",
    "        groups[f'{loc_name}_{time_name}'] = loc_group + time_group\n",
    "\n",
    "output_folder = Path('../Output/Precipitaciones/Raster/CRU/')\n",
    "done = [Path(x).name for x in glob(str(output_folder / 'CRU_*.csv'))]\n",
    "    \n",
    "utils.aggregate_by_groups(df, groups, output_folder, ['precipitation'], done=done, batch=None)"
   ]
  }
 ],
 "metadata": {
  "kernelspec": {
   "display_name": "Python 3 (ipykernel)",
   "language": "python",
   "name": "python3"
  },
  "language_info": {
   "codemirror_mode": {
    "name": "ipython",
    "version": 3
   },
   "file_extension": ".py",
   "mimetype": "text/x-python",
   "name": "python",
   "nbconvert_exporter": "python",
   "pygments_lexer": "ipython3",
   "version": "3.8.10"
  }
 },
 "nbformat": 4,
 "nbformat_minor": 4
}
