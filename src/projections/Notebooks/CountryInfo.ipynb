{
 "cells": [
  {
   "cell_type": "code",
   "execution_count": 1,
   "metadata": {},
   "outputs": [],
   "source": [
    "import re\n",
    "import yaml"
   ]
  },
  {
   "cell_type": "code",
   "execution_count": 2,
   "metadata": {},
   "outputs": [],
   "source": [
    "file = '../Data/CountryInfo.140728.txt'\n",
    "\n",
    "with open(file) as f:\n",
    "    text = ''.join(f.readlines())\n",
    "    \n",
    "text = re.findall('<!--.+-->(.+)', text, flags=re.DOTALL)[0]"
   ]
  },
  {
   "cell_type": "code",
   "execution_count": 3,
   "metadata": {},
   "outputs": [],
   "source": [
    "def find_tag_values(text, tag):\n",
    "    text = text.split(f'<{tag}>')\n",
    "    text = [x.split(f'</{tag}>')[0] for x in text[1:]]\n",
    "    return text\n",
    "\n",
    "def find_codes(text, tag):\n",
    "    values = find_tag_values(text, tag)\n",
    "    codes = []\n",
    "    for c in values:\n",
    "        if '[' in c:\n",
    "            c = re.findall('\\[([A-Z]+) ?', c)\n",
    "        else:\n",
    "            c = [c]\n",
    "        codes.extend(c)\n",
    "    return codes"
   ]
  },
  {
   "cell_type": "code",
   "execution_count": 4,
   "metadata": {},
   "outputs": [],
   "source": [
    "countries = find_tag_values(text, 'Country')"
   ]
  },
  {
   "cell_type": "code",
   "execution_count": 5,
   "metadata": {},
   "outputs": [],
   "source": [
    "entries = []\n",
    "for country in countries:\n",
    "    name = find_tag_values(country, 'CountryName')\n",
    "    if name:\n",
    "        assert len(name) == 1\n",
    "        name = name[0]\n",
    "    \n",
    "    iso3 = find_codes(country, 'ISO3166-alpha3')\n",
    "    codes = find_codes(country, 'CountryCode')\n",
    "    codes.extend(find_codes(country, 'COW-Alpha'))\n",
    "    codes.extend(find_codes(country, 'FIPS-10'))\n",
    "    codes.extend(find_codes(country, 'ISO3166-alpha2'))\n",
    "    codes.extend(iso3)\n",
    "    \n",
    "    entries.append({\n",
    "        'name': name,\n",
    "        'iso3': iso3,\n",
    "        'codes': list(set(codes).difference({'---', '--'}))\n",
    "    })"
   ]
  },
  {
   "cell_type": "code",
   "execution_count": 6,
   "metadata": {},
   "outputs": [],
   "source": [
    "with open('../Data/Countries.yml', 'w') as f:\n",
    "    yaml.dump(entries, f)"
   ]
  },
  {
   "cell_type": "code",
   "execution_count": 7,
   "metadata": {},
   "outputs": [
    {
     "data": {
      "text/plain": [
       "242"
      ]
     },
     "execution_count": 7,
     "metadata": {},
     "output_type": "execute_result"
    }
   ],
   "source": [
    "len(countries)"
   ]
  }
 ],
 "metadata": {
  "kernelspec": {
   "display_name": "Python 3",
   "language": "python",
   "name": "python3"
  },
  "language_info": {
   "codemirror_mode": {
    "name": "ipython",
    "version": 3
   },
   "file_extension": ".py",
   "mimetype": "text/x-python",
   "name": "python",
   "nbconvert_exporter": "python",
   "pygments_lexer": "ipython3",
   "version": "3.8.3"
  }
 },
 "nbformat": 4,
 "nbformat_minor": 4
}
