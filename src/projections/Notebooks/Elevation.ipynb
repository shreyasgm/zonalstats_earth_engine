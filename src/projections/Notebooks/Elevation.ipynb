{
 "cells": [
  {
   "cell_type": "code",
   "execution_count": null,
   "source": [
    "import os\n",
    "import pandas as pd\n",
    "import geopandas as gpd\n",
    "\n",
    "import yaml\n",
    "\n",
    "from functools import partial\n",
    "from pathlib import Path\n",
    "from tqdm import tqdm\n",
    "from concurrent.futures import ThreadPoolExecutor\n",
    "\n",
    "import sys\n",
    "module_path = os.path.abspath(os.path.join('..'))\n",
    "if module_path not in sys.path:\n",
    "    sys.path.append(module_path)\n",
    "\n",
    "from projections.elevation import get_indices_by_file\n",
    "from projections import raster, utils\n",
    "\n",
    "\n",
    "pd.set_option('max_columns', None)"
   ],
   "outputs": [],
   "metadata": {}
  },
  {
   "cell_type": "code",
   "execution_count": 8,
   "source": [
    "def save_location_mapping(row_and_path):\n",
    "    row, path = row_and_path\n",
    "    shape = row['geometry']\n",
    "    \n",
    "    subset = raster.find_subset_with_intersection_area(IMAGE, shape)\n",
    "\n",
    "    if subset.empty:\n",
    "        with open(path, 'w') as f:\n",
    "            f.write('')\n",
    "        return\n",
    "\n",
    "    subset['id'] = row['id']\n",
    "    \n",
    "    subset.to_csv(path, index=False)\n",
    "    \n",
    "    \n",
    "def yield_missing_shapes(gdf, save_path, prefix):\n",
    "    for _, row in gdf.iterrows():\n",
    "        path = save_path / get_save_file_name(prefix, row)\n",
    "        if path.exists():\n",
    "            continue\n",
    "            \n",
    "        yield row, path\n",
    "        \n",
    "\n",
    "def get_save_file_name(prefix, row):\n",
    "    portion = f\"_p{row['portion']}\" if row['portion'] else ''\n",
    "    return f'{prefix}_{row[\"id\"]}{portion}.csv'"
   ],
   "outputs": [],
   "metadata": {}
  },
  {
   "cell_type": "code",
   "execution_count": 3,
   "source": [
    "read_path = Path('../Data/Elevation/GTOPO30')\n",
    "output_path = Path('../Output/Elevation/GTOPO30/')\n",
    "partial_path = output_path / 'partial'\n",
    "by_country_path = output_path / 'by_country'\n",
    "\n",
    "output_path.mkdir(exist_ok=True)\n",
    "partial_path.mkdir(exist_ok=True)\n",
    "by_country_path.mkdir(exist_ok=True)"
   ],
   "outputs": [],
   "metadata": {}
  },
  {
   "cell_type": "markdown",
   "source": [
    "# Map raster to polygons"
   ],
   "metadata": {}
  },
  {
   "cell_type": "code",
   "execution_count": 4,
   "source": [
    "geo_df = gpd.read_file('../Shapefiles/preprocessed/all_countries_with_eth.shp')"
   ],
   "outputs": [],
   "metadata": {}
  },
  {
   "cell_type": "code",
   "execution_count": 7,
   "source": [
    "indices_file = read_path / 'indices_by_file.yml'\n",
    "if indices_file.exists():\n",
    "    with open(indices_file, 'r') as f:\n",
    "        indices_by_file = yaml.safe_load(f)\n",
    "else:\n",
    "    files = list(read_path.glob('gt30e*.tif')) + list(read_path.glob('gt30w*.tif'))\n",
    "    indices_by_file = get_indices_by_file(geo_df[geo_df['id'] != 'ATA'], files)\n",
    "\n",
    "    with open(read_path / 'indices_by_file.yml', 'w') as f:\n",
    "        yaml.dump(indices_by_file, f)"
   ],
   "outputs": [
    {
     "output_type": "stream",
     "name": "stderr",
     "text": [
      "100%|████████████████████████████████████████| 33/33 [1:09:19<00:00, 126.04s/it]\n"
     ]
    }
   ],
   "metadata": {}
  },
  {
   "cell_type": "code",
   "execution_count": 9,
   "source": [
    "n_processes = 30\n",
    "for file, indices in indices_by_file.items():\n",
    "    IMAGE = utils.read_tif(read_path / file)\n",
    "    iterator = partial(yield_missing_shapes, save_path=partial_path, prefix=file[:-4])\n",
    "    \n",
    "    if n_processes == 1:\n",
    "        for row_and_path in tqdm(iterator(geo_df.loc[indices])):\n",
    "            save_location_mapping(row_and_path)\n",
    "    else:\n",
    "        with ThreadPoolExecutor(n_processes) as tpe:\n",
    "            for _ in tqdm(\n",
    "                tpe.map(save_location_mapping, iterator(geo_df.loc[indices])), \n",
    "                total=geo_df.shape[0]\n",
    "            ):\n",
    "                pass"
   ],
   "outputs": [
    {
     "output_type": "stream",
     "name": "stderr",
     "text": [
      "  0%|                                                | 0/122772 [00:00<?, ?it/s]\n",
      "  0%|                                                | 0/122772 [00:00<?, ?it/s]\n",
      "  1%|▎                                 | 1165/122772 [48:40<84:40:17,  2.51s/it]\n",
      "  0%|                                                | 0/122772 [00:00<?, ?it/s]\n",
      "  0%|                                                | 0/122772 [00:00<?, ?it/s]\n",
      "  0%|                                                | 0/122772 [00:00<?, ?it/s]\n",
      "  0%|                                                | 0/122772 [00:00<?, ?it/s]\n",
      "  2%|▌                                 | 1868/122772 [26:57<29:04:56,  1.15it/s]\n",
      "  0%|                                                | 0/122772 [00:00<?, ?it/s]\n",
      "  0%|                                     | 1/122772 [00:00<20:01:34,  1.70it/s]\n",
      "  0%|                                                | 0/122772 [00:00<?, ?it/s]\n",
      "  0%|                                                | 0/122772 [00:00<?, ?it/s]\n",
      "  0%|                                                | 0/122772 [00:00<?, ?it/s]\n",
      "  0%|                                                | 0/122772 [00:00<?, ?it/s]\n",
      "  2%|▌                                 | 1898/122772 [34:41<36:49:51,  1.10s/it]\n",
      "  0%|                                                | 0/122772 [00:00<?, ?it/s]\n",
      "  0%|                                                | 0/122772 [00:00<?, ?it/s]\n",
      "  0%|                                                | 0/122772 [00:00<?, ?it/s]\n",
      "  0%|                                                | 0/122772 [00:00<?, ?it/s]\n",
      "  0%|                                                | 0/122772 [00:00<?, ?it/s]\n",
      "  0%|                                  | 1/122772 [02:48<5749:11:01, 168.58s/it]\n",
      "  0%|                                                | 0/122772 [00:00<?, ?it/s]\n",
      "  0%|                                                | 0/122772 [00:00<?, ?it/s]\n",
      "  0%|                                                | 0/122772 [00:00<?, ?it/s]\n",
      "  0%|                                                | 0/122772 [00:00<?, ?it/s]\n",
      "  0%|                                                | 0/122772 [00:00<?, ?it/s]\n",
      "  0%|                                  | 232/122772 [16:04<141:26:39,  4.16s/it]\n",
      "  0%|                                                | 0/122772 [00:00<?, ?it/s]\n",
      "  0%|                                                | 0/122772 [00:00<?, ?it/s]\n",
      "  0%|                                                | 0/122772 [00:00<?, ?it/s]\n",
      "  0%|                                                | 0/122772 [00:00<?, ?it/s]\n",
      "  0%|                                                | 0/122772 [00:00<?, ?it/s]\n",
      "  0%|                                                | 0/122772 [00:00<?, ?it/s]\n"
     ]
    }
   ],
   "metadata": {
    "scrolled": true
   }
  },
  {
   "cell_type": "markdown",
   "source": [
    "# Union portions from different files and shapes"
   ],
   "metadata": {}
  },
  {
   "cell_type": "code",
   "execution_count": 12,
   "source": [
    "df_by_region = {}\n",
    "for file in tqdm(partial_path.glob('*.csv'), desc='Reading'):\n",
    "    try:\n",
    "        df = pd.read_csv(file)\n",
    "    except pd.errors.EmptyDataError:\n",
    "        continue\n",
    "        \n",
    "    if 'id' not in df.columns:\n",
    "        df['id'] = df['adm2']\n",
    "        df['id'].fillna(df['adm1'], inplace=True)\n",
    "        df['id'].fillna(df['adm0'], inplace=True)\n",
    "    region = df.loc[0, 'id']\n",
    "    df_by_region.setdefault(region, []).append(df)\n",
    "\n",
    "for region, dfs in tqdm(df_by_region.items(), desc='Saving'):\n",
    "    df = utils.combine_dataframes(dfs)\n",
    "    df.to_feather(by_country_path / f'{region}.feather')\n",
    "    \n",
    "del df_by_region"
   ],
   "outputs": [
    {
     "output_type": "stream",
     "name": "stderr",
     "text": [
      "Reading: 116307it [09:31, 203.66it/s]\n",
      "Saving: 100%|████████████████████████████| 47912/47912 [05:24<00:00, 147.61it/s]\n"
     ]
    }
   ],
   "metadata": {
    "scrolled": true
   }
  },
  {
   "cell_type": "markdown",
   "source": [
    "# Aggregate"
   ],
   "metadata": {}
  },
  {
   "cell_type": "code",
   "execution_count": 17,
   "source": [
    "countries = {}\n",
    "for file in tqdm(by_country_path.glob('*.feather'), desc='Grouping'):\n",
    "    df = pd.read_feather(file)\n",
    "    df = df[df['value'] > -9999].copy()\n",
    "    if df.empty:\n",
    "        continue\n",
    "    df = utils.get_weighted_average(df, value='value', weight='intersection_area', by=['id'])\n",
    "    country = df.loc[0, 'id']\n",
    "    countries.setdefault(country, []).append(df)\n",
    "\n",
    "dfs = [utils.combine_dataframes(country_dfs)\n",
    "      for country_dfs in countries.values()]\n",
    "df = utils.combine_dataframes(dfs)\n",
    "df.rename(columns={'_weighted_value_': 'value'}, inplace=True)\n",
    "df.to_csv(output_path / 'elevation.csv', index=False)"
   ],
   "outputs": [
    {
     "output_type": "stream",
     "name": "stderr",
     "text": [
      "Grouping: 47912it [08:00, 99.81it/s] \n"
     ]
    }
   ],
   "metadata": {}
  }
 ],
 "metadata": {
  "kernelspec": {
   "display_name": "Python 3 (ipykernel)",
   "language": "python",
   "name": "python3"
  },
  "language_info": {
   "codemirror_mode": {
    "name": "ipython",
    "version": 3
   },
   "file_extension": ".py",
   "mimetype": "text/x-python",
   "name": "python",
   "nbconvert_exporter": "python",
   "pygments_lexer": "ipython3",
   "version": "3.8.10"
  }
 },
 "nbformat": 4,
 "nbformat_minor": 4
}