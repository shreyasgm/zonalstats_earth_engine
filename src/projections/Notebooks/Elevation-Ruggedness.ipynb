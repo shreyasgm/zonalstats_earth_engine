{
 "cells": [
  {
   "cell_type": "code",
   "execution_count": null,
   "source": [
    "import os\n",
    "import numpy as np\n",
    "import pandas as pd\n",
    "import geopandas as gpd\n",
    "import tarfile\n",
    "\n",
    "import yaml\n",
    "\n",
    "from functools import partial\n",
    "from glob import glob, iglob\n",
    "from pathlib import Path\n",
    "from tqdm import tqdm\n",
    "from concurrent.futures import ThreadPoolExecutor\n",
    "\n",
    "import sys\n",
    "module_path = os.path.abspath(os.path.join('..'))\n",
    "if module_path not in sys.path:\n",
    "    sys.path.append(module_path)\n",
    "\n",
    "from projections.shapefiles import load_shapes, iter_records\n",
    "from projections.models import Records\n",
    "from projections.elevation import get_indices_by_file, SpacialTxt\n",
    "from projections import raster, utils\n",
    "\n",
    "\n",
    "pd.set_option('max_columns', None)"
   ],
   "outputs": [],
   "metadata": {}
  },
  {
   "cell_type": "code",
   "execution_count": 2,
   "source": [
    "def save_location_mapping(row_and_path):\n",
    "    row, path = row_and_path\n",
    "    shape = row['geometry']\n",
    "    \n",
    "    subset = raster.find_subset_with_intersection_area(IMAGE, shape)\n",
    "\n",
    "    if subset.empty:\n",
    "        with open(path, 'w') as f:\n",
    "            f.write('')\n",
    "        return\n",
    "\n",
    "    subset['id'] = row['id']\n",
    "    \n",
    "    subset.to_csv(path, index=False)"
   ],
   "outputs": [],
   "metadata": {}
  },
  {
   "cell_type": "code",
   "execution_count": 4,
   "source": [
    "read_path = Path('../Data/Elevation/Ruggedness')\n",
    "output_path = Path('../Output/Elevation/Ruggedness/')\n",
    "\n",
    "base_file = 'cellarea.txt'\n",
    "file_path = output_path / base_file[:-4]\n",
    "partial_path = file_path / 'partial'\n",
    "by_country_path = file_path / 'by_country'\n",
    "\n",
    "output_path.mkdir(exist_ok=True)\n",
    "file_path.mkdir(exist_ok=True)\n",
    "partial_path.mkdir(exist_ok=True)\n",
    "by_country_path.mkdir(exist_ok=True)"
   ],
   "outputs": [],
   "metadata": {}
  },
  {
   "cell_type": "markdown",
   "source": [
    "# Map raster to polygons"
   ],
   "metadata": {}
  },
  {
   "cell_type": "code",
   "execution_count": 5,
   "source": [
    "geo_df = gpd.read_file('../Shapefiles/preprocessed/all_countries_with_eth.shp')"
   ],
   "outputs": [],
   "metadata": {}
  },
  {
   "cell_type": "code",
   "execution_count": 6,
   "source": [
    "n_processes = 30\n",
    "\n",
    "spacial_txt = SpacialTxt(read_path / base_file)\n",
    "spacial_txt.read(save=True)\n",
    "IMAGE = spacial_txt.get_xarray()\n",
    "\n",
    "iterator = partial(utils.yield_missing_shapes, save_path=partial_path, prefix=base_file[:-4])\n",
    "\n",
    "if n_processes == 1:\n",
    "    for row_and_path in tqdm(iterator(geo_df)):\n",
    "        save_location_mapping(row_and_path)\n",
    "else:\n",
    "    with ThreadPoolExecutor(n_processes) as tpe:\n",
    "        for _ in tqdm(\n",
    "            tpe.map(save_location_mapping, iterator(geo_df)), \n",
    "            total=geo_df.shape[0]\n",
    "        ):\n",
    "            pass"
   ],
   "outputs": [
    {
     "output_type": "stream",
     "name": "stderr",
     "text": [
      " 87%|█████████████████████████▎   | 107092/122772 [17:32:58<18:33:20,  4.26s/it]IOStream.flush timed out\n",
      " 87%|█████████████████████████▎   | 107098/122772 [17:33:42<21:59:53,  5.05s/it]IOStream.flush timed out\n",
      " 87%|█████████████████████████▎   | 107099/122772 [17:33:53<29:12:50,  6.71s/it]IOStream.flush timed out\n",
      " 87%|██████████████████████████▏   | 107169/122772 [17:35:58<5:47:40,  1.34s/it]IOStream.flush timed out\n",
      " 88%|█████████████████████████▍   | 107721/122772 [17:54:55<25:39:01,  6.14s/it]IOStream.flush timed out\n",
      " 88%|█████████████████████████▍   | 107724/122772 [17:56:02<38:08:57,  9.13s/it]IOStream.flush timed out\n",
      "IOStream.flush timed out\n",
      " 88%|█████████████████████████▍   | 107726/122772 [17:56:45<53:03:08, 12.69s/it]IOStream.flush timed out\n",
      " 88%|█████████████████████████▍   | 107731/122772 [17:57:44<44:41:59, 10.70s/it]IOStream.flush timed out\n",
      "IOStream.flush timed out\n",
      " 88%|█████████████████████████▍   | 107733/122772 [17:58:30<64:20:17, 15.40s/it]IOStream.flush timed out\n",
      " 88%|█████████████████████████▍   | 107746/122772 [18:00:11<37:24:24,  8.96s/it]IOStream.flush timed out\n",
      " 88%|█████████████████████████▍   | 107748/122772 [18:00:44<55:37:23, 13.33s/it]IOStream.flush timed out\n",
      " 88%|█████████████████████████▍   | 107750/122772 [18:01:16<59:25:43, 14.24s/it]IOStream.flush timed out\n",
      " 88%|█████████████████████████▍   | 107751/122772 [18:01:18<44:38:18, 10.70s/it]IOStream.flush timed out\n",
      " 88%|█████████████████████████▍   | 107757/122772 [18:02:29<54:02:12, 12.96s/it]IOStream.flush timed out\n",
      " 88%|█████████████████████████▌   | 107995/122772 [18:14:32<39:52:24,  9.71s/it]IOStream.flush timed out\n",
      " 88%|█████████████████████████▌   | 108004/122772 [18:16:41<49:26:43, 12.05s/it]IOStream.flush timed out\n",
      " 88%|█████████████████████████▌   | 108012/122772 [18:17:42<45:16:11, 11.04s/it]IOStream.flush timed out\n",
      " 88%|█████████████████████████▌   | 108014/122772 [18:18:37<82:02:30, 20.01s/it]IOStream.flush timed out\n",
      "IOStream.flush timed out\n",
      " 88%|█████████████████████████▌   | 108025/122772 [18:21:20<63:41:47, 15.55s/it]IOStream.flush timed out\n",
      " 88%|██████████████████████████▍   | 108406/122772 [18:37:15<9:34:57,  2.40s/it]IOStream.flush timed out\n",
      " 88%|█████████████████████████▌   | 108411/122772 [18:37:49<13:44:08,  3.44s/it]IOStream.flush timed out\n",
      " 88%|█████████████████████████▌   | 108417/122772 [18:38:47<32:46:02,  8.22s/it]IOStream.flush timed out\n",
      " 88%|█████████████████████████▌   | 108420/122772 [18:39:23<44:31:52, 11.17s/it]IOStream.flush timed out\n",
      " 88%|█████████████████████████▌   | 108423/122772 [18:39:59<41:13:48, 10.34s/it]IOStream.flush timed out\n",
      " 88%|█████████████████████████▌   | 108443/122772 [18:41:23<17:31:00,  4.40s/it]IOStream.flush timed out\n",
      " 88%|████████████████████████████▎   | 108628/122772 [18:42:40<45:42,  5.16it/s]IOStream.flush timed out\n",
      " 88%|██████████████████████████▌   | 108635/122772 [18:43:27<3:52:05,  1.02it/s]IOStream.flush timed out\n",
      " 89%|█████████████████████████▋   | 108832/122772 [18:55:23<22:01:15,  5.69s/it]IOStream.flush timed out\n",
      " 89%|█████████████████████████▋   | 108834/122772 [18:55:44<25:02:10,  6.47s/it]IOStream.flush timed out\n",
      " 89%|██████████████████████████▌   | 108896/122772 [18:57:15<8:55:08,  2.31s/it]IOStream.flush timed out\n",
      " 89%|█████████████████████████▋   | 108902/122772 [18:57:58<17:02:30,  4.42s/it]IOStream.flush timed out\n",
      " 89%|█████████████████████████▋   | 108909/122772 [18:59:02<32:01:58,  8.32s/it]IOStream.flush timed out\n",
      " 89%|█████████████████████████▊   | 109337/122772 [19:16:03<15:24:26,  4.13s/it]IOStream.flush timed out\n",
      " 89%|█████████████████████████▊   | 109496/122772 [19:19:23<19:28:55,  5.28s/it]IOStream.flush timed out\n",
      " 89%|█████████████████████████▊   | 109498/122772 [19:19:26<13:52:55,  3.76s/it]IOStream.flush timed out\n",
      " 89%|█████████████████████████▊   | 109499/122772 [19:19:40<23:33:34,  6.39s/it]IOStream.flush timed out\n",
      " 89%|█████████████████████████▊   | 109502/122772 [19:20:07<26:07:36,  7.09s/it]IOStream.flush timed out\n",
      " 89%|██████████████████████████▊   | 109627/122772 [19:21:19<1:54:21,  1.92it/s]IOStream.flush timed out\n",
      " 90%|██████████████████████████▉   | 110158/122772 [19:40:05<7:02:36,  2.01s/it]IOStream.flush timed out\n",
      " 90%|██████████████████████████▉   | 110475/122772 [19:55:17<6:18:55,  1.85s/it]IOStream.flush timed out\n",
      " 90%|██████████████████████████   | 110494/122772 [19:56:58<14:35:42,  4.28s/it]IOStream.flush timed out\n",
      " 90%|██████████████████████████   | 110501/122772 [19:57:31<22:34:21,  6.62s/it]IOStream.flush timed out\n",
      " 90%|███████████████████████████   | 110618/122772 [19:58:02<1:25:13,  2.38it/s]IOStream.flush timed out\n",
      " 90%|███████████████████████████   | 110623/122772 [19:58:49<7:41:23,  2.28s/it]IOStream.flush timed out\n",
      " 91%|███████████████████████████▏  | 111113/122772 [20:15:51<6:02:59,  1.87s/it]IOStream.flush timed out\n",
      " 91%|███████████████████████████▏  | 111129/122772 [20:16:17<8:18:35,  2.57s/it]IOStream.flush timed out\n",
      " 91%|███████████████████████████▎  | 111658/122772 [20:33:42<5:53:16,  1.91s/it]IOStream.flush timed out\n",
      " 91%|███████████████████████████▎  | 111968/122772 [20:47:19<4:52:35,  1.62s/it]IOStream.flush timed out\n",
      " 91%|███████████████████████████▍  | 112208/122772 [20:52:41<2:09:17,  1.36it/s]IOStream.flush timed out\n",
      " 91%|██████████████████████████▌  | 112215/122772 [20:53:23<15:16:16,  5.21s/it]IOStream.flush timed out\n",
      " 92%|██████████████████████████▌  | 112451/122772 [21:05:18<12:59:06,  4.53s/it]IOStream.flush timed out\n",
      " 92%|██████████████████████████▌  | 112453/122772 [21:05:53<23:38:10,  8.25s/it]IOStream.flush timed out\n",
      " 92%|██████████████████████████▌  | 112457/122772 [21:07:07<38:50:43, 13.56s/it]IOStream.flush timed out\n",
      " 92%|██████████████████████████▌  | 112459/122772 [21:07:48<47:23:39, 16.54s/it]IOStream.flush timed out\n",
      " 92%|██████████████████████████▌  | 112461/122772 [21:08:24<48:40:38, 17.00s/it]IOStream.flush timed out\n",
      " 92%|██████████████████████████▌  | 112463/122772 [21:08:30<29:13:15, 10.20s/it]IOStream.flush timed out\n",
      " 92%|██████████████████████████▌  | 112469/122772 [21:10:35<62:55:44, 21.99s/it]IOStream.flush timed out\n",
      " 92%|██████████████████████████▌  | 112475/122772 [21:11:12<26:12:09,  9.16s/it]IOStream.flush timed out\n",
      " 92%|██████████████████████████▌  | 112478/122772 [21:12:13<46:33:08, 16.28s/it]IOStream.flush timed out\n",
      " 92%|██████████████████████████▌  | 112486/122772 [21:14:06<37:08:51, 13.00s/it]IOStream.flush timed out\n",
      " 92%|██████████████████████████▌  | 112487/122772 [21:14:32<45:32:23, 15.94s/it]IOStream.flush timed out\n",
      " 92%|██████████████████████████▌  | 112488/122772 [21:15:21<62:18:48, 21.81s/it]IOStream.flush timed out\n",
      " 92%|█████████████████████████████▍  | 112739/122772 [21:16:03<26:35,  6.29it/s]IOStream.flush timed out\n",
      " 92%|███████████████████████████▌  | 112742/122772 [21:16:35<1:50:49,  1.51it/s]IOStream.flush timed out\n",
      "IOStream.flush timed out\n",
      " 92%|██████████████████████████▋  | 112894/122772 [21:29:39<27:06:31,  9.88s/it]IOStream.flush timed out\n",
      " 92%|███████████████████████████▌  | 112957/122772 [21:32:27<8:43:37,  3.20s/it]IOStream.flush timed out\n",
      " 92%|██████████████████████████▋  | 112959/122772 [21:32:54<14:48:05,  5.43s/it]IOStream.flush timed out\n",
      " 92%|██████████████████████████▋  | 112960/122772 [21:33:16<18:54:45,  6.94s/it]IOStream.flush timed out\n",
      " 92%|██████████████████████████▋  | 112962/122772 [21:34:10<40:13:04, 14.76s/it]IOStream.flush timed out\n",
      " 92%|██████████████████████████▋  | 112968/122772 [21:34:50<23:20:59,  8.57s/it]IOStream.flush timed out\n",
      " 92%|██████████████████████████▋  | 112972/122772 [21:35:28<20:55:15,  7.69s/it]IOStream.flush timed out\n",
      " 92%|██████████████████████████▊  | 113362/122772 [21:54:28<19:53:26,  7.61s/it]IOStream.flush timed out\n",
      " 92%|██████████████████████████▊  | 113389/122772 [21:58:39<23:55:36,  9.18s/it]IOStream.flush timed out\n",
      " 92%|██████████████████████████▊  | 113394/122772 [21:59:41<24:23:25,  9.36s/it]IOStream.flush timed out\n",
      " 92%|██████████████████████████▊  | 113397/122772 [22:00:37<38:19:19, 14.72s/it]IOStream.flush timed out\n",
      " 92%|██████████████████████████▊  | 113400/122772 [22:01:18<36:52:01, 14.16s/it]IOStream.flush timed out\n",
      " 93%|██████████████████████████▉  | 113776/122772 [22:10:42<10:46:21,  4.31s/it]IOStream.flush timed out\n",
      " 93%|██████████████████████████▉  | 113783/122772 [22:12:57<34:49:22, 13.95s/it]IOStream.flush timed out\n",
      " 93%|███████████████████████████▊  | 113802/122772 [22:14:13<9:45:29,  3.92s/it]IOStream.flush timed out\n",
      " 93%|██████████████████████████▉  | 113808/122772 [22:15:12<10:35:44,  4.26s/it]IOStream.flush timed out\n",
      "IOStream.flush timed out\n",
      " 93%|███████████████████████████▊  | 113819/122772 [22:16:07<5:34:51,  2.24s/it]IOStream.flush timed out\n",
      " 94%|████████████████████████████▎ | 116006/122772 [22:27:18<1:18:34,  1.44it/s]\n"
     ]
    }
   ],
   "metadata": {
    "scrolled": true
   }
  },
  {
   "cell_type": "markdown",
   "source": [
    "# Union portions from different files and shapes"
   ],
   "metadata": {}
  },
  {
   "cell_type": "code",
   "execution_count": 7,
   "source": [
    "df_by_region = {}\n",
    "for file in tqdm(partial_path.glob('*.csv'), desc='Reading'):\n",
    "    try:\n",
    "        df = pd.read_csv(file)\n",
    "    except pd.errors.EmptyDataError:\n",
    "        continue\n",
    "        \n",
    "    if 'id' not in df.columns:\n",
    "        df['id'] = df['adm2']\n",
    "        df['id'].fillna(df['adm1'], inplace=True)\n",
    "        df['id'].fillna(df['adm0'], inplace=True)\n",
    "    region = df.loc[0, 'id']\n",
    "    df_by_region.setdefault(region, []).append(df)\n",
    "\n",
    "for region, dfs in tqdm(df_by_region.items(), desc='Saving'):\n",
    "    df = utils.combine_dataframes(dfs)\n",
    "    df.to_feather(by_country_path / f'{region}.feather')\n",
    "    \n",
    "del df_by_region"
   ],
   "outputs": [
    {
     "output_type": "stream",
     "name": "stderr",
     "text": [
      "Reading: 122772it [08:26, 242.25it/s]\n",
      "Saving: 100%|████████████████████████████| 48138/48138 [03:59<00:00, 201.14it/s]\n"
     ]
    }
   ],
   "metadata": {
    "scrolled": true
   }
  },
  {
   "cell_type": "markdown",
   "source": [
    "# Aggregate"
   ],
   "metadata": {}
  },
  {
   "cell_type": "code",
   "execution_count": 10,
   "source": [
    "utils.aggregate_feather_splits_and_save(by_country_path, output_path / base_file, no_data_value=-9999)"
   ],
   "outputs": [
    {
     "output_type": "stream",
     "name": "stderr",
     "text": [
      "Grouping: 48138it [07:17, 110.08it/s]\n"
     ]
    }
   ],
   "metadata": {}
  },
  {
   "cell_type": "markdown",
   "source": [
    "# Additional files with the same raster"
   ],
   "metadata": {}
  },
  {
   "cell_type": "code",
   "execution_count": 13,
   "source": [
    "files = ['slope.txt', 'tri.txt']\n",
    "for file in files:\n",
    "    print(file)\n",
    "    file_path = output_path / file[:-4]\n",
    "    file_by_country_path = file_path / 'by_country'\n",
    "    file_path.mkdir(exist_ok=True)\n",
    "    file_by_country_path.mkdir(exist_ok=True)\n",
    "\n",
    "    spacial_txt = SpacialTxt(read_path / file)\n",
    "    spacial_txt.read(save=True)\n",
    "    IMAGE = spacial_txt.get_xarray()\n",
    "    \n",
    "    for df_path in tqdm(by_country_path.glob('*.feather')):\n",
    "        df = pd.read_feather(df_path)\n",
    "        pol = utils.get_mock_polygon_from_df(df, increment=spacial_txt.increment)\n",
    "        subdf = raster.merge_df_to_array_by_lat_lon(df, IMAGE, pol)\n",
    "        if subdf.empty:\n",
    "            print(df_path.name, 'is empty')\n",
    "        else:\n",
    "            subdf.to_feather(file_by_country_path / df_path.name)\n",
    "            \n",
    "    utils.aggregate_feather_splits_and_save(file_by_country_path, output_path / file, no_data_value=-9999)"
   ],
   "outputs": [
    {
     "output_type": "stream",
     "name": "stdout",
     "text": [
      "slope.txt\n"
     ]
    },
    {
     "output_type": "stream",
     "name": "stderr",
     "text": [
      "48138it [22:30, 35.64it/s] \n",
      "Grouping: 48138it [06:56, 115.47it/s]\n"
     ]
    },
    {
     "output_type": "stream",
     "name": "stdout",
     "text": [
      "tri.txt\n"
     ]
    },
    {
     "output_type": "stream",
     "name": "stderr",
     "text": [
      "48138it [22:54, 35.03it/s] \n",
      "Grouping: 48138it [06:56, 115.58it/s]\n"
     ]
    }
   ],
   "metadata": {}
  }
 ],
 "metadata": {
  "kernelspec": {
   "display_name": "Python 3 (ipykernel)",
   "language": "python",
   "name": "python3"
  },
  "language_info": {
   "codemirror_mode": {
    "name": "ipython",
    "version": 3
   },
   "file_extension": ".py",
   "mimetype": "text/x-python",
   "name": "python",
   "nbconvert_exporter": "python",
   "pygments_lexer": "ipython3",
   "version": "3.8.10"
  }
 },
 "nbformat": 4,
 "nbformat_minor": 4
}