{
 "cells": [
  {
   "cell_type": "code",
   "execution_count": 1,
   "metadata": {},
   "outputs": [],
   "source": [
    "import pandas as pd\n",
    "import numpy as np\n",
    "import yaml\n",
    "from tqdm import tqdm\n",
    "from glob import glob\n",
    "from pathlib import Path\n",
    "\n",
    "import shapefile\n",
    "import shapely\n",
    "from shapely.geometry import Point\n",
    "\n",
    "pd.set_option('max_columns', None)"
   ]
  },
  {
   "cell_type": "code",
   "execution_count": 2,
   "metadata": {},
   "outputs": [
    {
     "data": {
      "text/html": [
       "<div>\n",
       "<style scoped>\n",
       "    .dataframe tbody tr th:only-of-type {\n",
       "        vertical-align: middle;\n",
       "    }\n",
       "\n",
       "    .dataframe tbody tr th {\n",
       "        vertical-align: top;\n",
       "    }\n",
       "\n",
       "    .dataframe thead th {\n",
       "        text-align: right;\n",
       "    }\n",
       "</style>\n",
       "<table border=\"1\" class=\"dataframe\">\n",
       "  <thead>\n",
       "    <tr style=\"text-align: right;\">\n",
       "      <th></th>\n",
       "      <th>country</th>\n",
       "      <th>year</th>\n",
       "      <th>leader_name</th>\n",
       "      <th>leader_birthplace</th>\n",
       "      <th>llatitude</th>\n",
       "      <th>llongitude</th>\n",
       "      <th>split</th>\n",
       "      <th>abroad</th>\n",
       "      <th>born_capital</th>\n",
       "    </tr>\n",
       "  </thead>\n",
       "  <tbody>\n",
       "    <tr>\n",
       "      <th>0</th>\n",
       "      <td>Angola</td>\n",
       "      <td>1980</td>\n",
       "      <td>José Eduardo dos Santos</td>\n",
       "      <td>Luanda, Sambizanga District</td>\n",
       "      <td>-8.806</td>\n",
       "      <td>13.269</td>\n",
       "      <td>0.0</td>\n",
       "      <td>0.0</td>\n",
       "      <td>1.0</td>\n",
       "    </tr>\n",
       "    <tr>\n",
       "      <th>1</th>\n",
       "      <td>Angola</td>\n",
       "      <td>1981</td>\n",
       "      <td>José Eduardo dos Santos</td>\n",
       "      <td>Luanda, Sambizanga District</td>\n",
       "      <td>-8.806</td>\n",
       "      <td>13.269</td>\n",
       "      <td>0.0</td>\n",
       "      <td>0.0</td>\n",
       "      <td>1.0</td>\n",
       "    </tr>\n",
       "    <tr>\n",
       "      <th>2</th>\n",
       "      <td>Angola</td>\n",
       "      <td>1982</td>\n",
       "      <td>José Eduardo dos Santos</td>\n",
       "      <td>Luanda, Sambizanga District</td>\n",
       "      <td>-8.806</td>\n",
       "      <td>13.269</td>\n",
       "      <td>0.0</td>\n",
       "      <td>0.0</td>\n",
       "      <td>1.0</td>\n",
       "    </tr>\n",
       "    <tr>\n",
       "      <th>3</th>\n",
       "      <td>Angola</td>\n",
       "      <td>1983</td>\n",
       "      <td>José Eduardo dos Santos</td>\n",
       "      <td>Luanda, Sambizanga District</td>\n",
       "      <td>-8.806</td>\n",
       "      <td>13.269</td>\n",
       "      <td>0.0</td>\n",
       "      <td>0.0</td>\n",
       "      <td>1.0</td>\n",
       "    </tr>\n",
       "    <tr>\n",
       "      <th>4</th>\n",
       "      <td>Angola</td>\n",
       "      <td>1984</td>\n",
       "      <td>José Eduardo dos Santos</td>\n",
       "      <td>Luanda, Sambizanga District</td>\n",
       "      <td>-8.806</td>\n",
       "      <td>13.269</td>\n",
       "      <td>0.0</td>\n",
       "      <td>0.0</td>\n",
       "      <td>1.0</td>\n",
       "    </tr>\n",
       "  </tbody>\n",
       "</table>\n",
       "</div>"
      ],
      "text/plain": [
       "  country  year              leader_name            leader_birthplace  \\\n",
       "0  Angola  1980  José Eduardo dos Santos  Luanda, Sambizanga District   \n",
       "1  Angola  1981  José Eduardo dos Santos  Luanda, Sambizanga District   \n",
       "2  Angola  1982  José Eduardo dos Santos  Luanda, Sambizanga District   \n",
       "3  Angola  1983  José Eduardo dos Santos  Luanda, Sambizanga District   \n",
       "4  Angola  1984  José Eduardo dos Santos  Luanda, Sambizanga District   \n",
       "\n",
       "   llatitude llongitude  split  abroad  born_capital  \n",
       "0     -8.806     13.269    0.0     0.0           1.0  \n",
       "1     -8.806     13.269    0.0     0.0           1.0  \n",
       "2     -8.806     13.269    0.0     0.0           1.0  \n",
       "3     -8.806     13.269    0.0     0.0           1.0  \n",
       "4     -8.806     13.269    0.0     0.0           1.0  "
      ]
     },
     "execution_count": 2,
     "metadata": {},
     "output_type": "execute_result"
    }
   ],
   "source": [
    "df = pd.read_excel('../Leaders/Leaders_v2.xlsx')\n",
    "df.head()"
   ]
  },
  {
   "cell_type": "code",
   "execution_count": 3,
   "metadata": {},
   "outputs": [
    {
     "name": "stderr",
     "output_type": "stream",
     "text": [
      "100%|██████████| 276/276 [02:26<00:00,  1.89it/s]\n"
     ]
    }
   ],
   "source": [
    "shps = glob('../Shapefiles/preprocessed/*.shp')\n",
    "shapes_by_country = {}\n",
    "for i, shp in tqdm(enumerate(shps), total=len(shps)):\n",
    "    codes = Path(shp).name.replace('.shp', '').split('_')\n",
    "    shp = shapefile.Reader(shp)\n",
    "    shapes = [shapely.geometry.shape(s) for s in shp.shapes()]\n",
    "    records = shp.records()\n",
    "    \n",
    "    for code in codes:\n",
    "        shapes_by_country[code] = []\n",
    "        for shape, record in zip(shapes, records):\n",
    "            shapes_by_country[code].append((shape, *record))\n",
    "    \n",
    "assert 'GT' in shapes_by_country and 'PM' in shapes_by_country"
   ]
  },
  {
   "cell_type": "code",
   "execution_count": 4,
   "metadata": {},
   "outputs": [],
   "source": [
    "lon_col = 'llongitude'\n",
    "lat_col = 'llatitude'\n",
    "\n",
    "to_num = lambda x: float(x.strip()) if isinstance(x, str) else x\n",
    "df[lon_col] = df[lon_col].apply(to_num)\n",
    "df[lat_col] = df[lat_col].apply(to_num)\n",
    "\n",
    "locs = df[[lon_col, lat_col, 'country']].drop_duplicates()\n",
    "locs['adm0'] = np.nan\n",
    "locs['adm1'] = np.nan\n",
    "locs['adm2'] = np.nan\n",
    "locs['nearest_loc'] = False"
   ]
  },
  {
   "cell_type": "code",
   "execution_count": 5,
   "metadata": {},
   "outputs": [],
   "source": [
    "with open('../Data/Countries_edited.yml') as f:\n",
    "    all_countries = yaml.safe_load(f)\n",
    "    \n",
    "countries = {}\n",
    "for country in all_countries:\n",
    "    name = country['name']    \n",
    "    iso = country['iso3']\n",
    "    if not name or not iso:\n",
    "        continue\n",
    "    countries[name.title()] = iso[0]\n",
    "    \n",
    "locs['iso3'] = locs['country'].map(countries)"
   ]
  },
  {
   "cell_type": "code",
   "execution_count": 17,
   "metadata": {},
   "outputs": [
    {
     "name": "stderr",
     "output_type": "stream",
     "text": [
      "\n",
      "Finding codes:   0%|          | 0/164 [00:00<?, ?it/s]\u001b[A\n",
      "Finding codes:  91%|█████████ | 149/164 [00:06<00:00, 23.28it/s]\u001b[A\n",
      "Finding codes:  91%|█████████▏| 150/164 [00:12<00:27,  1.95s/it]\u001b[A\n",
      "Finding codes:  92%|█████████▏| 151/164 [00:18<00:41,  3.23s/it]\u001b[A\n",
      "Finding codes:  93%|█████████▎| 152/164 [00:22<00:40,  3.41s/it]\u001b[A\n",
      "Finding codes:  93%|█████████▎| 153/164 [00:26<00:38,  3.55s/it]\u001b[A\n",
      "Finding codes:  94%|█████████▍| 154/164 [00:30<00:36,  3.63s/it]\u001b[A\n",
      "Finding codes:  95%|█████████▍| 155/164 [00:36<00:39,  4.44s/it]\u001b[A\n",
      "Finding codes:  95%|█████████▌| 156/164 [00:40<00:34,  4.26s/it]\u001b[A\n",
      "Finding codes:  96%|█████████▌| 157/164 [00:47<00:34,  4.89s/it]\u001b[A\n",
      "Finding codes:  96%|█████████▋| 158/164 [00:53<00:31,  5.27s/it]\u001b[A\n",
      "Finding codes:  97%|█████████▋| 159/164 [00:59<00:27,  5.56s/it]\u001b[A\n",
      "Finding codes:  98%|█████████▊| 160/164 [01:05<00:22,  5.74s/it]\u001b[A\n",
      "Finding codes:  98%|█████████▊| 161/164 [01:09<00:15,  5.15s/it]\u001b[A\n",
      "Finding codes:  99%|█████████▉| 162/164 [01:11<00:08,  4.11s/it]\u001b[A\n",
      "Finding codes:  99%|█████████▉| 163/164 [01:17<00:04,  4.81s/it]\u001b[A\n",
      "Finding codes: 100%|██████████| 164/164 [01:19<00:00,  2.07it/s]\u001b[A"
     ]
    },
    {
     "name": "stdout",
     "output_type": "stream",
     "text": [
      "Total nearest: 4\n",
      "Missing: []\n"
     ]
    },
    {
     "name": "stderr",
     "output_type": "stream",
     "text": [
      "\n"
     ]
    }
   ],
   "source": [
    "def country_shapes(country):\n",
    "    if country is not None and country in shapes_by_country:\n",
    "        yield from shapes_by_country[country]\n",
    "    else:\n",
    "        for shapes in shapes_by_country.values():\n",
    "            yield from shapes\n",
    "            \n",
    "\n",
    "pbar = tqdm(total=locs.shape[0], desc='Finding codes')\n",
    "for idx, row in locs.iterrows():\n",
    "    if isinstance(row['adm1'], str):\n",
    "        pbar.update(1)\n",
    "        continue\n",
    "    \n",
    "    coordinates = (float(row[lon_col]), float(row[lat_col]))\n",
    "    point = Point(coordinates)\n",
    "    nearest_record = None\n",
    "    nearest_distance = np.inf\n",
    "    \n",
    "    # Search worldwide\n",
    "    for shape, adm0, adm1, adm2 in country_shapes(None): \n",
    "        if point.within(shape):\n",
    "            locs.loc[idx, 'adm2'] = adm2\n",
    "            locs.loc[idx, 'adm1'] = adm1\n",
    "            locs.loc[idx, 'adm0'] = adm0\n",
    "            break\n",
    "            \n",
    "        distance = point.distance(shape)\n",
    "        if distance < nearest_distance:\n",
    "            nearest_distance = distance\n",
    "            nearest_record = (adm0, adm1, adm2)\n",
    "    else:\n",
    "        if nearest_record:\n",
    "            locs.loc[idx, 'nearest_loc'] = True\n",
    "            locs.loc[idx, 'adm2'] = nearest_record[2]\n",
    "            locs.loc[idx, 'adm1'] = nearest_record[1]\n",
    "            locs.loc[idx, 'adm0'] = nearest_record[0]\n",
    "        \n",
    "    pbar.update(1)\n",
    "pbar.close()\n",
    "print('Total nearest:', locs['nearest_loc'].sum())\n",
    "print('Missing:', locs.loc[locs['adm1'].isnull(), 'iso3'].unique())"
   ]
  },
  {
   "cell_type": "code",
   "execution_count": 18,
   "metadata": {},
   "outputs": [],
   "source": [
    "df = df.merge(locs, on=[lon_col, lat_col, 'country'], how='left')"
   ]
  },
  {
   "cell_type": "code",
   "execution_count": 19,
   "metadata": {},
   "outputs": [],
   "source": [
    "df.to_csv('../Leaders/Leaders_with_locs.csv', index=False)"
   ]
  }
 ],
 "metadata": {
  "kernelspec": {
   "display_name": "Python 3",
   "language": "python",
   "name": "python3"
  },
  "language_info": {
   "codemirror_mode": {
    "name": "ipython",
    "version": 3
   },
   "file_extension": ".py",
   "mimetype": "text/x-python",
   "name": "python",
   "nbconvert_exporter": "python",
   "pygments_lexer": "ipython3",
   "version": "3.8.3"
  }
 },
 "nbformat": 4,
 "nbformat_minor": 4
}
