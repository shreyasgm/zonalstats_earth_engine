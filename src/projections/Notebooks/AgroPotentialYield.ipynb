{
 "cells": [
  {
   "cell_type": "code",
   "execution_count": 1,
   "metadata": {},
   "outputs": [
    {
     "name": "stderr",
     "output_type": "stream",
     "text": [
      "/sd2/Moncho/zonalstats_earth_engine/.venv/lib/python3.8/site-packages/geopandas/_compat.py:106: UserWarning: The Shapely GEOS version (3.8.0-CAPI-1.13.1 ) is incompatible with the GEOS version PyGEOS was compiled with (3.9.1-CAPI-1.14.2). Conversions between both will be slow.\n",
      "  warnings.warn(\n"
     ]
    }
   ],
   "source": [
    "import os\n",
    "import numpy as np\n",
    "import pandas as pd\n",
    "import geopandas as gpd\n",
    "import tarfile\n",
    "\n",
    "import shutil\n",
    "import yaml\n",
    "\n",
    "from functools import partial\n",
    "from glob import glob, iglob\n",
    "from pathlib import Path\n",
    "from tqdm import tqdm\n",
    "from concurrent.futures import ProcessPoolExecutor\n",
    "\n",
    "import sys\n",
    "module_path = os.path.abspath(os.path.join('..'))\n",
    "if module_path not in sys.path:\n",
    "    sys.path.append(module_path)\n",
    "\n",
    "from projections.shapefiles import load_shapes, iter_records\n",
    "from projections.models import Records\n",
    "from projections.elevation import get_indices_by_file\n",
    "from projections import raster, utils\n",
    "\n",
    "\n",
    "pd.set_option('max_columns', None)"
   ]
  },
  {
   "cell_type": "code",
   "execution_count": 2,
   "metadata": {},
   "outputs": [],
   "source": [
    "def save_location_mapping(row_and_path):\n",
    "    row, path = row_and_path\n",
    "    shape = row['geometry']\n",
    "    \n",
    "    IMAGE = utils.read_tif(read_path / base_file)\n",
    "    subset = raster.find_subset_with_intersection_area(IMAGE, shape)\n",
    "\n",
    "    if subset.empty:\n",
    "        with open(path, 'w') as f:\n",
    "            f.write('')\n",
    "        return\n",
    "\n",
    "    subset['id'] = row['id']\n",
    "    \n",
    "    subset.to_csv(path, index=False)        "
   ]
  },
  {
   "cell_type": "code",
   "execution_count": 3,
   "metadata": {},
   "outputs": [],
   "source": [
    "base_file = \"Alfalfa.tif\"\n",
    "read_path = Path('../Data/FAO/Agro-ClimaticPotentialYield')\n",
    "output_path = Path('../Output/FAO/Agro-ClimaticPotentialYield/')\n",
    "partial_path = output_path / 'partial'\n",
    "by_country_path = output_path / 'by_country'\n",
    "\n",
    "output_path.mkdir(exist_ok=True)\n",
    "partial_path.mkdir(exist_ok=True)\n",
    "by_country_path.mkdir(exist_ok=True)"
   ]
  },
  {
   "cell_type": "code",
   "execution_count": 4,
   "metadata": {},
   "outputs": [],
   "source": [
    "# Validate that all TIF share the same coordinates\n",
    "x = None\n",
    "y = None\n",
    "\n",
    "for tif in read_path.glob('*.tif'):\n",
    "    image = utils.read_tif(tif)\n",
    "    if x is None:\n",
    "        x = image.x\n",
    "        y = image.y\n",
    "    else:\n",
    "        assert np.all(x == image.x) and np.all(y == image.y), tif\n",
    "        \n",
    "no_data_value = image._FillValue"
   ]
  },
  {
   "cell_type": "markdown",
   "metadata": {},
   "source": [
    "# Map raster to polygons"
   ]
  },
  {
   "cell_type": "code",
   "execution_count": 5,
   "metadata": {},
   "outputs": [],
   "source": [
    "geo_df = gpd.read_file('../Shapefiles/preprocessed/all_countries_with_eth.shp')"
   ]
  },
  {
   "cell_type": "code",
   "execution_count": 6,
   "metadata": {
    "scrolled": true
   },
   "outputs": [
    {
     "name": "stderr",
     "output_type": "stream",
     "text": [
      "100%|███████████████████████████████████| 122772/122772 [40:37<00:00, 50.37it/s]\n"
     ]
    }
   ],
   "source": [
    "n_processes = 30\n",
    "\n",
    "# IMAGE = utils.read_tif(read_path / base_file)\n",
    "\n",
    "iterator = partial(utils.yield_missing_shapes, save_path=partial_path, prefix=base_file[:-4])\n",
    "\n",
    "if n_processes == 1:\n",
    "    for row_and_path in tqdm(iterator(geo_df)):\n",
    "        save_location_mapping(row_and_path)\n",
    "else:\n",
    "    with ProcessPoolExecutor(n_processes) as tpe:\n",
    "        for _ in tqdm(\n",
    "            tpe.map(save_location_mapping, iterator(geo_df)), \n",
    "            total=geo_df.shape[0]\n",
    "        ):\n",
    "            pass"
   ]
  },
  {
   "cell_type": "markdown",
   "metadata": {},
   "source": [
    "# Union portions from different files and shapes"
   ]
  },
  {
   "cell_type": "code",
   "execution_count": 7,
   "metadata": {
    "scrolled": true
   },
   "outputs": [
    {
     "name": "stderr",
     "output_type": "stream",
     "text": [
      "Reading: 122772it [03:28, 588.59it/s]\n",
      "Saving: 100%|████████████████████████████| 48140/48140 [01:14<00:00, 645.83it/s]\n"
     ]
    }
   ],
   "source": [
    "df_by_region = {}\n",
    "for file in tqdm(partial_path.glob('*.csv'), desc='Reading'):\n",
    "    try:\n",
    "        df = pd.read_csv(file)\n",
    "    except pd.errors.EmptyDataError:\n",
    "        continue\n",
    "        \n",
    "    if 'id' not in df.columns:\n",
    "        df['id'] = df['adm2']\n",
    "        df['id'].fillna(df['adm1'], inplace=True)\n",
    "        df['id'].fillna(df['adm0'], inplace=True)\n",
    "    region = df.loc[0, 'id']\n",
    "    df_by_region.setdefault(region, []).append(df)\n",
    "\n",
    "for region, dfs in tqdm(df_by_region.items(), desc='Saving'):\n",
    "    df = utils.combine_dataframes(dfs)\n",
    "    df.to_feather(by_country_path / f'{region}.feather')\n",
    "    \n",
    "del df_by_region"
   ]
  },
  {
   "cell_type": "markdown",
   "metadata": {},
   "source": [
    "# Aggregate"
   ]
  },
  {
   "cell_type": "code",
   "execution_count": 8,
   "metadata": {},
   "outputs": [
    {
     "name": "stderr",
     "output_type": "stream",
     "text": [
      "Reading: 100%|███████████████████████████| 48140/48140 [01:25<00:00, 564.49it/s]\n",
      "Grouping: 100%|██████████████████████████| 48140/48140 [03:34<00:00, 223.95it/s]\n"
     ]
    }
   ],
   "source": [
    "utils.aggregate_feather_splits_and_save(by_country_path, output_path / base_file, no_data_value=-9999)"
   ]
  },
  {
   "cell_type": "markdown",
   "metadata": {},
   "source": [
    "# Additional files with same raster"
   ]
  },
  {
   "cell_type": "code",
   "execution_count": 9,
   "metadata": {},
   "outputs": [
    {
     "name": "stdout",
     "output_type": "stream",
     "text": [
      "Alfalfa.tif\n"
     ]
    },
    {
     "name": "stderr",
     "output_type": "stream",
     "text": [
      "48140it [07:42, 104.00it/s]\n",
      "Reading: 100%|███████████████████████████| 48140/48140 [01:30<00:00, 531.33it/s]\n",
      "Grouping: 100%|██████████████████████████| 48140/48140 [03:27<00:00, 231.87it/s]\n"
     ]
    },
    {
     "name": "stdout",
     "output_type": "stream",
     "text": [
      "Banana.tif\n"
     ]
    },
    {
     "name": "stderr",
     "output_type": "stream",
     "text": [
      "48140it [08:14, 97.32it/s] \n",
      "Reading: 100%|███████████████████████████| 48140/48140 [01:15<00:00, 638.03it/s]\n",
      "Grouping: 100%|██████████████████████████| 48140/48140 [03:28<00:00, 230.58it/s]\n"
     ]
    },
    {
     "name": "stdout",
     "output_type": "stream",
     "text": [
      "Barley.tif\n"
     ]
    },
    {
     "name": "stderr",
     "output_type": "stream",
     "text": [
      "48140it [08:26, 95.14it/s]\n",
      "Reading: 100%|███████████████████████████| 48140/48140 [01:13<00:00, 654.11it/s]\n",
      "Grouping: 100%|██████████████████████████| 48140/48140 [03:27<00:00, 232.10it/s]\n"
     ]
    },
    {
     "name": "stdout",
     "output_type": "stream",
     "text": [
      "BH_Sorghum.tif\n"
     ]
    },
    {
     "name": "stderr",
     "output_type": "stream",
     "text": [
      "48140it [08:13, 97.62it/s]\n",
      "Reading: 100%|███████████████████████████| 48140/48140 [01:14<00:00, 648.62it/s]\n",
      "Grouping: 100%|██████████████████████████| 48140/48140 [03:32<00:00, 226.54it/s]\n"
     ]
    },
    {
     "name": "stdout",
     "output_type": "stream",
     "text": [
      "BL_Sorghum.tif\n"
     ]
    },
    {
     "name": "stderr",
     "output_type": "stream",
     "text": [
      "48140it [08:25, 95.21it/s]\n",
      "Reading: 100%|███████████████████████████| 48140/48140 [01:29<00:00, 540.51it/s]\n",
      "Grouping: 100%|██████████████████████████| 48140/48140 [03:28<00:00, 231.26it/s]\n"
     ]
    },
    {
     "name": "stdout",
     "output_type": "stream",
     "text": [
      "B_Sorghum.tif\n"
     ]
    },
    {
     "name": "stderr",
     "output_type": "stream",
     "text": [
      "48140it [07:31, 106.62it/s]\n",
      "Reading: 100%|███████████████████████████| 48140/48140 [01:23<00:00, 576.15it/s]\n",
      "Grouping: 100%|██████████████████████████| 48140/48140 [03:26<00:00, 232.94it/s]\n"
     ]
    },
    {
     "name": "stdout",
     "output_type": "stream",
     "text": [
      "BT_Sorghum.tif\n"
     ]
    },
    {
     "name": "stderr",
     "output_type": "stream",
     "text": [
      "48140it [08:11, 97.97it/s] \n",
      "Reading: 100%|███████████████████████████| 48140/48140 [01:29<00:00, 540.15it/s]\n",
      "Grouping: 100%|██████████████████████████| 48140/48140 [03:27<00:00, 231.95it/s]\n"
     ]
    },
    {
     "name": "stdout",
     "output_type": "stream",
     "text": [
      "Buckwheat.tif\n"
     ]
    },
    {
     "name": "stderr",
     "output_type": "stream",
     "text": [
      "48140it [08:26, 95.13it/s]\n",
      "Reading: 100%|███████████████████████████| 48140/48140 [01:13<00:00, 656.67it/s]\n",
      "Grouping: 100%|██████████████████████████| 48140/48140 [03:28<00:00, 230.76it/s]\n"
     ]
    },
    {
     "name": "stdout",
     "output_type": "stream",
     "text": [
      "Cabbage.tif\n"
     ]
    },
    {
     "name": "stderr",
     "output_type": "stream",
     "text": [
      "48140it [07:28, 107.26it/s]\n",
      "Reading: 100%|███████████████████████████| 48140/48140 [01:13<00:00, 652.67it/s]\n",
      "Grouping: 100%|██████████████████████████| 48140/48140 [03:28<00:00, 230.44it/s]\n"
     ]
    },
    {
     "name": "stdout",
     "output_type": "stream",
     "text": [
      "Carrot.tif\n"
     ]
    },
    {
     "name": "stderr",
     "output_type": "stream",
     "text": [
      "48140it [08:25, 95.33it/s]\n",
      "Reading: 100%|███████████████████████████| 48140/48140 [01:31<00:00, 525.01it/s]\n",
      "Grouping: 100%|██████████████████████████| 48140/48140 [04:03<00:00, 197.45it/s]\n"
     ]
    },
    {
     "name": "stdout",
     "output_type": "stream",
     "text": [
      "Cassava.tif\n"
     ]
    },
    {
     "name": "stderr",
     "output_type": "stream",
     "text": [
      "48140it [08:44, 91.84it/s]\n",
      "Reading: 100%|███████████████████████████| 48140/48140 [01:31<00:00, 524.14it/s]\n",
      "Grouping: 100%|██████████████████████████| 48140/48140 [04:11<00:00, 191.45it/s]\n"
     ]
    },
    {
     "name": "stdout",
     "output_type": "stream",
     "text": [
      "Chickpea.tif\n"
     ]
    },
    {
     "name": "stderr",
     "output_type": "stream",
     "text": [
      "48140it [08:38, 92.91it/s]\n",
      "Reading: 100%|███████████████████████████| 48140/48140 [01:27<00:00, 547.08it/s]\n",
      "Grouping: 100%|██████████████████████████| 48140/48140 [04:13<00:00, 189.53it/s]\n"
     ]
    },
    {
     "name": "stdout",
     "output_type": "stream",
     "text": [
      "Citrus.tif\n"
     ]
    },
    {
     "name": "stderr",
     "output_type": "stream",
     "text": [
      "48140it [08:50, 90.72it/s]\n",
      "Reading: 100%|███████████████████████████| 48140/48140 [01:30<00:00, 534.77it/s]\n",
      "Grouping: 100%|██████████████████████████| 48140/48140 [04:26<00:00, 180.43it/s]\n"
     ]
    },
    {
     "name": "stdout",
     "output_type": "stream",
     "text": [
      "Cocoa.tif\n"
     ]
    },
    {
     "name": "stderr",
     "output_type": "stream",
     "text": [
      "48140it [09:41, 82.73it/s]\n",
      "Reading: 100%|███████████████████████████| 48140/48140 [01:32<00:00, 523.11it/s]\n",
      "Grouping: 100%|██████████████████████████| 48140/48140 [04:16<00:00, 187.82it/s]\n"
     ]
    },
    {
     "name": "stdout",
     "output_type": "stream",
     "text": [
      "Cocoa_Cumoun.tif\n"
     ]
    },
    {
     "name": "stderr",
     "output_type": "stream",
     "text": [
      "48140it [09:15, 86.63it/s]\n",
      "Reading: 100%|███████████████████████████| 48140/48140 [01:28<00:00, 545.85it/s]\n",
      "Grouping: 100%|██████████████████████████| 48140/48140 [04:14<00:00, 189.10it/s]\n"
     ]
    },
    {
     "name": "stdout",
     "output_type": "stream",
     "text": [
      "Cocoa_Hybrid.tif\n"
     ]
    },
    {
     "name": "stderr",
     "output_type": "stream",
     "text": [
      "48140it [08:38, 92.76it/s]\n",
      "Reading: 100%|███████████████████████████| 48140/48140 [01:27<00:00, 549.22it/s]\n",
      "Grouping: 100%|██████████████████████████| 48140/48140 [04:10<00:00, 191.83it/s]\n"
     ]
    },
    {
     "name": "stdout",
     "output_type": "stream",
     "text": [
      "Coconut.tif\n"
     ]
    },
    {
     "name": "stderr",
     "output_type": "stream",
     "text": [
      "48140it [08:36, 93.23it/s]\n",
      "Reading: 100%|███████████████████████████| 48140/48140 [01:28<00:00, 546.87it/s]\n",
      "Grouping: 100%|██████████████████████████| 48140/48140 [04:09<00:00, 193.02it/s]\n"
     ]
    },
    {
     "name": "stdout",
     "output_type": "stream",
     "text": [
      "Cocoyam.tif\n"
     ]
    },
    {
     "name": "stderr",
     "output_type": "stream",
     "text": [
      "48140it [08:32, 93.91it/s]\n",
      "Reading: 100%|███████████████████████████| 48140/48140 [01:29<00:00, 537.03it/s]\n",
      "Grouping: 100%|██████████████████████████| 48140/48140 [03:31<00:00, 227.96it/s]\n"
     ]
    },
    {
     "name": "stdout",
     "output_type": "stream",
     "text": [
      "Coffee.tif\n"
     ]
    },
    {
     "name": "stderr",
     "output_type": "stream",
     "text": [
      "48140it [08:24, 95.41it/s] \n",
      "Reading: 100%|███████████████████████████| 48140/48140 [01:29<00:00, 535.98it/s]\n",
      "Grouping: 100%|██████████████████████████| 48140/48140 [03:31<00:00, 227.08it/s]\n"
     ]
    },
    {
     "name": "stdout",
     "output_type": "stream",
     "text": [
      "Coffee_Arabica.tif\n"
     ]
    },
    {
     "name": "stderr",
     "output_type": "stream",
     "text": [
      "48140it [08:10, 98.14it/s] \n",
      "Reading: 100%|███████████████████████████| 48140/48140 [01:29<00:00, 540.00it/s]\n",
      "Grouping: 100%|██████████████████████████| 48140/48140 [03:31<00:00, 227.54it/s]\n"
     ]
    },
    {
     "name": "stdout",
     "output_type": "stream",
     "text": [
      "Coffee_Robusta.tif\n"
     ]
    },
    {
     "name": "stderr",
     "output_type": "stream",
     "text": [
      "48140it [08:01, 99.90it/s] \n",
      "Reading: 100%|███████████████████████████| 48140/48140 [01:28<00:00, 543.18it/s]\n",
      "Grouping: 100%|██████████████████████████| 48140/48140 [03:29<00:00, 229.87it/s]\n"
     ]
    },
    {
     "name": "stdout",
     "output_type": "stream",
     "text": [
      "Cotton.tif\n"
     ]
    },
    {
     "name": "stderr",
     "output_type": "stream",
     "text": [
      "48140it [08:26, 95.07it/s] \n",
      "Reading: 100%|███████████████████████████| 48140/48140 [01:28<00:00, 546.27it/s]\n",
      "Grouping: 100%|██████████████████████████| 48140/48140 [03:30<00:00, 228.76it/s]\n"
     ]
    },
    {
     "name": "stdout",
     "output_type": "stream",
     "text": [
      "Cowpea.tif\n"
     ]
    },
    {
     "name": "stderr",
     "output_type": "stream",
     "text": [
      "48140it [08:05, 99.14it/s] \n",
      "Reading: 100%|███████████████████████████| 48140/48140 [01:27<00:00, 549.33it/s]\n",
      "Grouping: 100%|██████████████████████████| 48140/48140 [03:29<00:00, 230.12it/s]\n"
     ]
    },
    {
     "name": "stdout",
     "output_type": "stream",
     "text": [
      "Dry_Pea.tif\n"
     ]
    },
    {
     "name": "stderr",
     "output_type": "stream",
     "text": [
      "48140it [08:25, 95.19it/s]\n",
      "Reading: 100%|███████████████████████████| 48140/48140 [01:27<00:00, 550.54it/s]\n",
      "Grouping: 100%|██████████████████████████| 48140/48140 [03:29<00:00, 229.41it/s]\n"
     ]
    },
    {
     "name": "stdout",
     "output_type": "stream",
     "text": [
      "Dry_Rice.tif\n"
     ]
    },
    {
     "name": "stderr",
     "output_type": "stream",
     "text": [
      "48140it [08:25, 95.31it/s]\n",
      "Reading: 100%|███████████████████████████| 48140/48140 [01:21<00:00, 589.70it/s]\n",
      "Grouping: 100%|██████████████████████████| 48140/48140 [03:35<00:00, 222.96it/s]\n"
     ]
    },
    {
     "name": "stdout",
     "output_type": "stream",
     "text": [
      "Flax.tif\n"
     ]
    },
    {
     "name": "stderr",
     "output_type": "stream",
     "text": [
      "48140it [08:19, 96.34it/s] \n",
      "Reading: 100%|███████████████████████████| 48140/48140 [01:30<00:00, 534.33it/s]\n",
      "Grouping: 100%|██████████████████████████| 48140/48140 [03:29<00:00, 229.76it/s]\n"
     ]
    },
    {
     "name": "stdout",
     "output_type": "stream",
     "text": [
      "Foxtail_Millet.tif\n"
     ]
    },
    {
     "name": "stderr",
     "output_type": "stream",
     "text": [
      "48140it [08:23, 95.59it/s] \n",
      "Reading: 100%|███████████████████████████| 48140/48140 [01:28<00:00, 541.72it/s]\n",
      "Grouping: 100%|██████████████████████████| 48140/48140 [03:35<00:00, 223.80it/s]\n"
     ]
    },
    {
     "name": "stdout",
     "output_type": "stream",
     "text": [
      "Gram.tif\n"
     ]
    },
    {
     "name": "stderr",
     "output_type": "stream",
     "text": [
      "48140it [08:25, 95.29it/s]\n",
      "Reading: 100%|███████████████████████████| 48140/48140 [01:26<00:00, 556.10it/s]\n",
      "Grouping: 100%|██████████████████████████| 48140/48140 [03:29<00:00, 230.14it/s]\n"
     ]
    },
    {
     "name": "stdout",
     "output_type": "stream",
     "text": [
      "Grass.tif\n"
     ]
    },
    {
     "name": "stderr",
     "output_type": "stream",
     "text": [
      "48140it [08:23, 95.63it/s]\n",
      "Reading: 100%|███████████████████████████| 48140/48140 [01:28<00:00, 541.81it/s]\n",
      "Grouping: 100%|██████████████████████████| 48140/48140 [03:37<00:00, 221.63it/s]\n"
     ]
    },
    {
     "name": "stdout",
     "output_type": "stream",
     "text": [
      "Greater_Yam.tif\n"
     ]
    },
    {
     "name": "stderr",
     "output_type": "stream",
     "text": [
      "48140it [08:24, 95.52it/s] \n",
      "Reading: 100%|███████████████████████████| 48140/48140 [01:28<00:00, 542.78it/s]\n",
      "Grouping: 100%|██████████████████████████| 48140/48140 [03:29<00:00, 229.29it/s]\n"
     ]
    },
    {
     "name": "stdout",
     "output_type": "stream",
     "text": [
      "Ground_Nut.tif\n"
     ]
    },
    {
     "name": "stderr",
     "output_type": "stream",
     "text": [
      "48140it [08:27, 94.92it/s]\n",
      "Reading: 100%|███████████████████████████| 48140/48140 [01:27<00:00, 548.68it/s]\n",
      "Grouping: 100%|██████████████████████████| 48140/48140 [03:34<00:00, 224.48it/s]\n"
     ]
    },
    {
     "name": "stdout",
     "output_type": "stream",
     "text": [
      "H_Maize.tif\n"
     ]
    },
    {
     "name": "stderr",
     "output_type": "stream",
     "text": [
      "48140it [08:24, 95.38it/s]\n",
      "Reading: 100%|███████████████████████████| 48140/48140 [01:27<00:00, 552.65it/s]\n",
      "Grouping: 100%|██████████████████████████| 48140/48140 [03:29<00:00, 229.78it/s]\n"
     ]
    },
    {
     "name": "stdout",
     "output_type": "stream",
     "text": [
      "H_Sorghum.tif\n"
     ]
    },
    {
     "name": "stderr",
     "output_type": "stream",
     "text": [
      "48140it [08:27, 94.94it/s]\n",
      "Reading: 100%|███████████████████████████| 48140/48140 [01:14<00:00, 646.94it/s]\n",
      "Grouping: 100%|██████████████████████████| 48140/48140 [03:30<00:00, 228.67it/s]\n"
     ]
    },
    {
     "name": "stdout",
     "output_type": "stream",
     "text": [
      "Jatropha.tif\n"
     ]
    },
    {
     "name": "stderr",
     "output_type": "stream",
     "text": [
      "48140it [07:55, 101.20it/s]\n",
      "Reading: 100%|███████████████████████████| 48140/48140 [01:29<00:00, 536.02it/s]\n",
      "Grouping: 100%|██████████████████████████| 48140/48140 [03:29<00:00, 229.58it/s]\n"
     ]
    },
    {
     "name": "stdout",
     "output_type": "stream",
     "text": [
      "L_Maize.tif\n"
     ]
    },
    {
     "name": "stderr",
     "output_type": "stream",
     "text": [
      "48140it [08:31, 94.04it/s]\n",
      "Reading: 100%|███████████████████████████| 48140/48140 [01:13<00:00, 653.32it/s]\n",
      "Grouping: 100%|██████████████████████████| 48140/48140 [03:30<00:00, 228.44it/s]\n"
     ]
    },
    {
     "name": "stdout",
     "output_type": "stream",
     "text": [
      "L_Sorghum.tif\n"
     ]
    },
    {
     "name": "stderr",
     "output_type": "stream",
     "text": [
      "48140it [08:32, 93.85it/s]\n",
      "Reading: 100%|███████████████████████████| 48140/48140 [01:29<00:00, 538.03it/s]\n",
      "Grouping: 100%|██████████████████████████| 48140/48140 [03:31<00:00, 227.31it/s]\n"
     ]
    },
    {
     "name": "stdout",
     "output_type": "stream",
     "text": [
      "Maize.tif\n"
     ]
    },
    {
     "name": "stderr",
     "output_type": "stream",
     "text": [
      "48140it [08:26, 94.97it/s]\n",
      "Reading: 100%|███████████████████████████| 48140/48140 [01:13<00:00, 658.72it/s]\n",
      "Grouping: 100%|██████████████████████████| 48140/48140 [03:36<00:00, 222.20it/s]\n"
     ]
    },
    {
     "name": "stdout",
     "output_type": "stream",
     "text": [
      "Millet.tif\n"
     ]
    },
    {
     "name": "stderr",
     "output_type": "stream",
     "text": [
      "48140it [07:45, 103.50it/s]\n",
      "Reading: 100%|███████████████████████████| 48140/48140 [01:29<00:00, 537.42it/s]\n",
      "Grouping: 100%|██████████████████████████| 48140/48140 [03:29<00:00, 229.62it/s]\n"
     ]
    },
    {
     "name": "stdout",
     "output_type": "stream",
     "text": [
      "Miscanthus.tif\n"
     ]
    },
    {
     "name": "stderr",
     "output_type": "stream",
     "text": [
      "48140it [08:28, 94.74it/s]\n",
      "Reading: 100%|███████████████████████████| 48140/48140 [01:27<00:00, 549.60it/s]\n",
      "Grouping: 100%|██████████████████████████| 48140/48140 [03:28<00:00, 230.49it/s]\n"
     ]
    },
    {
     "name": "stdout",
     "output_type": "stream",
     "text": [
      "Napier_Grass_highInput.tif\n"
     ]
    },
    {
     "name": "stderr",
     "output_type": "stream",
     "text": [
      "48140it [08:25, 95.24it/s]\n",
      "Reading: 100%|███████████████████████████| 48140/48140 [01:28<00:00, 547.03it/s]\n",
      "Grouping: 100%|██████████████████████████| 48140/48140 [03:28<00:00, 230.67it/s]\n"
     ]
    },
    {
     "name": "stdout",
     "output_type": "stream",
     "text": [
      "Oat.tif\n"
     ]
    },
    {
     "name": "stderr",
     "output_type": "stream",
     "text": [
      "48140it [08:23, 95.60it/s] \n",
      "Reading: 100%|███████████████████████████| 48140/48140 [01:26<00:00, 557.24it/s]\n",
      "Grouping: 100%|██████████████████████████| 48140/48140 [03:29<00:00, 230.21it/s]\n"
     ]
    },
    {
     "name": "stdout",
     "output_type": "stream",
     "text": [
      "Oil_Palm.tif\n"
     ]
    },
    {
     "name": "stderr",
     "output_type": "stream",
     "text": [
      "48140it [08:23, 95.53it/s] \n",
      "Reading: 100%|███████████████████████████| 48140/48140 [01:27<00:00, 550.24it/s]\n",
      "Grouping: 100%|██████████████████████████| 48140/48140 [03:36<00:00, 222.13it/s]\n"
     ]
    },
    {
     "name": "stdout",
     "output_type": "stream",
     "text": [
      "Olive.tif\n"
     ]
    },
    {
     "name": "stderr",
     "output_type": "stream",
     "text": [
      "48140it [08:23, 95.52it/s]\n",
      "Reading: 100%|███████████████████████████| 48140/48140 [01:27<00:00, 553.07it/s]\n",
      "Grouping: 100%|██████████████████████████| 48140/48140 [03:30<00:00, 228.96it/s]\n"
     ]
    },
    {
     "name": "stdout",
     "output_type": "stream",
     "text": [
      "Onion.tif\n"
     ]
    },
    {
     "name": "stderr",
     "output_type": "stream",
     "text": [
      "48140it [08:28, 94.67it/s]\n",
      "Reading: 100%|███████████████████████████| 48140/48140 [01:14<00:00, 646.36it/s]\n",
      "Grouping: 100%|██████████████████████████| 48140/48140 [03:29<00:00, 230.27it/s]\n"
     ]
    },
    {
     "name": "stdout",
     "output_type": "stream",
     "text": [
      "Para_Rubber_highInput.tif\n"
     ]
    },
    {
     "name": "stderr",
     "output_type": "stream",
     "text": [
      "48140it [08:30, 94.21it/s]\n",
      "Reading: 100%|███████████████████████████| 48140/48140 [01:13<00:00, 652.14it/s]\n",
      "Grouping: 100%|██████████████████████████| 48140/48140 [03:31<00:00, 227.68it/s]\n"
     ]
    },
    {
     "name": "stdout",
     "output_type": "stream",
     "text": [
      "Pasture_Legumes.tif\n"
     ]
    },
    {
     "name": "stderr",
     "output_type": "stream",
     "text": [
      "48140it [08:02, 99.72it/s] \n",
      "Reading: 100%|███████████████████████████| 48140/48140 [01:14<00:00, 643.00it/s]\n",
      "Grouping: 100%|██████████████████████████| 48140/48140 [03:35<00:00, 223.18it/s]\n"
     ]
    },
    {
     "name": "stdout",
     "output_type": "stream",
     "text": [
      "Pearl_Millet.tif\n"
     ]
    },
    {
     "name": "stderr",
     "output_type": "stream",
     "text": [
      "48140it [07:25, 107.95it/s]\n",
      "Reading: 100%|███████████████████████████| 48140/48140 [01:28<00:00, 543.96it/s]\n",
      "Grouping: 100%|██████████████████████████| 48140/48140 [03:29<00:00, 230.30it/s]\n"
     ]
    },
    {
     "name": "stdout",
     "output_type": "stream",
     "text": [
      "Phaseolus_Bean.tif\n"
     ]
    },
    {
     "name": "stderr",
     "output_type": "stream",
     "text": [
      "48140it [07:25, 108.10it/s]\n",
      "Reading: 100%|███████████████████████████| 48140/48140 [01:28<00:00, 544.26it/s]\n",
      "Grouping: 100%|██████████████████████████| 48140/48140 [03:28<00:00, 230.40it/s]\n"
     ]
    },
    {
     "name": "stdout",
     "output_type": "stream",
     "text": [
      "Pigeonpea.tif\n"
     ]
    },
    {
     "name": "stderr",
     "output_type": "stream",
     "text": [
      "48140it [08:25, 95.30it/s] \n",
      "Reading: 100%|███████████████████████████| 48140/48140 [01:29<00:00, 538.65it/s]\n",
      "Grouping: 100%|██████████████████████████| 48140/48140 [03:31<00:00, 228.08it/s]\n"
     ]
    },
    {
     "name": "stdout",
     "output_type": "stream",
     "text": [
      "Rapeseed.tif\n"
     ]
    },
    {
     "name": "stderr",
     "output_type": "stream",
     "text": [
      "48140it [08:25, 95.22it/s] \n",
      "Reading: 100%|███████████████████████████| 48140/48140 [01:27<00:00, 547.68it/s]\n",
      "Grouping: 100%|██████████████████████████| 48140/48140 [03:30<00:00, 229.24it/s]\n"
     ]
    },
    {
     "name": "stdout",
     "output_type": "stream",
     "text": [
      "Reed_Canary_Grass.tif\n"
     ]
    },
    {
     "name": "stderr",
     "output_type": "stream",
     "text": [
      "48140it [08:21, 96.01it/s]\n",
      "Reading: 100%|███████████████████████████| 48140/48140 [01:27<00:00, 552.36it/s]\n",
      "Grouping: 100%|██████████████████████████| 48140/48140 [03:29<00:00, 229.44it/s]\n"
     ]
    },
    {
     "name": "stdout",
     "output_type": "stream",
     "text": [
      "Rye.tif\n"
     ]
    },
    {
     "name": "stderr",
     "output_type": "stream",
     "text": [
      "48140it [07:50, 102.23it/s]\n",
      "Reading: 100%|███████████████████████████| 48140/48140 [01:13<00:00, 655.25it/s]\n",
      "Grouping: 100%|██████████████████████████| 48140/48140 [03:30<00:00, 228.72it/s]\n"
     ]
    },
    {
     "name": "stdout",
     "output_type": "stream",
     "text": [
      "Silage_Maize.tif\n"
     ]
    },
    {
     "name": "stderr",
     "output_type": "stream",
     "text": [
      "48140it [08:21, 96.05it/s] \n",
      "Reading: 100%|███████████████████████████| 48140/48140 [01:29<00:00, 535.30it/s]\n",
      "Grouping: 100%|██████████████████████████| 48140/48140 [03:28<00:00, 230.97it/s]\n"
     ]
    },
    {
     "name": "stdout",
     "output_type": "stream",
     "text": [
      "Sorghum.tif\n"
     ]
    },
    {
     "name": "stderr",
     "output_type": "stream",
     "text": [
      "48140it [08:23, 95.52it/s] \n",
      "Reading: 100%|███████████████████████████| 48140/48140 [01:14<00:00, 643.13it/s]\n",
      "Grouping: 100%|██████████████████████████| 48140/48140 [03:30<00:00, 229.11it/s]\n"
     ]
    },
    {
     "name": "stdout",
     "output_type": "stream",
     "text": [
      "Soy.tif\n"
     ]
    },
    {
     "name": "stderr",
     "output_type": "stream",
     "text": [
      "48140it [07:50, 102.32it/s]\n",
      "Reading: 100%|███████████████████████████| 48140/48140 [01:25<00:00, 560.61it/s]\n",
      "Grouping: 100%|██████████████████████████| 48140/48140 [03:28<00:00, 230.75it/s]\n"
     ]
    },
    {
     "name": "stdout",
     "output_type": "stream",
     "text": [
      "Spring_Barley.tif\n"
     ]
    },
    {
     "name": "stderr",
     "output_type": "stream",
     "text": [
      "48140it [08:03, 99.49it/s] \n",
      "Reading: 100%|███████████████████████████| 48140/48140 [01:28<00:00, 546.93it/s]\n",
      "Grouping: 100%|██████████████████████████| 48140/48140 [03:30<00:00, 228.53it/s]\n"
     ]
    },
    {
     "name": "stdout",
     "output_type": "stream",
     "text": [
      "Spring_Rye.tif\n"
     ]
    },
    {
     "name": "stderr",
     "output_type": "stream",
     "text": [
      "48140it [07:36, 105.56it/s]\n",
      "Reading: 100%|███████████████████████████| 48140/48140 [01:13<00:00, 650.55it/s]\n",
      "Grouping: 100%|██████████████████████████| 48140/48140 [03:31<00:00, 228.10it/s]\n"
     ]
    },
    {
     "name": "stdout",
     "output_type": "stream",
     "text": [
      "Spring_Wheat.tif\n"
     ]
    },
    {
     "name": "stderr",
     "output_type": "stream",
     "text": [
      "48140it [08:24, 95.43it/s]\n",
      "Reading: 100%|███████████████████████████| 48140/48140 [01:25<00:00, 560.37it/s]\n",
      "Grouping: 100%|██████████████████████████| 48140/48140 [03:28<00:00, 230.34it/s]\n"
     ]
    },
    {
     "name": "stdout",
     "output_type": "stream",
     "text": [
      "Sugarbeet.tif\n"
     ]
    },
    {
     "name": "stderr",
     "output_type": "stream",
     "text": [
      "48140it [08:26, 95.03it/s] \n",
      "Reading: 100%|███████████████████████████| 48140/48140 [01:20<00:00, 600.08it/s]\n",
      "Grouping: 100%|██████████████████████████| 48140/48140 [03:28<00:00, 230.47it/s]\n"
     ]
    },
    {
     "name": "stdout",
     "output_type": "stream",
     "text": [
      "Sugarcane.tif\n"
     ]
    },
    {
     "name": "stderr",
     "output_type": "stream",
     "text": [
      "48140it [08:24, 95.50it/s] \n",
      "Reading: 100%|███████████████████████████| 48140/48140 [01:26<00:00, 556.25it/s]\n",
      "Grouping: 100%|██████████████████████████| 48140/48140 [03:28<00:00, 230.87it/s]\n"
     ]
    },
    {
     "name": "stdout",
     "output_type": "stream",
     "text": [
      "Sunflower.tif\n"
     ]
    },
    {
     "name": "stderr",
     "output_type": "stream",
     "text": [
      "48140it [08:24, 95.35it/s] \n",
      "Reading: 100%|███████████████████████████| 48140/48140 [01:29<00:00, 535.74it/s]\n",
      "Grouping: 100%|██████████████████████████| 48140/48140 [03:38<00:00, 220.27it/s]\n"
     ]
    },
    {
     "name": "stdout",
     "output_type": "stream",
     "text": [
      "Sweet_Potato.tif\n"
     ]
    },
    {
     "name": "stderr",
     "output_type": "stream",
     "text": [
      "48140it [08:24, 95.45it/s] \n",
      "Reading: 100%|███████████████████████████| 48140/48140 [01:28<00:00, 545.87it/s]\n",
      "Grouping: 100%|██████████████████████████| 48140/48140 [03:28<00:00, 230.84it/s]\n"
     ]
    },
    {
     "name": "stdout",
     "output_type": "stream",
     "text": [
      "Switchgrass.tif\n"
     ]
    },
    {
     "name": "stderr",
     "output_type": "stream",
     "text": [
      "48140it [08:26, 95.07it/s] \n",
      "Reading: 100%|███████████████████████████| 48140/48140 [01:27<00:00, 548.93it/s]\n",
      "Grouping: 100%|██████████████████████████| 48140/48140 [03:30<00:00, 228.93it/s]\n"
     ]
    },
    {
     "name": "stdout",
     "output_type": "stream",
     "text": [
      "Tea.tif\n"
     ]
    },
    {
     "name": "stderr",
     "output_type": "stream",
     "text": [
      "48140it [08:20, 96.19it/s] \n",
      "Reading: 100%|███████████████████████████| 48140/48140 [01:26<00:00, 558.15it/s]\n",
      "Grouping: 100%|██████████████████████████| 48140/48140 [04:12<00:00, 190.50it/s]\n"
     ]
    },
    {
     "name": "stdout",
     "output_type": "stream",
     "text": [
      "T_Maize.tif\n"
     ]
    },
    {
     "name": "stderr",
     "output_type": "stream",
     "text": [
      "48140it [08:15, 97.10it/s] \n",
      "Reading: 100%|███████████████████████████| 48140/48140 [01:17<00:00, 620.79it/s]\n",
      "Grouping: 100%|██████████████████████████| 48140/48140 [03:51<00:00, 207.97it/s]\n"
     ]
    },
    {
     "name": "stdout",
     "output_type": "stream",
     "text": [
      "Tobacco.tif\n"
     ]
    },
    {
     "name": "stderr",
     "output_type": "stream",
     "text": [
      "48140it [08:06, 98.88it/s] \n",
      "Reading: 100%|███████████████████████████| 48140/48140 [01:18<00:00, 612.92it/s]\n",
      "Grouping: 100%|██████████████████████████| 48140/48140 [03:50<00:00, 209.20it/s]\n"
     ]
    },
    {
     "name": "stdout",
     "output_type": "stream",
     "text": [
      "Tomato.tif\n"
     ]
    },
    {
     "name": "stderr",
     "output_type": "stream",
     "text": [
      "48140it [08:08, 98.53it/s] \n",
      "Reading: 100%|███████████████████████████| 48140/48140 [01:18<00:00, 616.58it/s]\n",
      "Grouping: 100%|██████████████████████████| 48140/48140 [03:50<00:00, 208.95it/s]\n"
     ]
    },
    {
     "name": "stdout",
     "output_type": "stream",
     "text": [
      "T_Sorghum.tif\n"
     ]
    },
    {
     "name": "stderr",
     "output_type": "stream",
     "text": [
      "48140it [08:06, 98.88it/s] \n",
      "Reading: 100%|███████████████████████████| 48140/48140 [01:17<00:00, 620.10it/s]\n",
      "Grouping: 100%|██████████████████████████| 48140/48140 [03:50<00:00, 209.29it/s]\n"
     ]
    },
    {
     "name": "stdout",
     "output_type": "stream",
     "text": [
      "Wet_Rice.tif\n"
     ]
    },
    {
     "name": "stderr",
     "output_type": "stream",
     "text": [
      "48140it [08:13, 97.63it/s] \n",
      "Reading: 100%|███████████████████████████| 48140/48140 [01:19<00:00, 603.21it/s]\n",
      "Grouping: 100%|██████████████████████████| 48140/48140 [03:52<00:00, 207.31it/s]\n"
     ]
    },
    {
     "name": "stdout",
     "output_type": "stream",
     "text": [
      "Wheat.tif\n"
     ]
    },
    {
     "name": "stderr",
     "output_type": "stream",
     "text": [
      "48140it [08:17, 96.75it/s] \n",
      "Reading: 100%|███████████████████████████| 48140/48140 [01:25<00:00, 560.70it/s]\n",
      "Grouping: 100%|██████████████████████████| 48140/48140 [04:16<00:00, 187.66it/s]\n"
     ]
    },
    {
     "name": "stdout",
     "output_type": "stream",
     "text": [
      "White_Potato.tif\n"
     ]
    },
    {
     "name": "stderr",
     "output_type": "stream",
     "text": [
      "48140it [08:01, 99.92it/s] \n",
      "Reading: 100%|███████████████████████████| 48140/48140 [01:18<00:00, 614.19it/s]\n",
      "Grouping: 100%|██████████████████████████| 48140/48140 [03:59<00:00, 200.98it/s]\n"
     ]
    },
    {
     "name": "stdout",
     "output_type": "stream",
     "text": [
      "White_Yam.tif\n"
     ]
    },
    {
     "name": "stderr",
     "output_type": "stream",
     "text": [
      "48140it [07:52, 101.78it/s]\n",
      "Reading: 100%|███████████████████████████| 48140/48140 [01:17<00:00, 624.71it/s]\n",
      "Grouping: 100%|██████████████████████████| 48140/48140 [03:50<00:00, 209.23it/s]\n"
     ]
    },
    {
     "name": "stdout",
     "output_type": "stream",
     "text": [
      "Winter_Barley.tif\n"
     ]
    },
    {
     "name": "stderr",
     "output_type": "stream",
     "text": [
      "48140it [08:12, 97.72it/s] \n",
      "Reading: 100%|███████████████████████████| 48140/48140 [01:24<00:00, 572.10it/s]\n",
      "Grouping: 100%|██████████████████████████| 48140/48140 [04:06<00:00, 195.68it/s]\n"
     ]
    },
    {
     "name": "stdout",
     "output_type": "stream",
     "text": [
      "Winter_Rye.tif\n"
     ]
    },
    {
     "name": "stderr",
     "output_type": "stream",
     "text": [
      "48140it [07:48, 102.70it/s]\n",
      "Reading: 100%|███████████████████████████| 48140/48140 [01:15<00:00, 636.90it/s]\n",
      "Grouping: 100%|██████████████████████████| 48140/48140 [03:54<00:00, 205.38it/s]\n"
     ]
    },
    {
     "name": "stdout",
     "output_type": "stream",
     "text": [
      "Winter_Wheat.tif\n"
     ]
    },
    {
     "name": "stderr",
     "output_type": "stream",
     "text": [
      "48140it [07:50, 102.24it/s]\n",
      "Reading: 100%|███████████████████████████| 48140/48140 [01:17<00:00, 623.78it/s]\n",
      "Grouping: 100%|██████████████████████████| 48140/48140 [03:45<00:00, 213.11it/s]\n"
     ]
    },
    {
     "name": "stdout",
     "output_type": "stream",
     "text": [
      "Yam.tif\n"
     ]
    },
    {
     "name": "stderr",
     "output_type": "stream",
     "text": [
      "48140it [07:51, 102.15it/s]\n",
      "Reading: 100%|███████████████████████████| 48140/48140 [01:20<00:00, 597.52it/s]\n",
      "Grouping: 100%|██████████████████████████| 48140/48140 [03:53<00:00, 206.56it/s]\n"
     ]
    },
    {
     "name": "stdout",
     "output_type": "stream",
     "text": [
      "Yellow_Yam.tif\n"
     ]
    },
    {
     "name": "stderr",
     "output_type": "stream",
     "text": [
      "48140it [07:53, 101.56it/s]\n",
      "Reading: 100%|███████████████████████████| 48140/48140 [01:18<00:00, 616.95it/s]\n",
      "Grouping: 100%|██████████████████████████| 48140/48140 [03:42<00:00, 216.21it/s]\n"
     ]
    }
   ],
   "source": [
    "for file in read_path.glob('*.tif'):\n",
    "    print(file.name)\n",
    "    file_path = output_path / file.name[:-4]\n",
    "    file_path.mkdir(exist_ok=True)\n",
    "\n",
    "    IMAGE = utils.read_tif(file)\n",
    "    increment = raster.get_increment_from_tif(IMAGE)\n",
    "    \n",
    "    for df_path in tqdm(by_country_path.glob('*.feather')):\n",
    "        df = pd.read_feather(df_path)\n",
    "        pol = utils.get_mock_polygon_from_df(df, increment=increment)\n",
    "        subdf = raster.merge_df_to_array_by_lat_lon(df, IMAGE, pol)\n",
    "        if subdf.empty:\n",
    "            print(df_path.name, 'is empty')\n",
    "        else:\n",
    "            subdf.to_feather(file_path / df_path.name)\n",
    "            \n",
    "    utils.aggregate_feather_splits_and_save(file_path, output_path / file.name, no_data_value=-9999)\n",
    "    shutil.rmtree(file_path)"
   ]
  }
 ],
 "metadata": {
  "kernelspec": {
   "display_name": "Python 3 (ipykernel)",
   "language": "python",
   "name": "python3"
  },
  "language_info": {
   "codemirror_mode": {
    "name": "ipython",
    "version": 3
   },
   "file_extension": ".py",
   "mimetype": "text/x-python",
   "name": "python",
   "nbconvert_exporter": "python",
   "pygments_lexer": "ipython3",
   "version": "3.8.10"
  }
 },
 "nbformat": 4,
 "nbformat_minor": 4
}
