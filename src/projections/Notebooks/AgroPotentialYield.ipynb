{
 "cells": [
  {
   "cell_type": "code",
   "execution_count": null,
   "source": [
    "import os\n",
    "import numpy as np\n",
    "import pandas as pd\n",
    "import geopandas as gpd\n",
    "import tarfile\n",
    "\n",
    "import shutil\n",
    "import yaml\n",
    "\n",
    "from functools import partial\n",
    "from glob import glob, iglob\n",
    "from pathlib import Path\n",
    "from tqdm import tqdm\n",
    "from concurrent.futures import ThreadPoolExecutor\n",
    "\n",
    "import sys\n",
    "module_path = os.path.abspath(os.path.join('..'))\n",
    "if module_path not in sys.path:\n",
    "    sys.path.append(module_path)\n",
    "\n",
    "from projections.shapefiles import load_shapes, iter_records\n",
    "from projections.models import Records\n",
    "from projections.elevation import get_indices_by_file\n",
    "from projections import raster, utils\n",
    "\n",
    "\n",
    "pd.set_option('max_columns', None)"
   ],
   "outputs": [],
   "metadata": {}
  },
  {
   "cell_type": "code",
   "execution_count": 2,
   "source": [
    "def save_location_mapping(row_and_path):\n",
    "    row, path = row_and_path\n",
    "    shape = row['geometry']\n",
    "    \n",
    "    subset = raster.find_subset_with_intersection_area(IMAGE, shape)\n",
    "\n",
    "    if subset.empty:\n",
    "        with open(path, 'w') as f:\n",
    "            f.write('')\n",
    "        return\n",
    "\n",
    "    subset['id'] = row['id']\n",
    "    \n",
    "    subset.to_csv(path, index=False)        "
   ],
   "outputs": [],
   "metadata": {}
  },
  {
   "cell_type": "code",
   "execution_count": 3,
   "source": [
    "base_file = \"Alfalfa.tif\"\n",
    "read_path = Path('../Data/FAO/Agro-ClimaticPotentialYield')\n",
    "output_path = Path('../Output/FAO/Agro-ClimaticPotentialYield/')\n",
    "partial_path = output_path / 'partial'\n",
    "by_country_path = output_path / 'by_country'\n",
    "\n",
    "output_path.mkdir(exist_ok=True)\n",
    "partial_path.mkdir(exist_ok=True)\n",
    "by_country_path.mkdir(exist_ok=True)"
   ],
   "outputs": [],
   "metadata": {}
  },
  {
   "cell_type": "code",
   "execution_count": 4,
   "source": [
    "# Validate that all TIF share the same coordinates\n",
    "x = None\n",
    "y = None\n",
    "\n",
    "for tif in read_path.glob('*.tif'):\n",
    "    image = utils.read_tif(tif)\n",
    "    if x is None:\n",
    "        x = image.x\n",
    "        y = image.y\n",
    "    else:\n",
    "        assert np.all(x == image.x) and np.all(y == image.y), tif\n",
    "        \n",
    "no_data_value = image._FillValue"
   ],
   "outputs": [],
   "metadata": {}
  },
  {
   "cell_type": "markdown",
   "source": [
    "# Map raster to polygons"
   ],
   "metadata": {}
  },
  {
   "cell_type": "code",
   "execution_count": 5,
   "source": [
    "geo_df = gpd.read_file('../Shapefiles/preprocessed/all_countries_with_eth.shp')"
   ],
   "outputs": [],
   "metadata": {}
  },
  {
   "cell_type": "code",
   "execution_count": 6,
   "source": [
    "n_processes = 30\n",
    "\n",
    "IMAGE = utils.read_tif(read_path / base_file)\n",
    "\n",
    "iterator = partial(utils.yield_missing_shapes, save_path=partial_path, prefix=base_file[:-4])\n",
    "\n",
    "if n_processes == 1:\n",
    "    for row_and_path in tqdm(iterator(geo_df)):\n",
    "        save_location_mapping(row_and_path)\n",
    "else:\n",
    "    with ThreadPoolExecutor(n_processes) as tpe:\n",
    "        for _ in tqdm(\n",
    "            tpe.map(save_location_mapping, iterator(geo_df)), \n",
    "            total=geo_df.shape[0]\n",
    "        ):\n",
    "            pass"
   ],
   "outputs": [
    {
     "output_type": "stream",
     "name": "stderr",
     "text": [
      " 97%|██████████████████████████████▉ | 118888/122772 [12:55:27<25:20,  2.56it/s]\n"
     ]
    }
   ],
   "metadata": {
    "scrolled": true
   }
  },
  {
   "cell_type": "markdown",
   "source": [
    "# Union portions from different files and shapes"
   ],
   "metadata": {}
  },
  {
   "cell_type": "code",
   "execution_count": 7,
   "source": [
    "df_by_region = {}\n",
    "for file in tqdm(partial_path.glob('*.csv'), desc='Reading'):\n",
    "    try:\n",
    "        df = pd.read_csv(file)\n",
    "    except pd.errors.EmptyDataError:\n",
    "        continue\n",
    "        \n",
    "    if 'id' not in df.columns:\n",
    "        df['id'] = df['adm2']\n",
    "        df['id'].fillna(df['adm1'], inplace=True)\n",
    "        df['id'].fillna(df['adm0'], inplace=True)\n",
    "    region = df.loc[0, 'id']\n",
    "    df_by_region.setdefault(region, []).append(df)\n",
    "\n",
    "for region, dfs in tqdm(df_by_region.items(), desc='Saving'):\n",
    "    df = utils.combine_dataframes(dfs)\n",
    "    df.to_feather(by_country_path / f'{region}.feather')\n",
    "    \n",
    "del df_by_region"
   ],
   "outputs": [
    {
     "output_type": "stream",
     "name": "stderr",
     "text": [
      "Reading: 122772it [02:37, 779.54it/s] \n",
      "Saving: 100%|████████████████████████████| 47728/47728 [01:35<00:00, 501.93it/s]\n"
     ]
    }
   ],
   "metadata": {
    "scrolled": true
   }
  },
  {
   "cell_type": "markdown",
   "source": [
    "# Aggregate"
   ],
   "metadata": {}
  },
  {
   "cell_type": "code",
   "execution_count": 8,
   "source": [
    "utils.aggregate_feather_splits_and_save(by_country_path, output_path / base_file, no_data_value=-9999)"
   ],
   "outputs": [
    {
     "output_type": "stream",
     "name": "stderr",
     "text": [
      "Grouping: 100%|██████████████████████████| 47728/47728 [04:50<00:00, 164.58it/s]\n"
     ]
    }
   ],
   "metadata": {}
  },
  {
   "cell_type": "markdown",
   "source": [
    "# Additional files with same raster"
   ],
   "metadata": {}
  },
  {
   "cell_type": "code",
   "execution_count": 9,
   "source": [
    "for file in read_path.glob('*.tif'):\n",
    "    print(file.name)\n",
    "    file_path = output_path / file.name[:-4]\n",
    "    file_path.mkdir(exist_ok=True)\n",
    "\n",
    "    IMAGE = utils.read_tif(file)\n",
    "    increment = raster.get_increment_from_tif(IMAGE)\n",
    "    \n",
    "    for df_path in tqdm(by_country_path.glob('*.feather')):\n",
    "        df = pd.read_feather(df_path)\n",
    "        pol = utils.get_mock_polygon_from_df(df, increment=increment)\n",
    "        subdf = raster.merge_df_to_array_by_lat_lon(df, IMAGE, pol)\n",
    "        if subdf.empty:\n",
    "            print(df_path.name, 'is empty')\n",
    "        else:\n",
    "            subdf.to_feather(file_path / df_path.name)\n",
    "            \n",
    "    utils.aggregate_feather_splits_and_save(file_path, output_path / file.name, no_data_value=-9999)\n",
    "    shutil.rmtree(file_path)"
   ],
   "outputs": [
    {
     "output_type": "stream",
     "name": "stdout",
     "text": [
      "Soy.tif\n"
     ]
    },
    {
     "output_type": "stream",
     "name": "stderr",
     "text": [
      "47728it [08:17, 96.02it/s] \n",
      "Grouping: 100%|██████████████████████████| 47728/47728 [04:40<00:00, 170.06it/s]\n"
     ]
    },
    {
     "output_type": "stream",
     "name": "stdout",
     "text": [
      "Yam.tif\n"
     ]
    },
    {
     "output_type": "stream",
     "name": "stderr",
     "text": [
      "47728it [07:59, 99.54it/s] \n",
      "Grouping: 100%|██████████████████████████| 47728/47728 [04:39<00:00, 170.49it/s]\n"
     ]
    },
    {
     "output_type": "stream",
     "name": "stdout",
     "text": [
      "Tea.tif\n"
     ]
    },
    {
     "output_type": "stream",
     "name": "stderr",
     "text": [
      "47728it [07:48, 101.95it/s]\n",
      "Grouping: 100%|██████████████████████████| 47728/47728 [04:41<00:00, 169.50it/s]\n"
     ]
    },
    {
     "output_type": "stream",
     "name": "stdout",
     "text": [
      "Oat.tif\n"
     ]
    },
    {
     "output_type": "stream",
     "name": "stderr",
     "text": [
      "47728it [07:48, 101.81it/s]\n",
      "Grouping: 100%|██████████████████████████| 47728/47728 [04:36<00:00, 172.81it/s]\n"
     ]
    },
    {
     "output_type": "stream",
     "name": "stdout",
     "text": [
      "Rye.tif\n"
     ]
    },
    {
     "output_type": "stream",
     "name": "stderr",
     "text": [
      "47728it [07:38, 104.15it/s]\n",
      "Grouping: 100%|██████████████████████████| 47728/47728 [04:39<00:00, 170.62it/s]\n"
     ]
    },
    {
     "output_type": "stream",
     "name": "stdout",
     "text": [
      "Flax.tif\n"
     ]
    },
    {
     "output_type": "stream",
     "name": "stderr",
     "text": [
      "47728it [08:22, 94.96it/s] \n",
      "Grouping: 100%|██████████████████████████| 47728/47728 [04:34<00:00, 173.98it/s]\n"
     ]
    },
    {
     "output_type": "stream",
     "name": "stdout",
     "text": [
      "Gram.tif\n"
     ]
    },
    {
     "output_type": "stream",
     "name": "stderr",
     "text": [
      "47728it [08:11, 97.18it/s] \n",
      "Grouping: 100%|██████████████████████████| 47728/47728 [04:56<00:00, 161.00it/s]\n"
     ]
    },
    {
     "output_type": "stream",
     "name": "stdout",
     "text": [
      "Olive.tif\n"
     ]
    },
    {
     "output_type": "stream",
     "name": "stderr",
     "text": [
      "47728it [08:10, 97.28it/s] \n",
      "Grouping: 100%|██████████████████████████| 47728/47728 [04:54<00:00, 161.89it/s]\n"
     ]
    },
    {
     "output_type": "stream",
     "name": "stdout",
     "text": [
      "Cocoa.tif\n"
     ]
    },
    {
     "output_type": "stream",
     "name": "stderr",
     "text": [
      "47728it [07:44, 102.81it/s]\n",
      "Grouping: 100%|██████████████████████████| 47728/47728 [04:35<00:00, 173.53it/s]\n"
     ]
    },
    {
     "output_type": "stream",
     "name": "stdout",
     "text": [
      "Wheat.tif\n"
     ]
    },
    {
     "output_type": "stream",
     "name": "stderr",
     "text": [
      "47728it [08:16, 96.06it/s] \n",
      "Grouping: 100%|██████████████████████████| 47728/47728 [04:43<00:00, 168.42it/s]\n"
     ]
    },
    {
     "output_type": "stream",
     "name": "stdout",
     "text": [
      "Onion.tif\n"
     ]
    },
    {
     "output_type": "stream",
     "name": "stderr",
     "text": [
      "47728it [08:08, 97.67it/s] \n",
      "Grouping: 100%|██████████████████████████| 47728/47728 [04:49<00:00, 164.78it/s]\n"
     ]
    },
    {
     "output_type": "stream",
     "name": "stdout",
     "text": [
      "Maize.tif\n"
     ]
    },
    {
     "output_type": "stream",
     "name": "stderr",
     "text": [
      "47728it [07:37, 104.28it/s]\n",
      "Grouping: 100%|██████████████████████████| 47728/47728 [04:57<00:00, 160.35it/s]\n"
     ]
    },
    {
     "output_type": "stream",
     "name": "stdout",
     "text": [
      "Grass.tif\n"
     ]
    },
    {
     "output_type": "stream",
     "name": "stderr",
     "text": [
      "47728it [08:14, 96.56it/s] \n",
      "Grouping: 100%|██████████████████████████| 47728/47728 [04:28<00:00, 177.97it/s]\n"
     ]
    },
    {
     "output_type": "stream",
     "name": "stdout",
     "text": [
      "Millet.tif\n"
     ]
    },
    {
     "output_type": "stream",
     "name": "stderr",
     "text": [
      "47728it [08:09, 97.57it/s] \n",
      "Grouping: 100%|██████████████████████████| 47728/47728 [04:32<00:00, 175.04it/s]\n"
     ]
    },
    {
     "output_type": "stream",
     "name": "stdout",
     "text": [
      "Carrot.tif\n"
     ]
    },
    {
     "output_type": "stream",
     "name": "stderr",
     "text": [
      "47728it [07:19, 108.48it/s]\n",
      "Grouping: 100%|██████████████████████████| 47728/47728 [04:34<00:00, 173.70it/s]\n"
     ]
    },
    {
     "output_type": "stream",
     "name": "stdout",
     "text": [
      "Coffee.tif\n"
     ]
    },
    {
     "output_type": "stream",
     "name": "stderr",
     "text": [
      "47728it [07:38, 104.05it/s]\n",
      "Grouping: 100%|██████████████████████████| 47728/47728 [04:27<00:00, 178.40it/s]\n"
     ]
    },
    {
     "output_type": "stream",
     "name": "stdout",
     "text": [
      "Citrus.tif\n"
     ]
    },
    {
     "output_type": "stream",
     "name": "stderr",
     "text": [
      "47728it [07:50, 101.52it/s]\n",
      "Grouping: 100%|██████████████████████████| 47728/47728 [04:48<00:00, 165.59it/s]\n"
     ]
    },
    {
     "output_type": "stream",
     "name": "stdout",
     "text": [
      "Cotton.tif\n"
     ]
    },
    {
     "output_type": "stream",
     "name": "stderr",
     "text": [
      "47728it [08:18, 95.71it/s] \n",
      "Grouping: 100%|██████████████████████████| 47728/47728 [05:01<00:00, 158.41it/s]\n"
     ]
    },
    {
     "output_type": "stream",
     "name": "stdout",
     "text": [
      "Banana.tif\n"
     ]
    },
    {
     "output_type": "stream",
     "name": "stderr",
     "text": [
      "47728it [08:18, 95.65it/s] \n",
      "Grouping: 100%|██████████████████████████| 47728/47728 [04:46<00:00, 166.67it/s]\n"
     ]
    },
    {
     "output_type": "stream",
     "name": "stdout",
     "text": [
      "Tomato.tif\n"
     ]
    },
    {
     "output_type": "stream",
     "name": "stderr",
     "text": [
      "47728it [08:01, 99.04it/s] \n",
      "Grouping: 100%|██████████████████████████| 47728/47728 [04:45<00:00, 166.99it/s]\n"
     ]
    },
    {
     "output_type": "stream",
     "name": "stdout",
     "text": [
      "Cowpea.tif\n"
     ]
    },
    {
     "output_type": "stream",
     "name": "stderr",
     "text": [
      "47728it [08:13, 96.62it/s] \n",
      "Grouping: 100%|██████████████████████████| 47728/47728 [04:42<00:00, 169.07it/s]\n"
     ]
    },
    {
     "output_type": "stream",
     "name": "stdout",
     "text": [
      "Barley.tif\n"
     ]
    },
    {
     "output_type": "stream",
     "name": "stderr",
     "text": [
      "47728it [08:02, 98.86it/s] \n",
      "Grouping: 100%|██████████████████████████| 47728/47728 [04:54<00:00, 161.92it/s]\n"
     ]
    },
    {
     "output_type": "stream",
     "name": "stdout",
     "text": [
      "Dry_Pea.tif\n"
     ]
    },
    {
     "output_type": "stream",
     "name": "stderr",
     "text": [
      "47728it [08:28, 93.93it/s]\n",
      "Grouping: 100%|██████████████████████████| 47728/47728 [05:12<00:00, 152.85it/s]\n"
     ]
    },
    {
     "output_type": "stream",
     "name": "stdout",
     "text": [
      "Cabbage.tif\n"
     ]
    },
    {
     "output_type": "stream",
     "name": "stderr",
     "text": [
      "47728it [08:15, 96.32it/s] \n",
      "Grouping: 100%|██████████████████████████| 47728/47728 [04:44<00:00, 167.61it/s]\n"
     ]
    },
    {
     "output_type": "stream",
     "name": "stdout",
     "text": [
      "T_Maize.tif\n"
     ]
    },
    {
     "output_type": "stream",
     "name": "stderr",
     "text": [
      "47728it [07:41, 103.38it/s]\n",
      "Grouping: 100%|██████████████████████████| 47728/47728 [04:45<00:00, 167.13it/s]\n"
     ]
    },
    {
     "output_type": "stream",
     "name": "stdout",
     "text": [
      "Alfalfa.tif\n"
     ]
    },
    {
     "output_type": "stream",
     "name": "stderr",
     "text": [
      "47728it [07:48, 101.80it/s]\n",
      "Grouping: 100%|██████████████████████████| 47728/47728 [04:38<00:00, 171.27it/s]\n"
     ]
    },
    {
     "output_type": "stream",
     "name": "stdout",
     "text": [
      "Coconut.tif\n"
     ]
    },
    {
     "output_type": "stream",
     "name": "stderr",
     "text": [
      "47728it [07:43, 103.04it/s]\n",
      "Grouping: 100%|██████████████████████████| 47728/47728 [04:28<00:00, 177.43it/s]\n"
     ]
    },
    {
     "output_type": "stream",
     "name": "stdout",
     "text": [
      "L_Maize.tif\n"
     ]
    },
    {
     "output_type": "stream",
     "name": "stderr",
     "text": [
      "47728it [08:11, 97.15it/s] \n",
      "Grouping: 100%|██████████████████████████| 47728/47728 [04:37<00:00, 171.86it/s]\n"
     ]
    },
    {
     "output_type": "stream",
     "name": "stdout",
     "text": [
      "Cocoyam.tif\n"
     ]
    },
    {
     "output_type": "stream",
     "name": "stderr",
     "text": [
      "47728it [08:10, 97.35it/s] \n",
      "Grouping: 100%|██████████████████████████| 47728/47728 [04:39<00:00, 170.93it/s]\n"
     ]
    },
    {
     "output_type": "stream",
     "name": "stdout",
     "text": [
      "Cassava.tif\n"
     ]
    },
    {
     "output_type": "stream",
     "name": "stderr",
     "text": [
      "47728it [08:25, 94.36it/s] \n",
      "Grouping: 100%|██████████████████████████| 47728/47728 [05:29<00:00, 145.00it/s]\n"
     ]
    },
    {
     "output_type": "stream",
     "name": "stdout",
     "text": [
      "Tobacco.tif\n"
     ]
    },
    {
     "output_type": "stream",
     "name": "stderr",
     "text": [
      "47728it [08:40, 91.73it/s]\n",
      "Grouping: 100%|██████████████████████████| 47728/47728 [05:23<00:00, 147.56it/s]\n"
     ]
    },
    {
     "output_type": "stream",
     "name": "stdout",
     "text": [
      "Sorghum.tif\n"
     ]
    },
    {
     "output_type": "stream",
     "name": "stderr",
     "text": [
      "47728it [08:37, 92.14it/s]\n",
      "Grouping: 100%|██████████████████████████| 47728/47728 [05:25<00:00, 146.79it/s]\n"
     ]
    },
    {
     "output_type": "stream",
     "name": "stdout",
     "text": [
      "H_Maize.tif\n"
     ]
    },
    {
     "output_type": "stream",
     "name": "stderr",
     "text": [
      "47728it [08:36, 92.48it/s]\n",
      "Grouping: 100%|██████████████████████████| 47728/47728 [05:26<00:00, 146.05it/s]\n"
     ]
    },
    {
     "output_type": "stream",
     "name": "stdout",
     "text": [
      "Jatropha.tif\n"
     ]
    },
    {
     "output_type": "stream",
     "name": "stderr",
     "text": [
      "47728it [08:42, 91.42it/s]\n",
      "Grouping: 100%|██████████████████████████| 47728/47728 [05:23<00:00, 147.33it/s]\n"
     ]
    },
    {
     "output_type": "stream",
     "name": "stdout",
     "text": [
      "Chickpea.tif\n"
     ]
    },
    {
     "output_type": "stream",
     "name": "stderr",
     "text": [
      "47728it [08:42, 91.29it/s]\n",
      "Grouping: 100%|██████████████████████████| 47728/47728 [05:26<00:00, 146.10it/s]\n"
     ]
    },
    {
     "output_type": "stream",
     "name": "stdout",
     "text": [
      "Dry_Rice.tif\n"
     ]
    },
    {
     "output_type": "stream",
     "name": "stderr",
     "text": [
      "47728it [08:43, 91.24it/s]\n",
      "Grouping: 100%|██████████████████████████| 47728/47728 [05:25<00:00, 146.60it/s]\n"
     ]
    },
    {
     "output_type": "stream",
     "name": "stdout",
     "text": [
      "Rapeseed.tif\n"
     ]
    },
    {
     "output_type": "stream",
     "name": "stderr",
     "text": [
      "47728it [08:38, 92.10it/s]\n",
      "Grouping: 100%|██████████████████████████| 47728/47728 [05:25<00:00, 146.59it/s]\n"
     ]
    },
    {
     "output_type": "stream",
     "name": "stdout",
     "text": [
      "Oil_Palm.tif\n"
     ]
    },
    {
     "output_type": "stream",
     "name": "stderr",
     "text": [
      "47728it [08:27, 94.07it/s] \n",
      "Grouping: 100%|██████████████████████████| 47728/47728 [04:55<00:00, 161.63it/s]\n"
     ]
    },
    {
     "output_type": "stream",
     "name": "stdout",
     "text": [
      "Wet_Rice.tif\n"
     ]
    },
    {
     "output_type": "stream",
     "name": "stderr",
     "text": [
      "47728it [08:29, 93.75it/s]\n",
      "Grouping: 100%|██████████████████████████| 47728/47728 [04:46<00:00, 166.82it/s]\n"
     ]
    },
    {
     "output_type": "stream",
     "name": "stdout",
     "text": [
      "Sunflower.tif\n"
     ]
    },
    {
     "output_type": "stream",
     "name": "stderr",
     "text": [
      "47728it [08:27, 94.13it/s] \n",
      "Grouping: 100%|██████████████████████████| 47728/47728 [04:48<00:00, 165.72it/s]\n"
     ]
    },
    {
     "output_type": "stream",
     "name": "stdout",
     "text": [
      "B_Sorghum.tif\n"
     ]
    },
    {
     "output_type": "stream",
     "name": "stderr",
     "text": [
      "47728it [07:50, 101.43it/s]\n",
      "Grouping: 100%|██████████████████████████| 47728/47728 [05:00<00:00, 159.02it/s]\n"
     ]
    },
    {
     "output_type": "stream",
     "name": "stdout",
     "text": [
      "T_Sorghum.tif\n"
     ]
    },
    {
     "output_type": "stream",
     "name": "stderr",
     "text": [
      "47728it [08:19, 95.48it/s] \n",
      "Grouping: 100%|██████████████████████████| 47728/47728 [04:51<00:00, 163.51it/s]\n"
     ]
    },
    {
     "output_type": "stream",
     "name": "stdout",
     "text": [
      "Buckwheat.tif\n"
     ]
    },
    {
     "output_type": "stream",
     "name": "stderr",
     "text": [
      "47728it [07:40, 103.62it/s]\n",
      "Grouping: 100%|██████████████████████████| 47728/47728 [04:40<00:00, 170.41it/s]\n"
     ]
    },
    {
     "output_type": "stream",
     "name": "stdout",
     "text": [
      "L_Sorghum.tif\n"
     ]
    },
    {
     "output_type": "stream",
     "name": "stderr",
     "text": [
      "47728it [08:18, 95.70it/s] \n",
      "Grouping: 100%|██████████████████████████| 47728/47728 [04:52<00:00, 163.42it/s]\n"
     ]
    },
    {
     "output_type": "stream",
     "name": "stdout",
     "text": [
      "White_Yam.tif\n"
     ]
    },
    {
     "output_type": "stream",
     "name": "stderr",
     "text": [
      "47728it [07:53, 100.78it/s]\n",
      "Grouping: 100%|██████████████████████████| 47728/47728 [04:53<00:00, 162.78it/s]\n"
     ]
    },
    {
     "output_type": "stream",
     "name": "stdout",
     "text": [
      "H_Sorghum.tif\n"
     ]
    },
    {
     "output_type": "stream",
     "name": "stderr",
     "text": [
      "47728it [08:21, 95.09it/s] \n",
      "Grouping: 100%|██████████████████████████| 47728/47728 [05:14<00:00, 151.94it/s]\n"
     ]
    },
    {
     "output_type": "stream",
     "name": "stdout",
     "text": [
      "Sugarcane.tif\n"
     ]
    },
    {
     "output_type": "stream",
     "name": "stderr",
     "text": [
      "47728it [08:21, 95.25it/s] \n",
      "Grouping: 100%|██████████████████████████| 47728/47728 [05:18<00:00, 149.78it/s]\n"
     ]
    },
    {
     "output_type": "stream",
     "name": "stdout",
     "text": [
      "Sugarbeet.tif\n"
     ]
    },
    {
     "output_type": "stream",
     "name": "stderr",
     "text": [
      "47728it [08:33, 93.03it/s] \n",
      "Grouping: 100%|██████████████████████████| 47728/47728 [05:27<00:00, 145.66it/s]\n"
     ]
    },
    {
     "output_type": "stream",
     "name": "stdout",
     "text": [
      "Pigeonpea.tif\n"
     ]
    },
    {
     "output_type": "stream",
     "name": "stderr",
     "text": [
      "47728it [08:40, 91.64it/s]\n",
      "Grouping: 100%|██████████████████████████| 47728/47728 [05:23<00:00, 147.70it/s]\n"
     ]
    },
    {
     "output_type": "stream",
     "name": "stdout",
     "text": [
      "Spring_Rye.tif\n"
     ]
    },
    {
     "output_type": "stream",
     "name": "stderr",
     "text": [
      "47728it [08:39, 91.89it/s]\n",
      "Grouping: 100%|██████████████████████████| 47728/47728 [05:26<00:00, 146.12it/s]\n"
     ]
    },
    {
     "output_type": "stream",
     "name": "stdout",
     "text": [
      "Miscanthus.tif\n"
     ]
    },
    {
     "output_type": "stream",
     "name": "stderr",
     "text": [
      "47728it [08:35, 92.52it/s] \n",
      "Grouping: 100%|██████████████████████████| 47728/47728 [05:25<00:00, 146.85it/s]\n"
     ]
    },
    {
     "output_type": "stream",
     "name": "stdout",
     "text": [
      "BL_Sorghum.tif\n"
     ]
    },
    {
     "output_type": "stream",
     "name": "stderr",
     "text": [
      "47728it [08:37, 92.15it/s]\n",
      "Grouping: 100%|██████████████████████████| 47728/47728 [05:25<00:00, 146.59it/s]\n"
     ]
    },
    {
     "output_type": "stream",
     "name": "stdout",
     "text": [
      "Winter_Rye.tif\n"
     ]
    },
    {
     "output_type": "stream",
     "name": "stderr",
     "text": [
      "47728it [08:39, 91.80it/s] \n",
      "Grouping: 100%|██████████████████████████| 47728/47728 [05:23<00:00, 147.67it/s]\n"
     ]
    },
    {
     "output_type": "stream",
     "name": "stdout",
     "text": [
      "Yellow_Yam.tif\n"
     ]
    },
    {
     "output_type": "stream",
     "name": "stderr",
     "text": [
      "47728it [08:37, 92.27it/s] \n",
      "Grouping: 100%|██████████████████████████| 47728/47728 [05:25<00:00, 146.84it/s]\n"
     ]
    },
    {
     "output_type": "stream",
     "name": "stdout",
     "text": [
      "BH_Sorghum.tif\n"
     ]
    },
    {
     "output_type": "stream",
     "name": "stderr",
     "text": [
      "47728it [08:36, 92.37it/s] \n",
      "Grouping: 100%|██████████████████████████| 47728/47728 [05:21<00:00, 148.27it/s]\n"
     ]
    },
    {
     "output_type": "stream",
     "name": "stdout",
     "text": [
      "Ground_Nut.tif\n"
     ]
    },
    {
     "output_type": "stream",
     "name": "stderr",
     "text": [
      "47728it [08:29, 93.76it/s] \n",
      "Grouping: 100%|██████████████████████████| 47728/47728 [05:20<00:00, 148.77it/s]\n"
     ]
    },
    {
     "output_type": "stream",
     "name": "stdout",
     "text": [
      "BT_Sorghum.tif\n"
     ]
    },
    {
     "output_type": "stream",
     "name": "stderr",
     "text": [
      "47728it [08:28, 93.90it/s]\n",
      "Grouping: 100%|██████████████████████████| 47728/47728 [05:20<00:00, 149.02it/s]\n"
     ]
    },
    {
     "output_type": "stream",
     "name": "stdout",
     "text": [
      "Greater_Yam.tif\n"
     ]
    },
    {
     "output_type": "stream",
     "name": "stderr",
     "text": [
      "47728it [08:27, 94.09it/s] \n",
      "Grouping: 100%|██████████████████████████| 47728/47728 [05:19<00:00, 149.32it/s]\n"
     ]
    },
    {
     "output_type": "stream",
     "name": "stdout",
     "text": [
      "Switchgrass.tif\n"
     ]
    },
    {
     "output_type": "stream",
     "name": "stderr",
     "text": [
      "47728it [08:22, 94.98it/s] \n",
      "Grouping: 100%|██████████████████████████| 47728/47728 [05:28<00:00, 145.33it/s]\n"
     ]
    },
    {
     "output_type": "stream",
     "name": "stdout",
     "text": [
      "Pearl_Millet.tif\n"
     ]
    },
    {
     "output_type": "stream",
     "name": "stderr",
     "text": [
      "47728it [08:34, 92.79it/s]\n",
      "Grouping: 100%|██████████████████████████| 47728/47728 [05:19<00:00, 149.52it/s]\n"
     ]
    },
    {
     "output_type": "stream",
     "name": "stdout",
     "text": [
      "Silage_Maize.tif\n"
     ]
    },
    {
     "output_type": "stream",
     "name": "stderr",
     "text": [
      "47728it [08:27, 94.01it/s]\n",
      "Grouping: 100%|██████████████████████████| 47728/47728 [05:19<00:00, 149.40it/s]\n"
     ]
    },
    {
     "output_type": "stream",
     "name": "stdout",
     "text": [
      "Sweet_Potato.tif\n"
     ]
    },
    {
     "output_type": "stream",
     "name": "stderr",
     "text": [
      "47728it [08:27, 94.07it/s] \n",
      "Grouping: 100%|██████████████████████████| 47728/47728 [05:18<00:00, 149.67it/s]\n"
     ]
    },
    {
     "output_type": "stream",
     "name": "stdout",
     "text": [
      "White_Potato.tif\n"
     ]
    },
    {
     "output_type": "stream",
     "name": "stderr",
     "text": [
      "47728it [08:25, 94.33it/s] \n",
      "Grouping: 100%|██████████████████████████| 47728/47728 [05:17<00:00, 150.18it/s]\n"
     ]
    },
    {
     "output_type": "stream",
     "name": "stdout",
     "text": [
      "Winter_Wheat.tif\n"
     ]
    },
    {
     "output_type": "stream",
     "name": "stderr",
     "text": [
      "47728it [08:26, 94.27it/s] \n",
      "Grouping: 100%|██████████████████████████| 47728/47728 [05:17<00:00, 150.53it/s]\n"
     ]
    },
    {
     "output_type": "stream",
     "name": "stdout",
     "text": [
      "Cocoa_Cumoun.tif\n"
     ]
    },
    {
     "output_type": "stream",
     "name": "stderr",
     "text": [
      "47728it [08:20, 95.44it/s] \n",
      "Grouping: 100%|██████████████████████████| 47728/47728 [05:15<00:00, 151.17it/s]\n"
     ]
    },
    {
     "output_type": "stream",
     "name": "stdout",
     "text": [
      "Cocoa_Hybrid.tif\n"
     ]
    },
    {
     "output_type": "stream",
     "name": "stderr",
     "text": [
      "47728it [08:19, 95.57it/s] \n",
      "Grouping: 100%|██████████████████████████| 47728/47728 [05:17<00:00, 150.49it/s]\n"
     ]
    },
    {
     "output_type": "stream",
     "name": "stdout",
     "text": [
      "Spring_Wheat.tif\n"
     ]
    },
    {
     "output_type": "stream",
     "name": "stderr",
     "text": [
      "47728it [08:24, 94.52it/s]\n",
      "Grouping: 100%|██████████████████████████| 47728/47728 [05:16<00:00, 150.75it/s]\n"
     ]
    },
    {
     "output_type": "stream",
     "name": "stdout",
     "text": [
      "Spring_Barley.tif\n"
     ]
    },
    {
     "output_type": "stream",
     "name": "stderr",
     "text": [
      "47728it [08:24, 94.62it/s] \n",
      "Grouping: 100%|██████████████████████████| 47728/47728 [05:16<00:00, 150.79it/s]\n"
     ]
    },
    {
     "output_type": "stream",
     "name": "stdout",
     "text": [
      "Winter_Barley.tif\n"
     ]
    },
    {
     "output_type": "stream",
     "name": "stderr",
     "text": [
      "47728it [08:23, 94.74it/s]\n",
      "Grouping: 100%|██████████████████████████| 47728/47728 [05:16<00:00, 150.70it/s]\n"
     ]
    },
    {
     "output_type": "stream",
     "name": "stdout",
     "text": [
      "Phaseolus_Bean.tif\n"
     ]
    },
    {
     "output_type": "stream",
     "name": "stderr",
     "text": [
      "47728it [08:22, 95.05it/s] \n",
      "Grouping: 100%|██████████████████████████| 47728/47728 [05:15<00:00, 151.14it/s]\n"
     ]
    },
    {
     "output_type": "stream",
     "name": "stdout",
     "text": [
      "Coffee_Robusta.tif\n"
     ]
    },
    {
     "output_type": "stream",
     "name": "stderr",
     "text": [
      "47728it [08:23, 94.77it/s] \n",
      "Grouping: 100%|██████████████████████████| 47728/47728 [05:16<00:00, 150.88it/s]\n"
     ]
    },
    {
     "output_type": "stream",
     "name": "stdout",
     "text": [
      "Foxtail_Millet.tif\n"
     ]
    },
    {
     "output_type": "stream",
     "name": "stderr",
     "text": [
      "47728it [08:22, 94.90it/s] \n",
      "Grouping: 100%|██████████████████████████| 47728/47728 [05:15<00:00, 151.36it/s]\n"
     ]
    },
    {
     "output_type": "stream",
     "name": "stdout",
     "text": [
      "Coffee_Arabica.tif\n"
     ]
    },
    {
     "output_type": "stream",
     "name": "stderr",
     "text": [
      "47728it [08:23, 94.77it/s]\n",
      "Grouping: 100%|██████████████████████████| 47728/47728 [05:16<00:00, 150.90it/s]\n"
     ]
    },
    {
     "output_type": "stream",
     "name": "stdout",
     "text": [
      "Pasture_Legumes.tif\n"
     ]
    },
    {
     "output_type": "stream",
     "name": "stderr",
     "text": [
      "47728it [08:22, 95.03it/s] \n",
      "Grouping: 100%|██████████████████████████| 47728/47728 [05:16<00:00, 150.93it/s]\n"
     ]
    },
    {
     "output_type": "stream",
     "name": "stdout",
     "text": [
      "Reed_Canary_Grass.tif\n"
     ]
    },
    {
     "output_type": "stream",
     "name": "stderr",
     "text": [
      "47728it [08:23, 94.85it/s] \n",
      "Grouping: 100%|██████████████████████████| 47728/47728 [05:19<00:00, 149.20it/s]\n"
     ]
    },
    {
     "output_type": "stream",
     "name": "stdout",
     "text": [
      "Para_Rubber_highInput.tif\n"
     ]
    },
    {
     "output_type": "stream",
     "name": "stderr",
     "text": [
      "47728it [08:23, 94.79it/s] \n",
      "Grouping: 100%|██████████████████████████| 47728/47728 [05:18<00:00, 149.69it/s]\n"
     ]
    },
    {
     "output_type": "stream",
     "name": "stdout",
     "text": [
      "Napier_Grass_highInput.tif\n"
     ]
    },
    {
     "output_type": "stream",
     "name": "stderr",
     "text": [
      "47728it [08:25, 94.47it/s]\n",
      "Grouping: 100%|██████████████████████████| 47728/47728 [05:19<00:00, 149.36it/s]\n"
     ]
    }
   ],
   "metadata": {}
  },
  {
   "cell_type": "code",
   "execution_count": 10,
   "source": [
    "for file in read_path.glob('*.tif'):\n",
    "    file_path = output_path / file.name[:-4]\n",
    "    shutil.rmtree(file_path)"
   ],
   "outputs": [],
   "metadata": {}
  }
 ],
 "metadata": {
  "kernelspec": {
   "display_name": "Python 3 (ipykernel)",
   "language": "python",
   "name": "python3"
  },
  "language_info": {
   "codemirror_mode": {
    "name": "ipython",
    "version": 3
   },
   "file_extension": ".py",
   "mimetype": "text/x-python",
   "name": "python",
   "nbconvert_exporter": "python",
   "pygments_lexer": "ipython3",
   "version": "3.8.10"
  }
 },
 "nbformat": 4,
 "nbformat_minor": 4
}