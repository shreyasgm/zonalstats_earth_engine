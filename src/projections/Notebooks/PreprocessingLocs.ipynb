{
 "cells": [
  {
   "cell_type": "code",
   "execution_count": null,
   "source": [
    "from shapely.geometry import shape, mapping\n",
    "import shapefile\n",
    "import fiona\n",
    "import yaml\n",
    "import geopandas as gpd\n",
    "from tqdm import tqdm\n",
    "\n",
    "import os\n",
    "import sys\n",
    "module_path = os.path.abspath(os.path.join('..'))\n",
    "if module_path not in sys.path:\n",
    "    sys.path.append(module_path)\n",
    "\n",
    "from projections import raster"
   ],
   "outputs": [],
   "metadata": {}
  },
  {
   "cell_type": "markdown",
   "source": [
    "# v1"
   ],
   "metadata": {}
  },
  {
   "cell_type": "code",
   "execution_count": 2,
   "source": [
    "shps = ['../Shapefiles/GADM/gadm36_0.shp', '../Shapefiles/GADM/gadm36_1.shp', '../Shapefiles/GADM/gadm36_2.shp']"
   ],
   "outputs": [],
   "metadata": {}
  },
  {
   "cell_type": "code",
   "execution_count": 2,
   "source": [
    "def get_shape_tuple(shape_record_tuple, i):\n",
    "    shape, record = shape_record_tuple\n",
    "    country = record[0]\n",
    "\n",
    "    adm1, adm2 = None, None\n",
    "    if i >= 1:\n",
    "        adm1 = record[2]\n",
    "    if i == 2:\n",
    "        adm2 = record[5]\n",
    "        \n",
    "    return (shape, country, adm1, adm2)\n",
    "\n",
    "with open('../Data/Countries_edited.yml') as f:\n",
    "    countries = yaml.safe_load(f)\n",
    "\n",
    "codes = {}\n",
    "for country in countries:\n",
    "    for code in country['codes']:\n",
    "        if code in codes:\n",
    "            codes[code].update(country['codes'])\n",
    "        else:\n",
    "            codes[code] = set(country['codes'])\n",
    "\n",
    "shapes_by_country = {}\n",
    "for i, shp in enumerate(shps):\n",
    "    shp = shapefile.Reader(shp)\n",
    "    shapes = shp.shapes()\n",
    "    records = shp.records()\n",
    "\n",
    "    round_shapes_by_country = {}\n",
    "    for shape, record in tqdm(zip(shapes, records), total=len(shapes), desc=str(i)):\n",
    "        r = get_shape_tuple((shape, record), i)\n",
    "        country = r[1]\n",
    "        \n",
    "        for code in codes.get(country, [country]):\n",
    "            if code not in round_shapes_by_country:\n",
    "                round_shapes_by_country[code] = [r]\n",
    "            else:\n",
    "                round_shapes_by_country[code].append(r)\n",
    "    shapes_by_country.update(round_shapes_by_country)\n",
    "    del (shapes, records, shp)\n",
    "    \n",
    "assert 'GT' in shapes_by_country and 'PM' in shapes_by_country"
   ],
   "outputs": [
    {
     "output_type": "stream",
     "name": "stderr",
     "text": [
      "0: 100%|██████████| 256/256 [00:00<00:00, 228309.98it/s]\n",
      "1: 100%|██████████| 3610/3610 [00:00<00:00, 4120.06it/s]\n",
      "2: 100%|██████████| 45962/45962 [00:00<00:00, 359162.36it/s]\n"
     ]
    }
   ],
   "metadata": {}
  },
  {
   "cell_type": "code",
   "execution_count": 3,
   "source": [
    "names = []\n",
    "records = []\n",
    "\n",
    "for name, record in shapes_by_country.items():\n",
    "    try:\n",
    "        idx = records.index(record)\n",
    "    except ValueError:\n",
    "        names.append([name])\n",
    "        records.append(record)\n",
    "    else:\n",
    "        names[idx].append(name)\n",
    "        \n",
    "print(len(records))"
   ],
   "outputs": [
    {
     "output_type": "stream",
     "name": "stdout",
     "text": [
      "276\n"
     ]
    }
   ],
   "metadata": {}
  },
  {
   "cell_type": "code",
   "execution_count": 4,
   "source": [
    "schema = {\n",
    "    'geometry': 'Polygon',\n",
    "    'properties': {'adm0': 'str', 'adm1': 'str', 'adm2': 'str'},\n",
    "}\n",
    "\n",
    "for name, record in tqdm(zip(names, records), total=len(names)):\n",
    "    # Write a new Shapefile\n",
    "    with fiona.open('../Shapefiles/preprocessed/' + '_'.join(name) + '.shp', 'w', 'ESRI Shapefile', schema) as c:\n",
    "        for sh, adm0, adm1, adm2 in record:\n",
    "            c.write({\n",
    "                'geometry': mapping(sh),\n",
    "                'properties': {'adm0': adm0, 'adm1': adm1, 'adm2': adm2},\n",
    "            })"
   ],
   "outputs": [
    {
     "output_type": "stream",
     "name": "stderr",
     "text": [
      "100%|██████████| 276/276 [06:36<00:00,  1.44s/it]\n"
     ]
    }
   ],
   "metadata": {}
  },
  {
   "cell_type": "markdown",
   "source": [
    "# GeoPandas (SHP) version"
   ],
   "metadata": {}
  },
  {
   "cell_type": "code",
   "execution_count": null,
   "source": [
    "# Also save a shp version\n",
    "adms = [gpd.read_file(shp) for shp in tqdm(shps, desc='reading shps')]\n",
    "\n",
    "complete = adms[-1]\n",
    "for adm in tqdm(reversed(adms[:-1]), desc='finding shapes'):\n",
    "    new_gid = set(adm['GID_0']).difference(complete['GID_0'])\n",
    "    missing_gid = adm[adm['GID_0'].apply(lambda x: x in new_gid)]\n",
    "    if not missing_gid.empty:\n",
    "        complete = complete.append(missing_gid)\n",
    "    \n",
    "print(complete.shape)\n",
    "\n",
    "# Split big shapes\n",
    "complete['portion'] = None\n",
    "new_rows = []\n",
    "for idx, row in tqdm(complete.copy().iterrows(), total=complete.shape[0], desc='Splitting'):\n",
    "    area = raster.get_bounding_box_area(row['geometry'])\n",
    "    if area > 10:\n",
    "        cutted_geometry = raster.quadrat_cut_geometry(row['geometry'], quadrat_width=1)\n",
    "        for i, geometry in enumerate(cutted_geometry):\n",
    "            new_row = row.copy()\n",
    "            new_row['geometry'] = geometry\n",
    "            new_row['portion'] = i\n",
    "            new_rows.append(new_row)\n",
    "        complete.drop(index=idx, inplace=True)\n",
    "        \n",
    "if new_rows:\n",
    "    complete = complete.append(new_rows)\n",
    "    \n",
    "print(complete.shape)\n",
    "print(complete['portion'].max())\n",
    "\n",
    "complete.to_file(\"../Shapefiles/preprocessed/all_countries.shp\")"
   ],
   "outputs": [
    {
     "output_type": "stream",
     "name": "stderr",
     "text": [
      "reading shps: 100%|██████████| 3/3 [01:11<00:00, 23.93s/it]\n",
      "finding shapes: 2it [00:00, 11.35it/s]\n",
      "Splitting:   0%|          | 0/46782 [00:00<?, ?it/s]"
     ]
    },
    {
     "output_type": "stream",
     "name": "stdout",
     "text": [
      "(46782, 19)\n"
     ]
    },
    {
     "output_type": "stream",
     "name": "stderr",
     "text": [
      "Splitting: 100%|██████████| 46782/46782 [33:51<00:00, 23.03it/s]  \n"
     ]
    }
   ],
   "metadata": {
    "scrolled": true
   }
  },
  {
   "cell_type": "code",
   "execution_count": null,
   "source": [
    "print(complete.shape)\n",
    "print(complete['portion'].max())"
   ],
   "outputs": [],
   "metadata": {}
  },
  {
   "cell_type": "markdown",
   "source": [
    "# With ethnicity"
   ],
   "metadata": {}
  },
  {
   "cell_type": "code",
   "execution_count": 2,
   "source": [
    "adm = gpd.read_file(\"../Shapefiles/preprocessed/all_countries.shp\")\n",
    "ethnic = gpd.read_file('../Shapefiles/ethnic_preprocessed/tribe_adm0_s.shp')\n",
    "\n",
    "adm['id'] = adm['GID_2']\n",
    "adm['id'].fillna(adm['GID_1'], inplace=True)\n",
    "adm['id'].fillna(adm['GID_0'], inplace=True)\n",
    "\n",
    "ethnic['id'] = ethnic['GID_0'] + '__' + ethnic['NAME']\n",
    "\n",
    "columns = ['id', 'GID_0', 'portion', 'geometry']\n",
    "all_geo = ethnic[columns].append(adm[columns])\n",
    "all_geo.to_file(\"../Shapefiles/preprocessed/all_countries_with_eth.shp\")"
   ],
   "outputs": [],
   "metadata": {}
  },
  {
   "cell_type": "code",
   "execution_count": null,
   "source": [],
   "outputs": [],
   "metadata": {}
  }
 ],
 "metadata": {
  "kernelspec": {
   "display_name": "Python 3 (ipykernel)",
   "language": "python",
   "name": "python3"
  },
  "language_info": {
   "codemirror_mode": {
    "name": "ipython",
    "version": 3
   },
   "file_extension": ".py",
   "mimetype": "text/x-python",
   "name": "python",
   "nbconvert_exporter": "python",
   "pygments_lexer": "ipython3",
   "version": "3.8.10"
  }
 },
 "nbformat": 4,
 "nbformat_minor": 4
}