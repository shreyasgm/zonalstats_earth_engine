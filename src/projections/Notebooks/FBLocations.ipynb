{
 "cells": [
  {
   "cell_type": "code",
   "execution_count": 9,
   "metadata": {},
   "outputs": [],
   "source": [
    "import pandas as pd\n",
    "import numpy as np\n",
    "import yaml\n",
    "\n",
    "from glob import glob\n",
    "from tqdm import tqdm\n",
    "from pathlib import Path\n",
    "import shapefile\n",
    "import shapely\n",
    "from shapely.geometry import Point\n",
    "\n",
    "from gensim.utils import deaccent"
   ]
  },
  {
   "cell_type": "code",
   "execution_count": 2,
   "metadata": {},
   "outputs": [
    {
     "data": {
      "text/html": [
       "<div>\n",
       "<style scoped>\n",
       "    .dataframe tbody tr th:only-of-type {\n",
       "        vertical-align: middle;\n",
       "    }\n",
       "\n",
       "    .dataframe tbody tr th {\n",
       "        vertical-align: top;\n",
       "    }\n",
       "\n",
       "    .dataframe thead th {\n",
       "        text-align: right;\n",
       "    }\n",
       "</style>\n",
       "<table border=\"1\" class=\"dataframe\">\n",
       "  <thead>\n",
       "    <tr style=\"text-align: right;\">\n",
       "      <th></th>\n",
       "      <th>loc_type</th>\n",
       "      <th>FB_key</th>\n",
       "      <th>loc_name</th>\n",
       "      <th>country_code</th>\n",
       "      <th>country_name</th>\n",
       "      <th>FB_region</th>\n",
       "      <th>FB_region_key</th>\n",
       "      <th>loc_targeting</th>\n",
       "    </tr>\n",
       "  </thead>\n",
       "  <tbody>\n",
       "    <tr>\n",
       "      <th>0</th>\n",
       "      <td>countries</td>\n",
       "      <td>AG</td>\n",
       "      <td>Antigua</td>\n",
       "      <td>NaN</td>\n",
       "      <td>NaN</td>\n",
       "      <td>NaN</td>\n",
       "      <td>NaN</td>\n",
       "      <td>home, recent</td>\n",
       "    </tr>\n",
       "    <tr>\n",
       "      <th>1</th>\n",
       "      <td>countries</td>\n",
       "      <td>AR</td>\n",
       "      <td>Argentina</td>\n",
       "      <td>NaN</td>\n",
       "      <td>NaN</td>\n",
       "      <td>NaN</td>\n",
       "      <td>NaN</td>\n",
       "      <td>home, recent</td>\n",
       "    </tr>\n",
       "    <tr>\n",
       "      <th>2</th>\n",
       "      <td>countries</td>\n",
       "      <td>AW</td>\n",
       "      <td>Aruba</td>\n",
       "      <td>NaN</td>\n",
       "      <td>NaN</td>\n",
       "      <td>NaN</td>\n",
       "      <td>NaN</td>\n",
       "      <td>home, recent</td>\n",
       "    </tr>\n",
       "    <tr>\n",
       "      <th>3</th>\n",
       "      <td>countries</td>\n",
       "      <td>BB</td>\n",
       "      <td>Barbados</td>\n",
       "      <td>NaN</td>\n",
       "      <td>NaN</td>\n",
       "      <td>NaN</td>\n",
       "      <td>NaN</td>\n",
       "      <td>home, recent</td>\n",
       "    </tr>\n",
       "    <tr>\n",
       "      <th>4</th>\n",
       "      <td>countries</td>\n",
       "      <td>BM</td>\n",
       "      <td>Bermuda</td>\n",
       "      <td>NaN</td>\n",
       "      <td>NaN</td>\n",
       "      <td>NaN</td>\n",
       "      <td>NaN</td>\n",
       "      <td>home, recent</td>\n",
       "    </tr>\n",
       "  </tbody>\n",
       "</table>\n",
       "</div>"
      ],
      "text/plain": [
       "    loc_type FB_key   loc_name country_code country_name FB_region  \\\n",
       "0  countries     AG    Antigua          NaN          NaN       NaN   \n",
       "1  countries     AR  Argentina          NaN          NaN       NaN   \n",
       "2  countries     AW      Aruba          NaN          NaN       NaN   \n",
       "3  countries     BB   Barbados          NaN          NaN       NaN   \n",
       "4  countries     BM    Bermuda          NaN          NaN       NaN   \n",
       "\n",
       "   FB_region_key loc_targeting  \n",
       "0            NaN  home, recent  \n",
       "1            NaN  home, recent  \n",
       "2            NaN  home, recent  \n",
       "3            NaN  home, recent  \n",
       "4            NaN  home, recent  "
      ]
     },
     "execution_count": 2,
     "metadata": {},
     "output_type": "execute_result"
    }
   ],
   "source": [
    "df = pd.read_excel('../Data/FB_locations_210405.xlsx')\n",
    "df.head()"
   ]
  },
  {
   "cell_type": "code",
   "execution_count": 3,
   "metadata": {},
   "outputs": [],
   "source": [
    "for col in ['loc_name', 'FB_region']:\n",
    "    df[col + '_c'] = df[col].str.lower().apply(lambda x: deaccent(x) if isinstance(x, str) else x)"
   ]
  },
  {
   "cell_type": "code",
   "execution_count": 4,
   "metadata": {},
   "outputs": [],
   "source": [
    "with open('../Data/Countries_edited.yml') as f:\n",
    "    countries = yaml.safe_load(f)\n",
    "\n",
    "codes = {}\n",
    "for country in countries:\n",
    "    for code in country['codes']:\n",
    "        codes[code] = country['iso3'][0]\n",
    "            \n",
    "codes.update({'AG': 'ATG', 'BO': 'BOL', 'DO': 'DOM', 'ES': 'ESP',\n",
    "             'KN': 'KNA', 'KY': 'CYM', 'NI': 'NIC', 'PA': 'PAN', \n",
    "              'TT': 'TTO', 'VI': 'VIR', 'SX': 'SXM', 'TC': 'TCA'})"
   ]
  },
  {
   "cell_type": "markdown",
   "metadata": {},
   "source": [
    "# ADM0"
   ]
  },
  {
   "cell_type": "code",
   "execution_count": 5,
   "metadata": {},
   "outputs": [],
   "source": [
    "mask = df['loc_type'] == 'countries'\n",
    "df['adm0'] = np.where(mask, \n",
    "                      df.loc[:, 'FB_key'].map(codes),\n",
    "                      df.loc[:, 'country_code'].map(codes))\n",
    "\n",
    "assert df['adm0'].isnull().sum() == 0"
   ]
  },
  {
   "cell_type": "markdown",
   "metadata": {},
   "source": [
    "# ADM1"
   ]
  },
  {
   "cell_type": "code",
   "execution_count": 6,
   "metadata": {},
   "outputs": [],
   "source": [
    "adm = pd.read_csv('../Data/GADM_codes.csv')\n",
    "adm.columns = [x.lower() for x in adm.columns]\n",
    "\n",
    "for col in adm.filter(regex=r'.*_name$').columns:\n",
    "    adm[col] = adm[col].str.lower().apply(lambda x: deaccent(x) if isinstance(x, str) else x)"
   ]
  },
  {
   "cell_type": "code",
   "execution_count": 7,
   "metadata": {},
   "outputs": [
    {
     "data": {
      "text/plain": [
       "125"
      ]
     },
     "execution_count": 7,
     "metadata": {},
     "output_type": "execute_result"
    }
   ],
   "source": [
    "mask = df['loc_type'] == 'regions'\n",
    "idx = df[mask].index\n",
    "\n",
    "reg = adm.loc[adm['adm1'].notnull(), ['adm0', 'adm1_name', 'adm1']].drop_duplicates()\n",
    "\n",
    "merge = df[mask].merge(reg, left_on=['adm0', 'loc_name_c'], right_on=['adm0', 'adm1_name'], how='left')\n",
    "merge.index = idx\n",
    "df.loc[mask, 'adm1'] = merge['adm1']\n",
    "\n",
    "df.loc[mask, 'adm1'].isnull().sum()"
   ]
  },
  {
   "cell_type": "markdown",
   "metadata": {},
   "source": [
    "# ADM 2"
   ]
  },
  {
   "cell_type": "code",
   "execution_count": 8,
   "metadata": {},
   "outputs": [
    {
     "data": {
      "text/plain": [
       "138"
      ]
     },
     "execution_count": 8,
     "metadata": {},
     "output_type": "execute_result"
    }
   ],
   "source": [
    "mask = df['loc_type'] == 'cities'\n",
    "idx = df[mask].index\n",
    "\n",
    "reg = adm.loc[adm['adm2'].notnull()].drop_duplicates()\n",
    "\n",
    "merge = df[mask].merge(reg, \n",
    "                       left_on=['adm0', 'FB_region_c', 'loc_name_c'], \n",
    "                       right_on=['adm0', 'adm1_name', 'adm2_name'], \n",
    "                       how='left')\n",
    "merge.index = idx\n",
    "df.loc[mask, 'adm1'] = merge['adm1_y']\n",
    "df.loc[mask, 'adm2'] = merge['adm2']\n",
    "\n",
    "df.loc[mask, 'adm2'].isnull().sum()"
   ]
  },
  {
   "cell_type": "code",
   "execution_count": 9,
   "metadata": {},
   "outputs": [],
   "source": [
    "df.to_csv('../Output/FB/FB_locs_v0.csv', index=False)"
   ]
  },
  {
   "cell_type": "markdown",
   "metadata": {},
   "source": [
    "# Reviewed"
   ]
  },
  {
   "cell_type": "code",
   "execution_count": 15,
   "metadata": {},
   "outputs": [],
   "source": [
    "df = pd.read_csv('../Output/FB/FB_locs_v1.csv')"
   ]
  },
  {
   "cell_type": "code",
   "execution_count": 16,
   "metadata": {},
   "outputs": [
    {
     "name": "stderr",
     "output_type": "stream",
     "text": [
      "100%|██████████| 276/276 [02:31<00:00,  1.83it/s]\n"
     ]
    }
   ],
   "source": [
    "shps = glob('../Shapefiles/preprocessed/*.shp')\n",
    "shapes_by_country = {}\n",
    "for i, shp in tqdm(enumerate(shps), total=len(shps)):\n",
    "    codes = Path(shp).name.replace('.shp', '').split('_')\n",
    "    shp = shapefile.Reader(shp)\n",
    "    shapes = [shapely.geometry.shape(s) for s in shp.shapes()]\n",
    "    records = shp.records()\n",
    "    \n",
    "    for code in codes:\n",
    "        shapes_by_country[code] = []\n",
    "        for shape, record in zip(shapes, records):\n",
    "            shapes_by_country[code].append((shape, *record))\n",
    "    \n",
    "assert 'GT' in shapes_by_country and 'PM' in shapes_by_country"
   ]
  },
  {
   "cell_type": "code",
   "execution_count": 17,
   "metadata": {},
   "outputs": [
    {
     "name": "stderr",
     "output_type": "stream",
     "text": [
      "Finding codes: 100%|██████████| 2/2 [00:00<00:00, 240.77it/s]\n"
     ]
    }
   ],
   "source": [
    "mask = df['lat'].notnull()\n",
    "pbar = tqdm(total=mask.sum(), desc='Finding codes')  \n",
    "for idx, row in df[mask].iterrows():\n",
    "    coordinates = (row['lon'], row['lat'])\n",
    "    point = Point(coordinates)\n",
    "    nearest_record = None\n",
    "    nearest_distance = np.inf\n",
    "    for shape, country, adm1, adm2 in shapes_by_country[row['adm0']]:\n",
    "        if point.within(shape):\n",
    "            df.loc[idx, 'adm0'] = country\n",
    "            df.loc[idx, 'adm2'] = adm2\n",
    "            df.loc[idx, 'adm1'] = adm1\n",
    "            break    \n",
    "    else:\n",
    "        print('Missing:', row)\n",
    "    pbar.update(1)\n",
    "pbar.close()"
   ]
  },
  {
   "cell_type": "code",
   "execution_count": 18,
   "metadata": {},
   "outputs": [],
   "source": [
    "df.to_csv('../Output/FB/FB_locs_v2.csv', index=False)"
   ]
  }
 ],
 "metadata": {
  "kernelspec": {
   "display_name": "Python 3",
   "language": "python",
   "name": "python3"
  },
  "language_info": {
   "codemirror_mode": {
    "name": "ipython",
    "version": 3
   },
   "file_extension": ".py",
   "mimetype": "text/x-python",
   "name": "python",
   "nbconvert_exporter": "python",
   "pygments_lexer": "ipython3",
   "version": "3.8.3"
  }
 },
 "nbformat": 4,
 "nbformat_minor": 4
}
